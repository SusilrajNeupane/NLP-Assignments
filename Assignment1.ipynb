{
 "cells": [
  {
   "cell_type": "markdown",
   "id": "1214a806",
   "metadata": {},
   "source": [
    "# NLP Using Pyathon"
   ]
  },
  {
   "cell_type": "code",
   "execution_count": 1,
   "id": "8ef9dab5",
   "metadata": {},
   "outputs": [],
   "source": [
    "# installing various libraries\n",
    "# pip install pandas"
   ]
  },
  {
   "cell_type": "code",
   "execution_count": 2,
   "id": "dfa94f24",
   "metadata": {},
   "outputs": [],
   "source": [
    "# importing our data\n",
    "import pandas as pd"
   ]
  },
  {
   "cell_type": "code",
   "execution_count": 2,
   "id": "e2552302",
   "metadata": {},
   "outputs": [],
   "source": [
    "df = pd.read_csv('flight_data.csv')"
   ]
  },
  {
   "cell_type": "code",
   "execution_count": 3,
   "id": "5ba10a95",
   "metadata": {
    "scrolled": true
   },
   "outputs": [
    {
     "data": {
      "text/html": [
       "<div>\n",
       "<style scoped>\n",
       "    .dataframe tbody tr th:only-of-type {\n",
       "        vertical-align: middle;\n",
       "    }\n",
       "\n",
       "    .dataframe tbody tr th {\n",
       "        vertical-align: top;\n",
       "    }\n",
       "\n",
       "    .dataframe thead th {\n",
       "        text-align: right;\n",
       "    }\n",
       "</style>\n",
       "<table border=\"1\" class=\"dataframe\">\n",
       "  <thead>\n",
       "    <tr style=\"text-align: right;\">\n",
       "      <th></th>\n",
       "      <th>YEAR</th>\n",
       "      <th>MONTH</th>\n",
       "      <th>DAY</th>\n",
       "      <th>CARRIER</th>\n",
       "      <th>ORIGIN</th>\n",
       "      <th>DEST</th>\n",
       "      <th>SCHED_DEP_TIME</th>\n",
       "      <th>ACT_DEP_TIME</th>\n",
       "      <th>DEP_DELAY</th>\n",
       "      <th>SCHED_ARR_TIME</th>\n",
       "      <th>ACT_ARR_TIME</th>\n",
       "      <th>ARR_DELAY</th>\n",
       "    </tr>\n",
       "  </thead>\n",
       "  <tbody>\n",
       "    <tr>\n",
       "      <th>0</th>\n",
       "      <td>2019</td>\n",
       "      <td>7</td>\n",
       "      <td>24</td>\n",
       "      <td>G4</td>\n",
       "      <td>PIE</td>\n",
       "      <td>AVL</td>\n",
       "      <td>1511</td>\n",
       "      <td>1533.0</td>\n",
       "      <td>22.0</td>\n",
       "      <td>1644</td>\n",
       "      <td>1659.0</td>\n",
       "      <td>15.0</td>\n",
       "    </tr>\n",
       "    <tr>\n",
       "      <th>1</th>\n",
       "      <td>2019</td>\n",
       "      <td>7</td>\n",
       "      <td>29</td>\n",
       "      <td>G4</td>\n",
       "      <td>AUS</td>\n",
       "      <td>SFB</td>\n",
       "      <td>2002</td>\n",
       "      <td>2010.0</td>\n",
       "      <td>8.0</td>\n",
       "      <td>2335</td>\n",
       "      <td>2344.0</td>\n",
       "      <td>9.0</td>\n",
       "    </tr>\n",
       "    <tr>\n",
       "      <th>2</th>\n",
       "      <td>2019</td>\n",
       "      <td>7</td>\n",
       "      <td>7</td>\n",
       "      <td>G4</td>\n",
       "      <td>GRI</td>\n",
       "      <td>LAS</td>\n",
       "      <td>1118</td>\n",
       "      <td>1118.0</td>\n",
       "      <td>0.0</td>\n",
       "      <td>1144</td>\n",
       "      <td>1139.0</td>\n",
       "      <td>-5.0</td>\n",
       "    </tr>\n",
       "    <tr>\n",
       "      <th>3</th>\n",
       "      <td>2019</td>\n",
       "      <td>7</td>\n",
       "      <td>7</td>\n",
       "      <td>G4</td>\n",
       "      <td>AUS</td>\n",
       "      <td>MEM</td>\n",
       "      <td>1643</td>\n",
       "      <td>1726.0</td>\n",
       "      <td>43.0</td>\n",
       "      <td>1827</td>\n",
       "      <td>1922.0</td>\n",
       "      <td>55.0</td>\n",
       "    </tr>\n",
       "    <tr>\n",
       "      <th>4</th>\n",
       "      <td>2019</td>\n",
       "      <td>7</td>\n",
       "      <td>8</td>\n",
       "      <td>G4</td>\n",
       "      <td>IND</td>\n",
       "      <td>PIE</td>\n",
       "      <td>858</td>\n",
       "      <td>905.0</td>\n",
       "      <td>7.0</td>\n",
       "      <td>1107</td>\n",
       "      <td>1119.0</td>\n",
       "      <td>12.0</td>\n",
       "    </tr>\n",
       "    <tr>\n",
       "      <th>5</th>\n",
       "      <td>2019</td>\n",
       "      <td>7</td>\n",
       "      <td>20</td>\n",
       "      <td>G4</td>\n",
       "      <td>PBG</td>\n",
       "      <td>FLL</td>\n",
       "      <td>1139</td>\n",
       "      <td>1135.0</td>\n",
       "      <td>-4.0</td>\n",
       "      <td>1457</td>\n",
       "      <td>1436.0</td>\n",
       "      <td>-21.0</td>\n",
       "    </tr>\n",
       "    <tr>\n",
       "      <th>6</th>\n",
       "      <td>2019</td>\n",
       "      <td>7</td>\n",
       "      <td>25</td>\n",
       "      <td>G4</td>\n",
       "      <td>GRR</td>\n",
       "      <td>AZA</td>\n",
       "      <td>1233</td>\n",
       "      <td>1240.0</td>\n",
       "      <td>7.0</td>\n",
       "      <td>1315</td>\n",
       "      <td>1314.0</td>\n",
       "      <td>-1.0</td>\n",
       "    </tr>\n",
       "    <tr>\n",
       "      <th>7</th>\n",
       "      <td>2019</td>\n",
       "      <td>7</td>\n",
       "      <td>31</td>\n",
       "      <td>G4</td>\n",
       "      <td>BNA</td>\n",
       "      <td>CID</td>\n",
       "      <td>1529</td>\n",
       "      <td>1528.0</td>\n",
       "      <td>-1.0</td>\n",
       "      <td>1701</td>\n",
       "      <td>1654.0</td>\n",
       "      <td>-7.0</td>\n",
       "    </tr>\n",
       "    <tr>\n",
       "      <th>8</th>\n",
       "      <td>2019</td>\n",
       "      <td>7</td>\n",
       "      <td>2</td>\n",
       "      <td>G4</td>\n",
       "      <td>SFB</td>\n",
       "      <td>LIT</td>\n",
       "      <td>1800</td>\n",
       "      <td>1907.0</td>\n",
       "      <td>67.0</td>\n",
       "      <td>1911</td>\n",
       "      <td>2016.0</td>\n",
       "      <td>65.0</td>\n",
       "    </tr>\n",
       "    <tr>\n",
       "      <th>9</th>\n",
       "      <td>2019</td>\n",
       "      <td>7</td>\n",
       "      <td>2</td>\n",
       "      <td>G4</td>\n",
       "      <td>SFB</td>\n",
       "      <td>DSM</td>\n",
       "      <td>1141</td>\n",
       "      <td>1136.0</td>\n",
       "      <td>-5.0</td>\n",
       "      <td>1330</td>\n",
       "      <td>1327.0</td>\n",
       "      <td>-3.0</td>\n",
       "    </tr>\n",
       "    <tr>\n",
       "      <th>10</th>\n",
       "      <td>2019</td>\n",
       "      <td>7</td>\n",
       "      <td>4</td>\n",
       "      <td>G4</td>\n",
       "      <td>PSC</td>\n",
       "      <td>LAX</td>\n",
       "      <td>1842</td>\n",
       "      <td>1854.0</td>\n",
       "      <td>12.0</td>\n",
       "      <td>2104</td>\n",
       "      <td>2125.0</td>\n",
       "      <td>21.0</td>\n",
       "    </tr>\n",
       "    <tr>\n",
       "      <th>11</th>\n",
       "      <td>2019</td>\n",
       "      <td>7</td>\n",
       "      <td>18</td>\n",
       "      <td>G4</td>\n",
       "      <td>RFD</td>\n",
       "      <td>PGD</td>\n",
       "      <td>1639</td>\n",
       "      <td>1652.0</td>\n",
       "      <td>13.0</td>\n",
       "      <td>2019</td>\n",
       "      <td>2035.0</td>\n",
       "      <td>16.0</td>\n",
       "    </tr>\n",
       "    <tr>\n",
       "      <th>12</th>\n",
       "      <td>2019</td>\n",
       "      <td>7</td>\n",
       "      <td>19</td>\n",
       "      <td>G4</td>\n",
       "      <td>TUS</td>\n",
       "      <td>PVU</td>\n",
       "      <td>1528</td>\n",
       "      <td>1527.0</td>\n",
       "      <td>-1.0</td>\n",
       "      <td>1808</td>\n",
       "      <td>1756.0</td>\n",
       "      <td>-12.0</td>\n",
       "    </tr>\n",
       "    <tr>\n",
       "      <th>13</th>\n",
       "      <td>2019</td>\n",
       "      <td>7</td>\n",
       "      <td>19</td>\n",
       "      <td>G4</td>\n",
       "      <td>PIE</td>\n",
       "      <td>FWA</td>\n",
       "      <td>1817</td>\n",
       "      <td>1813.0</td>\n",
       "      <td>-4.0</td>\n",
       "      <td>2034</td>\n",
       "      <td>2023.0</td>\n",
       "      <td>-11.0</td>\n",
       "    </tr>\n",
       "    <tr>\n",
       "      <th>14</th>\n",
       "      <td>2019</td>\n",
       "      <td>7</td>\n",
       "      <td>21</td>\n",
       "      <td>G4</td>\n",
       "      <td>BLV</td>\n",
       "      <td>LAS</td>\n",
       "      <td>1242</td>\n",
       "      <td>1231.0</td>\n",
       "      <td>-11.0</td>\n",
       "      <td>1405</td>\n",
       "      <td>1340.0</td>\n",
       "      <td>-25.0</td>\n",
       "    </tr>\n",
       "    <tr>\n",
       "      <th>15</th>\n",
       "      <td>2019</td>\n",
       "      <td>7</td>\n",
       "      <td>2</td>\n",
       "      <td>G4</td>\n",
       "      <td>LCK</td>\n",
       "      <td>PIE</td>\n",
       "      <td>1021</td>\n",
       "      <td>1014.0</td>\n",
       "      <td>-7.0</td>\n",
       "      <td>1231</td>\n",
       "      <td>1218.0</td>\n",
       "      <td>-13.0</td>\n",
       "    </tr>\n",
       "    <tr>\n",
       "      <th>16</th>\n",
       "      <td>2019</td>\n",
       "      <td>7</td>\n",
       "      <td>15</td>\n",
       "      <td>G4</td>\n",
       "      <td>TYS</td>\n",
       "      <td>BWI</td>\n",
       "      <td>1348</td>\n",
       "      <td>1344.0</td>\n",
       "      <td>-4.0</td>\n",
       "      <td>1516</td>\n",
       "      <td>1519.0</td>\n",
       "      <td>3.0</td>\n",
       "    </tr>\n",
       "    <tr>\n",
       "      <th>17</th>\n",
       "      <td>2019</td>\n",
       "      <td>7</td>\n",
       "      <td>12</td>\n",
       "      <td>G4</td>\n",
       "      <td>PGD</td>\n",
       "      <td>BNA</td>\n",
       "      <td>1036</td>\n",
       "      <td>1028.0</td>\n",
       "      <td>-8.0</td>\n",
       "      <td>1132</td>\n",
       "      <td>1109.0</td>\n",
       "      <td>-23.0</td>\n",
       "    </tr>\n",
       "    <tr>\n",
       "      <th>18</th>\n",
       "      <td>2019</td>\n",
       "      <td>7</td>\n",
       "      <td>16</td>\n",
       "      <td>G4</td>\n",
       "      <td>CID</td>\n",
       "      <td>PIE</td>\n",
       "      <td>1720</td>\n",
       "      <td>1835.0</td>\n",
       "      <td>75.0</td>\n",
       "      <td>2056</td>\n",
       "      <td>2213.0</td>\n",
       "      <td>77.0</td>\n",
       "    </tr>\n",
       "    <tr>\n",
       "      <th>19</th>\n",
       "      <td>2019</td>\n",
       "      <td>7</td>\n",
       "      <td>17</td>\n",
       "      <td>G4</td>\n",
       "      <td>AZA</td>\n",
       "      <td>LAS</td>\n",
       "      <td>930</td>\n",
       "      <td>1018.0</td>\n",
       "      <td>48.0</td>\n",
       "      <td>1036</td>\n",
       "      <td>1121.0</td>\n",
       "      <td>45.0</td>\n",
       "    </tr>\n",
       "    <tr>\n",
       "      <th>20</th>\n",
       "      <td>2019</td>\n",
       "      <td>7</td>\n",
       "      <td>21</td>\n",
       "      <td>G4</td>\n",
       "      <td>PIE</td>\n",
       "      <td>TYS</td>\n",
       "      <td>1612</td>\n",
       "      <td>1608.0</td>\n",
       "      <td>-4.0</td>\n",
       "      <td>1749</td>\n",
       "      <td>1748.0</td>\n",
       "      <td>-1.0</td>\n",
       "    </tr>\n",
       "    <tr>\n",
       "      <th>21</th>\n",
       "      <td>2019</td>\n",
       "      <td>7</td>\n",
       "      <td>2</td>\n",
       "      <td>G4</td>\n",
       "      <td>LAS</td>\n",
       "      <td>ELP</td>\n",
       "      <td>710</td>\n",
       "      <td>704.0</td>\n",
       "      <td>-6.0</td>\n",
       "      <td>949</td>\n",
       "      <td>946.0</td>\n",
       "      <td>-3.0</td>\n",
       "    </tr>\n",
       "    <tr>\n",
       "      <th>22</th>\n",
       "      <td>2019</td>\n",
       "      <td>7</td>\n",
       "      <td>2</td>\n",
       "      <td>G4</td>\n",
       "      <td>BOI</td>\n",
       "      <td>LAX</td>\n",
       "      <td>1847</td>\n",
       "      <td>1842.0</td>\n",
       "      <td>-5.0</td>\n",
       "      <td>1958</td>\n",
       "      <td>1957.0</td>\n",
       "      <td>-1.0</td>\n",
       "    </tr>\n",
       "    <tr>\n",
       "      <th>23</th>\n",
       "      <td>2019</td>\n",
       "      <td>7</td>\n",
       "      <td>9</td>\n",
       "      <td>G4</td>\n",
       "      <td>TYS</td>\n",
       "      <td>VPS</td>\n",
       "      <td>1439</td>\n",
       "      <td>1430.0</td>\n",
       "      <td>-9.0</td>\n",
       "      <td>1459</td>\n",
       "      <td>1451.0</td>\n",
       "      <td>-8.0</td>\n",
       "    </tr>\n",
       "  </tbody>\n",
       "</table>\n",
       "</div>"
      ],
      "text/plain": [
       "    YEAR  MONTH  DAY CARRIER ORIGIN DEST  SCHED_DEP_TIME  ACT_DEP_TIME  \\\n",
       "0   2019      7   24      G4    PIE  AVL            1511        1533.0   \n",
       "1   2019      7   29      G4    AUS  SFB            2002        2010.0   \n",
       "2   2019      7    7      G4    GRI  LAS            1118        1118.0   \n",
       "3   2019      7    7      G4    AUS  MEM            1643        1726.0   \n",
       "4   2019      7    8      G4    IND  PIE             858         905.0   \n",
       "5   2019      7   20      G4    PBG  FLL            1139        1135.0   \n",
       "6   2019      7   25      G4    GRR  AZA            1233        1240.0   \n",
       "7   2019      7   31      G4    BNA  CID            1529        1528.0   \n",
       "8   2019      7    2      G4    SFB  LIT            1800        1907.0   \n",
       "9   2019      7    2      G4    SFB  DSM            1141        1136.0   \n",
       "10  2019      7    4      G4    PSC  LAX            1842        1854.0   \n",
       "11  2019      7   18      G4    RFD  PGD            1639        1652.0   \n",
       "12  2019      7   19      G4    TUS  PVU            1528        1527.0   \n",
       "13  2019      7   19      G4    PIE  FWA            1817        1813.0   \n",
       "14  2019      7   21      G4    BLV  LAS            1242        1231.0   \n",
       "15  2019      7    2      G4    LCK  PIE            1021        1014.0   \n",
       "16  2019      7   15      G4    TYS  BWI            1348        1344.0   \n",
       "17  2019      7   12      G4    PGD  BNA            1036        1028.0   \n",
       "18  2019      7   16      G4    CID  PIE            1720        1835.0   \n",
       "19  2019      7   17      G4    AZA  LAS             930        1018.0   \n",
       "20  2019      7   21      G4    PIE  TYS            1612        1608.0   \n",
       "21  2019      7    2      G4    LAS  ELP             710         704.0   \n",
       "22  2019      7    2      G4    BOI  LAX            1847        1842.0   \n",
       "23  2019      7    9      G4    TYS  VPS            1439        1430.0   \n",
       "\n",
       "    DEP_DELAY  SCHED_ARR_TIME  ACT_ARR_TIME  ARR_DELAY  \n",
       "0        22.0            1644        1659.0       15.0  \n",
       "1         8.0            2335        2344.0        9.0  \n",
       "2         0.0            1144        1139.0       -5.0  \n",
       "3        43.0            1827        1922.0       55.0  \n",
       "4         7.0            1107        1119.0       12.0  \n",
       "5        -4.0            1457        1436.0      -21.0  \n",
       "6         7.0            1315        1314.0       -1.0  \n",
       "7        -1.0            1701        1654.0       -7.0  \n",
       "8        67.0            1911        2016.0       65.0  \n",
       "9        -5.0            1330        1327.0       -3.0  \n",
       "10       12.0            2104        2125.0       21.0  \n",
       "11       13.0            2019        2035.0       16.0  \n",
       "12       -1.0            1808        1756.0      -12.0  \n",
       "13       -4.0            2034        2023.0      -11.0  \n",
       "14      -11.0            1405        1340.0      -25.0  \n",
       "15       -7.0            1231        1218.0      -13.0  \n",
       "16       -4.0            1516        1519.0        3.0  \n",
       "17       -8.0            1132        1109.0      -23.0  \n",
       "18       75.0            2056        2213.0       77.0  \n",
       "19       48.0            1036        1121.0       45.0  \n",
       "20       -4.0            1749        1748.0       -1.0  \n",
       "21       -6.0             949         946.0       -3.0  \n",
       "22       -5.0            1958        1957.0       -1.0  \n",
       "23       -9.0            1459        1451.0       -8.0  "
      ]
     },
     "execution_count": 3,
     "metadata": {},
     "output_type": "execute_result"
    }
   ],
   "source": [
    "df.head(24)"
   ]
  },
  {
   "cell_type": "code",
   "execution_count": 6,
   "id": "57570bad",
   "metadata": {},
   "outputs": [],
   "source": [
    "# Python's utility in NLP"
   ]
  },
  {
   "cell_type": "code",
   "execution_count": 7,
   "id": "38a66b91",
   "metadata": {},
   "outputs": [
    {
     "data": {
      "text/plain": [
       "matrix([[1, 1, 1, 2]], dtype=int64)"
      ]
     },
     "execution_count": 7,
     "metadata": {},
     "output_type": "execute_result"
    }
   ],
   "source": [
    "# !pip install scikit-learn\n",
    "from sklearn.feature_extraction.text import CountVectorizer\n",
    "sentence = [\"How to change payment method and payment frequency\"]\n",
    "vectorizer = CountVectorizer(stop_words='english')\n",
    "vectorizer.fit_transform(sentence).todense()"
   ]
  },
  {
   "cell_type": "code",
   "execution_count": 8,
   "id": "63f6a869",
   "metadata": {},
   "outputs": [],
   "source": [
    "# NLTK natural language toolkit library\n",
    "# !pip install nltk\n"
   ]
  },
  {
   "cell_type": "code",
   "execution_count": 9,
   "id": "e547e943",
   "metadata": {
    "scrolled": true
   },
   "outputs": [
    {
     "ename": "LookupError",
     "evalue": "\n**********************************************************************\n  Resource \u001b[93mpunkt\u001b[0m not found.\n  Please use the NLTK Downloader to obtain the resource:\n\n  \u001b[31m>>> import nltk\n  >>> nltk.download('punkt')\n  \u001b[0m\n  For more information see: https://www.nltk.org/data.html\n\n  Attempted to load \u001b[93mtokenizers/punkt/english.pickle\u001b[0m\n\n  Searched in:\n    - 'C:\\\\Users\\\\Acer/nltk_data'\n    - 'C:\\\\Users\\\\Acer\\\\AppData\\\\Local\\\\Programs\\\\Python\\\\Python311\\\\nltk_data'\n    - 'C:\\\\Users\\\\Acer\\\\AppData\\\\Local\\\\Programs\\\\Python\\\\Python311\\\\share\\\\nltk_data'\n    - 'C:\\\\Users\\\\Acer\\\\AppData\\\\Local\\\\Programs\\\\Python\\\\Python311\\\\lib\\\\nltk_data'\n    - 'C:\\\\Users\\\\Acer\\\\AppData\\\\Roaming\\\\nltk_data'\n    - 'C:\\\\nltk_data'\n    - 'D:\\\\nltk_data'\n    - 'E:\\\\nltk_data'\n    - ''\n**********************************************************************\n",
     "output_type": "error",
     "traceback": [
      "\u001b[1;31m---------------------------------------------------------------------------\u001b[0m",
      "\u001b[1;31mLookupError\u001b[0m                               Traceback (most recent call last)",
      "Cell \u001b[1;32mIn [9], line 7\u001b[0m\n\u001b[0;32m      3\u001b[0m text \u001b[38;5;241m=\u001b[39m \u001b[38;5;124m\"\u001b[39m\u001b[38;5;124mWho would have thought that computer programs would be analyzing human sentiments\u001b[39m\u001b[38;5;124m\"\u001b[39m\n\u001b[0;32m      5\u001b[0m \u001b[38;5;28;01mfrom\u001b[39;00m \u001b[38;5;21;01mnltk\u001b[39;00m\u001b[38;5;21;01m.\u001b[39;00m\u001b[38;5;21;01mtokenize\u001b[39;00m \u001b[38;5;28;01mimport\u001b[39;00m word_tokenize\n\u001b[1;32m----> 7\u001b[0m tokens \u001b[38;5;241m=\u001b[39m \u001b[43mword_tokenize\u001b[49m\u001b[43m(\u001b[49m\u001b[43mtext\u001b[49m\u001b[43m)\u001b[49m\n\u001b[0;32m      9\u001b[0m \u001b[38;5;28mprint\u001b[39m(tokens)\n",
      "File \u001b[1;32m~\\AppData\\Local\\Programs\\Python\\Python311\\Lib\\site-packages\\nltk\\tokenize\\__init__.py:129\u001b[0m, in \u001b[0;36mword_tokenize\u001b[1;34m(text, language, preserve_line)\u001b[0m\n\u001b[0;32m    114\u001b[0m \u001b[38;5;28;01mdef\u001b[39;00m \u001b[38;5;21mword_tokenize\u001b[39m(text, language\u001b[38;5;241m=\u001b[39m\u001b[38;5;124m\"\u001b[39m\u001b[38;5;124menglish\u001b[39m\u001b[38;5;124m\"\u001b[39m, preserve_line\u001b[38;5;241m=\u001b[39m\u001b[38;5;28;01mFalse\u001b[39;00m):\n\u001b[0;32m    115\u001b[0m     \u001b[38;5;124;03m\"\"\"\u001b[39;00m\n\u001b[0;32m    116\u001b[0m \u001b[38;5;124;03m    Return a tokenized copy of *text*,\u001b[39;00m\n\u001b[0;32m    117\u001b[0m \u001b[38;5;124;03m    using NLTK's recommended word tokenizer\u001b[39;00m\n\u001b[1;32m   (...)\u001b[0m\n\u001b[0;32m    127\u001b[0m \u001b[38;5;124;03m    :type preserve_line: bool\u001b[39;00m\n\u001b[0;32m    128\u001b[0m \u001b[38;5;124;03m    \"\"\"\u001b[39;00m\n\u001b[1;32m--> 129\u001b[0m     sentences \u001b[38;5;241m=\u001b[39m [text] \u001b[38;5;28;01mif\u001b[39;00m preserve_line \u001b[38;5;28;01melse\u001b[39;00m \u001b[43msent_tokenize\u001b[49m\u001b[43m(\u001b[49m\u001b[43mtext\u001b[49m\u001b[43m,\u001b[49m\u001b[43m \u001b[49m\u001b[43mlanguage\u001b[49m\u001b[43m)\u001b[49m\n\u001b[0;32m    130\u001b[0m     \u001b[38;5;28;01mreturn\u001b[39;00m [\n\u001b[0;32m    131\u001b[0m         token \u001b[38;5;28;01mfor\u001b[39;00m sent \u001b[38;5;129;01min\u001b[39;00m sentences \u001b[38;5;28;01mfor\u001b[39;00m token \u001b[38;5;129;01min\u001b[39;00m _treebank_word_tokenizer\u001b[38;5;241m.\u001b[39mtokenize(sent)\n\u001b[0;32m    132\u001b[0m     ]\n",
      "File \u001b[1;32m~\\AppData\\Local\\Programs\\Python\\Python311\\Lib\\site-packages\\nltk\\tokenize\\__init__.py:106\u001b[0m, in \u001b[0;36msent_tokenize\u001b[1;34m(text, language)\u001b[0m\n\u001b[0;32m     96\u001b[0m \u001b[38;5;28;01mdef\u001b[39;00m \u001b[38;5;21msent_tokenize\u001b[39m(text, language\u001b[38;5;241m=\u001b[39m\u001b[38;5;124m\"\u001b[39m\u001b[38;5;124menglish\u001b[39m\u001b[38;5;124m\"\u001b[39m):\n\u001b[0;32m     97\u001b[0m     \u001b[38;5;124;03m\"\"\"\u001b[39;00m\n\u001b[0;32m     98\u001b[0m \u001b[38;5;124;03m    Return a sentence-tokenized copy of *text*,\u001b[39;00m\n\u001b[0;32m     99\u001b[0m \u001b[38;5;124;03m    using NLTK's recommended sentence tokenizer\u001b[39;00m\n\u001b[1;32m   (...)\u001b[0m\n\u001b[0;32m    104\u001b[0m \u001b[38;5;124;03m    :param language: the model name in the Punkt corpus\u001b[39;00m\n\u001b[0;32m    105\u001b[0m \u001b[38;5;124;03m    \"\"\"\u001b[39;00m\n\u001b[1;32m--> 106\u001b[0m     tokenizer \u001b[38;5;241m=\u001b[39m \u001b[43mload\u001b[49m\u001b[43m(\u001b[49m\u001b[38;5;124;43mf\u001b[39;49m\u001b[38;5;124;43m\"\u001b[39;49m\u001b[38;5;124;43mtokenizers/punkt/\u001b[39;49m\u001b[38;5;132;43;01m{\u001b[39;49;00m\u001b[43mlanguage\u001b[49m\u001b[38;5;132;43;01m}\u001b[39;49;00m\u001b[38;5;124;43m.pickle\u001b[39;49m\u001b[38;5;124;43m\"\u001b[39;49m\u001b[43m)\u001b[49m\n\u001b[0;32m    107\u001b[0m     \u001b[38;5;28;01mreturn\u001b[39;00m tokenizer\u001b[38;5;241m.\u001b[39mtokenize(text)\n",
      "File \u001b[1;32m~\\AppData\\Local\\Programs\\Python\\Python311\\Lib\\site-packages\\nltk\\data.py:750\u001b[0m, in \u001b[0;36mload\u001b[1;34m(resource_url, format, cache, verbose, logic_parser, fstruct_reader, encoding)\u001b[0m\n\u001b[0;32m    747\u001b[0m     \u001b[38;5;28mprint\u001b[39m(\u001b[38;5;124mf\u001b[39m\u001b[38;5;124m\"\u001b[39m\u001b[38;5;124m<<Loading \u001b[39m\u001b[38;5;132;01m{\u001b[39;00mresource_url\u001b[38;5;132;01m}\u001b[39;00m\u001b[38;5;124m>>\u001b[39m\u001b[38;5;124m\"\u001b[39m)\n\u001b[0;32m    749\u001b[0m \u001b[38;5;66;03m# Load the resource.\u001b[39;00m\n\u001b[1;32m--> 750\u001b[0m opened_resource \u001b[38;5;241m=\u001b[39m \u001b[43m_open\u001b[49m\u001b[43m(\u001b[49m\u001b[43mresource_url\u001b[49m\u001b[43m)\u001b[49m\n\u001b[0;32m    752\u001b[0m \u001b[38;5;28;01mif\u001b[39;00m \u001b[38;5;28mformat\u001b[39m \u001b[38;5;241m==\u001b[39m \u001b[38;5;124m\"\u001b[39m\u001b[38;5;124mraw\u001b[39m\u001b[38;5;124m\"\u001b[39m:\n\u001b[0;32m    753\u001b[0m     resource_val \u001b[38;5;241m=\u001b[39m opened_resource\u001b[38;5;241m.\u001b[39mread()\n",
      "File \u001b[1;32m~\\AppData\\Local\\Programs\\Python\\Python311\\Lib\\site-packages\\nltk\\data.py:876\u001b[0m, in \u001b[0;36m_open\u001b[1;34m(resource_url)\u001b[0m\n\u001b[0;32m    873\u001b[0m protocol, path_ \u001b[38;5;241m=\u001b[39m split_resource_url(resource_url)\n\u001b[0;32m    875\u001b[0m \u001b[38;5;28;01mif\u001b[39;00m protocol \u001b[38;5;129;01mis\u001b[39;00m \u001b[38;5;28;01mNone\u001b[39;00m \u001b[38;5;129;01mor\u001b[39;00m protocol\u001b[38;5;241m.\u001b[39mlower() \u001b[38;5;241m==\u001b[39m \u001b[38;5;124m\"\u001b[39m\u001b[38;5;124mnltk\u001b[39m\u001b[38;5;124m\"\u001b[39m:\n\u001b[1;32m--> 876\u001b[0m     \u001b[38;5;28;01mreturn\u001b[39;00m \u001b[43mfind\u001b[49m\u001b[43m(\u001b[49m\u001b[43mpath_\u001b[49m\u001b[43m,\u001b[49m\u001b[43m \u001b[49m\u001b[43mpath\u001b[49m\u001b[43m \u001b[49m\u001b[38;5;241;43m+\u001b[39;49m\u001b[43m \u001b[49m\u001b[43m[\u001b[49m\u001b[38;5;124;43m\"\u001b[39;49m\u001b[38;5;124;43m\"\u001b[39;49m\u001b[43m]\u001b[49m\u001b[43m)\u001b[49m\u001b[38;5;241m.\u001b[39mopen()\n\u001b[0;32m    877\u001b[0m \u001b[38;5;28;01melif\u001b[39;00m protocol\u001b[38;5;241m.\u001b[39mlower() \u001b[38;5;241m==\u001b[39m \u001b[38;5;124m\"\u001b[39m\u001b[38;5;124mfile\u001b[39m\u001b[38;5;124m\"\u001b[39m:\n\u001b[0;32m    878\u001b[0m     \u001b[38;5;66;03m# urllib might not use mode='rb', so handle this one ourselves:\u001b[39;00m\n\u001b[0;32m    879\u001b[0m     \u001b[38;5;28;01mreturn\u001b[39;00m find(path_, [\u001b[38;5;124m\"\u001b[39m\u001b[38;5;124m\"\u001b[39m])\u001b[38;5;241m.\u001b[39mopen()\n",
      "File \u001b[1;32m~\\AppData\\Local\\Programs\\Python\\Python311\\Lib\\site-packages\\nltk\\data.py:583\u001b[0m, in \u001b[0;36mfind\u001b[1;34m(resource_name, paths)\u001b[0m\n\u001b[0;32m    581\u001b[0m sep \u001b[38;5;241m=\u001b[39m \u001b[38;5;124m\"\u001b[39m\u001b[38;5;124m*\u001b[39m\u001b[38;5;124m\"\u001b[39m \u001b[38;5;241m*\u001b[39m \u001b[38;5;241m70\u001b[39m\n\u001b[0;32m    582\u001b[0m resource_not_found \u001b[38;5;241m=\u001b[39m \u001b[38;5;124mf\u001b[39m\u001b[38;5;124m\"\u001b[39m\u001b[38;5;130;01m\\n\u001b[39;00m\u001b[38;5;132;01m{\u001b[39;00msep\u001b[38;5;132;01m}\u001b[39;00m\u001b[38;5;130;01m\\n\u001b[39;00m\u001b[38;5;132;01m{\u001b[39;00mmsg\u001b[38;5;132;01m}\u001b[39;00m\u001b[38;5;130;01m\\n\u001b[39;00m\u001b[38;5;132;01m{\u001b[39;00msep\u001b[38;5;132;01m}\u001b[39;00m\u001b[38;5;130;01m\\n\u001b[39;00m\u001b[38;5;124m\"\u001b[39m\n\u001b[1;32m--> 583\u001b[0m \u001b[38;5;28;01mraise\u001b[39;00m \u001b[38;5;167;01mLookupError\u001b[39;00m(resource_not_found)\n",
      "\u001b[1;31mLookupError\u001b[0m: \n**********************************************************************\n  Resource \u001b[93mpunkt\u001b[0m not found.\n  Please use the NLTK Downloader to obtain the resource:\n\n  \u001b[31m>>> import nltk\n  >>> nltk.download('punkt')\n  \u001b[0m\n  For more information see: https://www.nltk.org/data.html\n\n  Attempted to load \u001b[93mtokenizers/punkt/english.pickle\u001b[0m\n\n  Searched in:\n    - 'C:\\\\Users\\\\Acer/nltk_data'\n    - 'C:\\\\Users\\\\Acer\\\\AppData\\\\Local\\\\Programs\\\\Python\\\\Python311\\\\nltk_data'\n    - 'C:\\\\Users\\\\Acer\\\\AppData\\\\Local\\\\Programs\\\\Python\\\\Python311\\\\share\\\\nltk_data'\n    - 'C:\\\\Users\\\\Acer\\\\AppData\\\\Local\\\\Programs\\\\Python\\\\Python311\\\\lib\\\\nltk_data'\n    - 'C:\\\\Users\\\\Acer\\\\AppData\\\\Roaming\\\\nltk_data'\n    - 'C:\\\\nltk_data'\n    - 'D:\\\\nltk_data'\n    - 'E:\\\\nltk_data'\n    - ''\n**********************************************************************\n"
     ]
    }
   ],
   "source": [
    "import nltk\n",
    "\n",
    "text = \"Who would have thought that computer programs would be analyzing human sentiments\"\n",
    "\n",
    "from nltk.tokenize import word_tokenize\n",
    "\n",
    "tokens = word_tokenize(text)\n",
    "\n",
    "print(tokens)"
   ]
  },
  {
   "cell_type": "code",
   "execution_count": 10,
   "id": "cfab7b17",
   "metadata": {},
   "outputs": [
    {
     "name": "stderr",
     "output_type": "stream",
     "text": [
      "[nltk_data] Downloading package punkt to\n",
      "[nltk_data]     C:\\Users\\Acer\\AppData\\Roaming\\nltk_data...\n",
      "[nltk_data]   Unzipping tokenizers\\punkt.zip.\n"
     ]
    },
    {
     "data": {
      "text/plain": [
       "True"
      ]
     },
     "execution_count": 10,
     "metadata": {},
     "output_type": "execute_result"
    }
   ],
   "source": [
    "import nltk\n",
    "nltk.download('punkt')"
   ]
  },
  {
   "cell_type": "code",
   "execution_count": 11,
   "id": "cf101fd1",
   "metadata": {},
   "outputs": [
    {
     "name": "stdout",
     "output_type": "stream",
     "text": [
      "['Who', 'would', 'have', 'thought', 'that', 'computer', 'programs', 'would', 'be', 'analyzing', 'human', 'sentiments']\n"
     ]
    }
   ],
   "source": [
    "text = \"Who would have thought that computer programs would be analyzing human sentiments\"\n",
    "\n",
    "from nltk.tokenize import word_tokenize\n",
    "\n",
    "tokens = word_tokenize(text)\n",
    "\n",
    "print(tokens)"
   ]
  },
  {
   "cell_type": "code",
   "execution_count": 12,
   "id": "3d15027b",
   "metadata": {},
   "outputs": [],
   "source": [
    "# getting stop words in english"
   ]
  },
  {
   "cell_type": "code",
   "execution_count": 17,
   "id": "62d9bcfb",
   "metadata": {
    "collapsed": true
   },
   "outputs": [
    {
     "name": "stderr",
     "output_type": "stream",
     "text": [
      "[nltk_data] Downloading package stopwords to\n",
      "[nltk_data]     C:\\Users\\Acer\\AppData\\Roaming\\nltk_data...\n"
     ]
    },
    {
     "name": "stdout",
     "output_type": "stream",
     "text": [
      "['i', 'me', 'my', 'myself', 'we', 'our', 'ours', 'ourselves', 'you', \"you're\", \"you've\", \"you'll\", \"you'd\", 'your', 'yours', 'yourself', 'yourselves', 'he', 'him', 'his', 'himself', 'she', \"she's\", 'her', 'hers', 'herself', 'it', \"it's\", 'its', 'itself', 'they', 'them', 'their', 'theirs', 'themselves', 'what', 'which', 'who', 'whom', 'this', 'that', \"that'll\", 'these', 'those', 'am', 'is', 'are', 'was', 'were', 'be', 'been', 'being', 'have', 'has', 'had', 'having', 'do', 'does', 'did', 'doing', 'a', 'an', 'the', 'and', 'but', 'if', 'or', 'because', 'as', 'until', 'while', 'of', 'at', 'by', 'for', 'with', 'about', 'against', 'between', 'into', 'through', 'during', 'before', 'after', 'above', 'below', 'to', 'from', 'up', 'down', 'in', 'out', 'on', 'off', 'over', 'under', 'again', 'further', 'then', 'once', 'here', 'there', 'when', 'where', 'why', 'how', 'all', 'any', 'both', 'each', 'few', 'more', 'most', 'other', 'some', 'such', 'no', 'nor', 'not', 'only', 'own', 'same', 'so', 'than', 'too', 'very', 's', 't', 'can', 'will', 'just', 'don', \"don't\", 'should', \"should've\", 'now', 'd', 'll', 'm', 'o', 're', 've', 'y', 'ain', 'aren', \"aren't\", 'couldn', \"couldn't\", 'didn', \"didn't\", 'doesn', \"doesn't\", 'hadn', \"hadn't\", 'hasn', \"hasn't\", 'haven', \"haven't\", 'isn', \"isn't\", 'ma', 'mightn', \"mightn't\", 'mustn', \"mustn't\", 'needn', \"needn't\", 'shan', \"shan't\", 'shouldn', \"shouldn't\", 'wasn', \"wasn't\", 'weren', \"weren't\", 'won', \"won't\", 'wouldn', \"wouldn't\"]\n"
     ]
    },
    {
     "name": "stderr",
     "output_type": "stream",
     "text": [
      "[nltk_data]   Unzipping corpora\\stopwords.zip.\n"
     ]
    }
   ],
   "source": [
    "import nltk\n",
    "nltk.download('stopwords')\n",
    "stopwords = nltk.corpus.stopwords.words('english')\n",
    "print(stopwords)"
   ]
  },
  {
   "cell_type": "code",
   "execution_count": 19,
   "id": "db8a6f58",
   "metadata": {},
   "outputs": [
    {
     "data": {
      "text/plain": [
       "['Who',\n",
       " 'would',\n",
       " 'thought',\n",
       " 'computer',\n",
       " 'programs',\n",
       " 'would',\n",
       " 'analyzing',\n",
       " 'human',\n",
       " 'sentiments']"
      ]
     },
     "execution_count": 19,
     "metadata": {},
     "output_type": "execute_result"
    }
   ],
   "source": [
    "newtokens = [word for word in tokens if word not in stopwords]\n",
    "newtokens"
   ]
  },
  {
   "cell_type": "code",
   "execution_count": 22,
   "id": "c6e0d582",
   "metadata": {},
   "outputs": [
    {
     "name": "stderr",
     "output_type": "stream",
     "text": [
      "[nltk_data] Downloading package wordnet to\n",
      "[nltk_data]     C:\\Users\\Acer\\AppData\\Roaming\\nltk_data...\n"
     ]
    },
    {
     "data": {
      "text/plain": [
       "True"
      ]
     },
     "execution_count": 22,
     "metadata": {},
     "output_type": "execute_result"
    }
   ],
   "source": [
    "# further modify vector by using lemmatization and stemming\n",
    "nltk.download('wordnet')"
   ]
  },
  {
   "cell_type": "code",
   "execution_count": 26,
   "id": "7b5cb327",
   "metadata": {},
   "outputs": [
    {
     "data": {
      "text/plain": [
       "\" We can further modify our vector by using lemmatization and stemming, which are\\n techniques that are used to reduce words to their root form. The rationale behind this step\\n is that the imaginary n-dimensional space that we are navigating doesn't need to have\\n separate axes for a word and that word's inflected form (for example, eat and eating don't\\n need to be two separate axes). Therefore, we should reduce each word's inflected form to its\\n root form. However, this approach has its critics because, in many cases, inflected word\\n forms give a different meaning than the root word. For example, the sentences My manager\\n promised me promotion and He is a promising prospect use the inflected form of the root word\\n promise but in entirely different contexts. \""
      ]
     },
     "execution_count": 26,
     "metadata": {},
     "output_type": "execute_result"
    }
   ],
   "source": [
    "''' We can further modify our vector by using lemmatization and stemming, which are\n",
    " techniques that are used to reduce words to their root form. The rationale behind this step\n",
    " is that the imaginary n-dimensional space that we are navigating doesn't need to have\n",
    " separate axes for a word and that word's inflected form (for example, eat and eating don't\n",
    " need to be two separate axes). Therefore, we should reduce each word's inflected form to its\n",
    " root form. However, this approach has its critics because, in many cases, inflected word\n",
    " forms give a different meaning than the root word. For example, the sentences My manager\n",
    " promised me promotion and He is a promising prospect use the inflected form of the root word\n",
    " promise but in entirely different contexts. '''"
   ]
  },
  {
   "cell_type": "code",
   "execution_count": 23,
   "id": "deafae8a",
   "metadata": {},
   "outputs": [
    {
     "name": "stdout",
     "output_type": "stream",
     "text": [
      "['Who', 'would', 'have', 'thought', 'that', 'computer', 'program', 'would', 'be', 'analyzing', 'human', 'sentiment']\n"
     ]
    }
   ],
   "source": [
    "from nltk.stem import WordNetLemmatizer\n",
    "\n",
    "text = \"Who would have thought that computer programs would be analyzing human sentiments\"\n",
    "tokens = word_tokenize(text)\n",
    "lemmatizer = WordNetLemmatizer()\n",
    "tokens = [lemmatizer.lemmatize(word) for word in tokens]\n",
    "print(tokens)"
   ]
  },
  {
   "cell_type": "code",
   "execution_count": 24,
   "id": "7e5f1acd",
   "metadata": {},
   "outputs": [],
   "source": [
    "# stemming is similar to lemmatization but  instead of looking up root words in a pre-built\n",
    "#  dictionary, it defines some rules based on which words are reduced to their root form. For\n",
    "#  example, it has a rule that states that any word with ing as a suffix will be reduced by\n",
    "#  removing the suffix"
   ]
  },
  {
   "cell_type": "code",
   "execution_count": 28,
   "id": "e0e16593",
   "metadata": {},
   "outputs": [],
   "source": [
    "# stemming"
   ]
  },
  {
   "cell_type": "code",
   "execution_count": 31,
   "id": "50d70b20",
   "metadata": {},
   "outputs": [
    {
     "name": "stdout",
     "output_type": "stream",
     "text": [
      "['who', 'would', 'have', 'thought', 'that', 'comput', 'program', 'would', 'be', 'analyz', 'human', 'sentiment']\n"
     ]
    }
   ],
   "source": [
    "from nltk.stem import PorterStemmer\n",
    "from nltk.tokenize import word_tokenize\n",
    "text = \"Who would have thought that computer programs would be analyzing human sentiments\"\n",
    "tokens=word_tokenize(text.lower())\n",
    "ps = PorterStemmer()\n",
    "tokens=[ps.stem(word) for word in tokens]\n",
    "print(tokens)"
   ]
  },
  {
   "cell_type": "code",
   "execution_count": 32,
   "id": "1de497a6",
   "metadata": {},
   "outputs": [],
   "source": [
    "# part of speech tagging"
   ]
  },
  {
   "cell_type": "code",
   "execution_count": 37,
   "id": "7c31d905",
   "metadata": {},
   "outputs": [
    {
     "name": "stderr",
     "output_type": "stream",
     "text": [
      "[nltk_data] Downloading package averaged_perceptron_tagger to\n",
      "[nltk_data]     C:\\Users\\Acer\\AppData\\Roaming\\nltk_data...\n",
      "[nltk_data]   Unzipping taggers\\averaged_perceptron_tagger.zip.\n"
     ]
    },
    {
     "data": {
      "text/plain": [
       "True"
      ]
     },
     "execution_count": 37,
     "metadata": {},
     "output_type": "execute_result"
    }
   ],
   "source": [
    "nltk.download('averaged_perceptron_tagger')"
   ]
  },
  {
   "cell_type": "code",
   "execution_count": 38,
   "id": "6f84ef48",
   "metadata": {},
   "outputs": [
    {
     "data": {
      "text/plain": [
       "[('your', 'PRP$')]"
      ]
     },
     "execution_count": 38,
     "metadata": {},
     "output_type": "execute_result"
    }
   ],
   "source": [
    "nltk.pos_tag([\"your\"])"
   ]
  },
  {
   "cell_type": "code",
   "execution_count": 39,
   "id": "e4889057",
   "metadata": {},
   "outputs": [
    {
     "data": {
      "text/plain": [
       "[('beautiful', 'NN')]"
      ]
     },
     "execution_count": 39,
     "metadata": {},
     "output_type": "execute_result"
    }
   ],
   "source": [
    "nltk.pos_tag([\"beautiful\"])"
   ]
  },
  {
   "cell_type": "code",
   "execution_count": 40,
   "id": "d5a22a70",
   "metadata": {},
   "outputs": [
    {
     "data": {
      "text/plain": [
       "[('eat', 'NN')]"
      ]
     },
     "execution_count": 40,
     "metadata": {},
     "output_type": "execute_result"
    }
   ],
   "source": [
    "nltk.pos_tag([\"eat\"])"
   ]
  },
  {
   "cell_type": "code",
   "execution_count": 42,
   "id": "b5fcc997",
   "metadata": {},
   "outputs": [
    {
     "data": {
      "text/plain": [
       "[[('Usain', 'NN')],\n",
       " [('Bolt', 'NN')],\n",
       " [('is', 'VBZ')],\n",
       " [('the', 'DT')],\n",
       " [('fastest', 'JJS')],\n",
       " [('runner', 'NN')],\n",
       " [('in', 'IN')],\n",
       " [('the', 'DT')],\n",
       " [('world', 'NN')]]"
      ]
     },
     "execution_count": 42,
     "metadata": {},
     "output_type": "execute_result"
    }
   ],
   "source": [
    "from nltk.tokenize import word_tokenize\n",
    "text = \"Usain Bolt is the fastest runner in the world\"\n",
    "tokens = word_tokenize(text)\n",
    "[nltk.pos_tag([word]) for word in tokens]"
   ]
  },
  {
   "cell_type": "code",
   "execution_count": 44,
   "id": "c21b20de",
   "metadata": {},
   "outputs": [
    {
     "name": "stderr",
     "output_type": "stream",
     "text": [
      "[nltk_data] Downloading package tagsets to\n",
      "[nltk_data]     C:\\Users\\Acer\\AppData\\Roaming\\nltk_data...\n",
      "[nltk_data]   Unzipping help\\tagsets.zip.\n"
     ]
    },
    {
     "data": {
      "text/plain": [
       "True"
      ]
     },
     "execution_count": 44,
     "metadata": {},
     "output_type": "execute_result"
    }
   ],
   "source": [
    "nltk.download('tagsets')"
   ]
  },
  {
   "cell_type": "code",
   "execution_count": 45,
   "id": "34c59c90",
   "metadata": {
    "scrolled": true
   },
   "outputs": [
    {
     "name": "stdout",
     "output_type": "stream",
     "text": [
      "$: dollar\n",
      "    $ -$ --$ A$ C$ HK$ M$ NZ$ S$ U.S.$ US$\n",
      "'': closing quotation mark\n",
      "    ' ''\n",
      "(: opening parenthesis\n",
      "    ( [ {\n",
      "): closing parenthesis\n",
      "    ) ] }\n",
      ",: comma\n",
      "    ,\n",
      "--: dash\n",
      "    --\n",
      ".: sentence terminator\n",
      "    . ! ?\n",
      ":: colon or ellipsis\n",
      "    : ; ...\n",
      "CC: conjunction, coordinating\n",
      "    & 'n and both but either et for less minus neither nor or plus so\n",
      "    therefore times v. versus vs. whether yet\n",
      "CD: numeral, cardinal\n",
      "    mid-1890 nine-thirty forty-two one-tenth ten million 0.5 one forty-\n",
      "    seven 1987 twenty '79 zero two 78-degrees eighty-four IX '60s .025\n",
      "    fifteen 271,124 dozen quintillion DM2,000 ...\n",
      "DT: determiner\n",
      "    all an another any both del each either every half la many much nary\n",
      "    neither no some such that the them these this those\n",
      "EX: existential there\n",
      "    there\n",
      "FW: foreign word\n",
      "    gemeinschaft hund ich jeux habeas Haementeria Herr K'ang-si vous\n",
      "    lutihaw alai je jour objets salutaris fille quibusdam pas trop Monte\n",
      "    terram fiche oui corporis ...\n",
      "IN: preposition or conjunction, subordinating\n",
      "    astride among uppon whether out inside pro despite on by throughout\n",
      "    below within for towards near behind atop around if like until below\n",
      "    next into if beside ...\n",
      "JJ: adjective or numeral, ordinal\n",
      "    third ill-mannered pre-war regrettable oiled calamitous first separable\n",
      "    ectoplasmic battery-powered participatory fourth still-to-be-named\n",
      "    multilingual multi-disciplinary ...\n",
      "JJR: adjective, comparative\n",
      "    bleaker braver breezier briefer brighter brisker broader bumper busier\n",
      "    calmer cheaper choosier cleaner clearer closer colder commoner costlier\n",
      "    cozier creamier crunchier cuter ...\n",
      "JJS: adjective, superlative\n",
      "    calmest cheapest choicest classiest cleanest clearest closest commonest\n",
      "    corniest costliest crassest creepiest crudest cutest darkest deadliest\n",
      "    dearest deepest densest dinkiest ...\n",
      "LS: list item marker\n",
      "    A A. B B. C C. D E F First G H I J K One SP-44001 SP-44002 SP-44005\n",
      "    SP-44007 Second Third Three Two * a b c d first five four one six three\n",
      "    two\n",
      "MD: modal auxiliary\n",
      "    can cannot could couldn't dare may might must need ought shall should\n",
      "    shouldn't will would\n",
      "NN: noun, common, singular or mass\n",
      "    common-carrier cabbage knuckle-duster Casino afghan shed thermostat\n",
      "    investment slide humour falloff slick wind hyena override subhumanity\n",
      "    machinist ...\n",
      "NNP: noun, proper, singular\n",
      "    Motown Venneboerger Czestochwa Ranzer Conchita Trumplane Christos\n",
      "    Oceanside Escobar Kreisler Sawyer Cougar Yvette Ervin ODI Darryl CTCA\n",
      "    Shannon A.K.C. Meltex Liverpool ...\n",
      "NNPS: noun, proper, plural\n",
      "    Americans Americas Amharas Amityvilles Amusements Anarcho-Syndicalists\n",
      "    Andalusians Andes Andruses Angels Animals Anthony Antilles Antiques\n",
      "    Apache Apaches Apocrypha ...\n",
      "NNS: noun, common, plural\n",
      "    undergraduates scotches bric-a-brac products bodyguards facets coasts\n",
      "    divestitures storehouses designs clubs fragrances averages\n",
      "    subjectivists apprehensions muses factory-jobs ...\n",
      "PDT: pre-determiner\n",
      "    all both half many quite such sure this\n",
      "POS: genitive marker\n",
      "    ' 's\n",
      "PRP: pronoun, personal\n",
      "    hers herself him himself hisself it itself me myself one oneself ours\n",
      "    ourselves ownself self she thee theirs them themselves they thou thy us\n",
      "PRP$: pronoun, possessive\n",
      "    her his mine my our ours their thy your\n",
      "RB: adverb\n",
      "    occasionally unabatingly maddeningly adventurously professedly\n",
      "    stirringly prominently technologically magisterially predominately\n",
      "    swiftly fiscally pitilessly ...\n",
      "RBR: adverb, comparative\n",
      "    further gloomier grander graver greater grimmer harder harsher\n",
      "    healthier heavier higher however larger later leaner lengthier less-\n",
      "    perfectly lesser lonelier longer louder lower more ...\n",
      "RBS: adverb, superlative\n",
      "    best biggest bluntest earliest farthest first furthest hardest\n",
      "    heartiest highest largest least less most nearest second tightest worst\n",
      "RP: particle\n",
      "    aboard about across along apart around aside at away back before behind\n",
      "    by crop down ever fast for forth from go high i.e. in into just later\n",
      "    low more off on open out over per pie raising start teeth that through\n",
      "    under unto up up-pp upon whole with you\n",
      "SYM: symbol\n",
      "    % & ' '' ''. ) ). * + ,. < = > @ A[fj] U.S U.S.S.R * ** ***\n",
      "TO: \"to\" as preposition or infinitive marker\n",
      "    to\n",
      "UH: interjection\n",
      "    Goodbye Goody Gosh Wow Jeepers Jee-sus Hubba Hey Kee-reist Oops amen\n",
      "    huh howdy uh dammit whammo shucks heck anyways whodunnit honey golly\n",
      "    man baby diddle hush sonuvabitch ...\n",
      "VB: verb, base form\n",
      "    ask assemble assess assign assume atone attention avoid bake balkanize\n",
      "    bank begin behold believe bend benefit bevel beware bless boil bomb\n",
      "    boost brace break bring broil brush build ...\n",
      "VBD: verb, past tense\n",
      "    dipped pleaded swiped regummed soaked tidied convened halted registered\n",
      "    cushioned exacted snubbed strode aimed adopted belied figgered\n",
      "    speculated wore appreciated contemplated ...\n",
      "VBG: verb, present participle or gerund\n",
      "    telegraphing stirring focusing angering judging stalling lactating\n",
      "    hankerin' alleging veering capping approaching traveling besieging\n",
      "    encrypting interrupting erasing wincing ...\n",
      "VBN: verb, past participle\n",
      "    multihulled dilapidated aerosolized chaired languished panelized used\n",
      "    experimented flourished imitated reunifed factored condensed sheared\n",
      "    unsettled primed dubbed desired ...\n",
      "VBP: verb, present tense, not 3rd person singular\n",
      "    predominate wrap resort sue twist spill cure lengthen brush terminate\n",
      "    appear tend stray glisten obtain comprise detest tease attract\n",
      "    emphasize mold postpone sever return wag ...\n",
      "VBZ: verb, present tense, 3rd person singular\n",
      "    bases reconstructs marks mixes displeases seals carps weaves snatches\n",
      "    slumps stretches authorizes smolders pictures emerges stockpiles\n",
      "    seduces fizzes uses bolsters slaps speaks pleads ...\n",
      "WDT: WH-determiner\n",
      "    that what whatever which whichever\n",
      "WP: WH-pronoun\n",
      "    that what whatever whatsoever which who whom whosoever\n",
      "WP$: WH-pronoun, possessive\n",
      "    whose\n",
      "WRB: Wh-adverb\n",
      "    how however whence whenever where whereby whereever wherein whereof why\n",
      "``: opening quotation mark\n",
      "    ` ``\n"
     ]
    }
   ],
   "source": [
    "nltk.help.upenn_tagset()"
   ]
  },
  {
   "cell_type": "code",
   "execution_count": null,
   "id": "52aeb6e1",
   "metadata": {},
   "outputs": [],
   "source": []
  },
  {
   "cell_type": "code",
   "execution_count": null,
   "id": "48b5c23c",
   "metadata": {},
   "outputs": [],
   "source": []
  },
  {
   "cell_type": "code",
   "execution_count": 46,
   "id": "8842402a",
   "metadata": {},
   "outputs": [],
   "source": [
    "# Textblob"
   ]
  },
  {
   "cell_type": "code",
   "execution_count": 50,
   "id": "954409c8",
   "metadata": {},
   "outputs": [],
   "source": [
    "# !pip install -U textblob\n"
   ]
  },
  {
   "cell_type": "code",
   "execution_count": 51,
   "id": "07a58adc",
   "metadata": {},
   "outputs": [
    {
     "data": {
      "text/plain": [
       "Sentiment(polarity=0.5, subjectivity=0.6)"
      ]
     },
     "execution_count": 51,
     "metadata": {},
     "output_type": "execute_result"
    }
   ],
   "source": [
    "from textblob import TextBlob\n",
    "TextBlob(\"I love pizza\").sentiment"
   ]
  },
  {
   "cell_type": "code",
   "execution_count": 53,
   "id": "6107e7ed",
   "metadata": {},
   "outputs": [
    {
     "data": {
      "text/plain": [
       "Sentiment(polarity=1.0, subjectivity=1.0)"
      ]
     },
     "execution_count": 53,
     "metadata": {},
     "output_type": "execute_result"
    }
   ],
   "source": [
    "TextBlob(\"The weather is excellent\").sentiment"
   ]
  },
  {
   "cell_type": "code",
   "execution_count": null,
   "id": "8190bbe6",
   "metadata": {},
   "outputs": [],
   "source": []
  },
  {
   "cell_type": "code",
   "execution_count": null,
   "id": "664f1f32",
   "metadata": {},
   "outputs": [],
   "source": []
  },
  {
   "cell_type": "code",
   "execution_count": 54,
   "id": "4f9c54d6",
   "metadata": {},
   "outputs": [],
   "source": [
    "# Machine translation"
   ]
  },
  {
   "cell_type": "code",
   "execution_count": 55,
   "id": "4587cfe1",
   "metadata": {},
   "outputs": [
    {
     "ename": "AttributeError",
     "evalue": "'TextBlob' object has no attribute 'translate'",
     "output_type": "error",
     "traceback": [
      "\u001b[1;31m---------------------------------------------------------------------------\u001b[0m",
      "\u001b[1;31mAttributeError\u001b[0m                            Traceback (most recent call last)",
      "Cell \u001b[1;32mIn [55], line 4\u001b[0m\n\u001b[0;32m      2\u001b[0m languages \u001b[38;5;241m=\u001b[39m [\u001b[38;5;124m'\u001b[39m\u001b[38;5;124mfr\u001b[39m\u001b[38;5;124m'\u001b[39m,\u001b[38;5;124m'\u001b[39m\u001b[38;5;124mzh-CN\u001b[39m\u001b[38;5;124m'\u001b[39m,\u001b[38;5;124m'\u001b[39m\u001b[38;5;124mhi\u001b[39m\u001b[38;5;124m'\u001b[39m]\n\u001b[0;32m      3\u001b[0m \u001b[38;5;28;01mfor\u001b[39;00m language \u001b[38;5;129;01min\u001b[39;00m languages:\n\u001b[1;32m----> 4\u001b[0m     \u001b[38;5;28mprint\u001b[39m(\u001b[43mTextBlob\u001b[49m\u001b[43m(\u001b[49m\u001b[38;5;124;43m\"\u001b[39;49m\u001b[38;5;124;43mWho knew translation could be fun\u001b[39;49m\u001b[38;5;124;43m\"\u001b[39;49m\u001b[43m)\u001b[49m\u001b[38;5;241;43m.\u001b[39;49m\u001b[43mtranslate\u001b[49m(to\u001b[38;5;241m=\u001b[39mlanguage))\n",
      "\u001b[1;31mAttributeError\u001b[0m: 'TextBlob' object has no attribute 'translate'"
     ]
    }
   ],
   "source": [
    "from textblob import TextBlob\n",
    "languages = ['fr','zh-CN','hi']\n",
    "for language in languages:\n",
    "    print(TextBlob(\"Who knew translation could be fun\").translate(to=language))"
   ]
  },
  {
   "cell_type": "code",
   "execution_count": 66,
   "id": "56a57427",
   "metadata": {},
   "outputs": [
    {
     "ename": "AttributeError",
     "evalue": "'TextBlob' object has no attribute 'translate'",
     "output_type": "error",
     "traceback": [
      "\u001b[1;31m---------------------------------------------------------------------------\u001b[0m",
      "\u001b[1;31mAttributeError\u001b[0m                            Traceback (most recent call last)",
      "Cell \u001b[1;32mIn [66], line 1\u001b[0m\n\u001b[1;32m----> 1\u001b[0m \u001b[43mTextBlob\u001b[49m\u001b[43m(\u001b[49m\u001b[38;5;124;43m\"\u001b[39;49m\u001b[38;5;124;43mHow you doing today\u001b[39;49m\u001b[38;5;124;43m\"\u001b[39;49m\u001b[43m)\u001b[49m\u001b[38;5;241;43m.\u001b[39;49m\u001b[43mtranslate\u001b[49m(to\u001b[38;5;241m=\u001b[39m\u001b[38;5;124m'\u001b[39m\u001b[38;5;124mhi\u001b[39m\u001b[38;5;124m'\u001b[39m)\n",
      "\u001b[1;31mAttributeError\u001b[0m: 'TextBlob' object has no attribute 'translate'"
     ]
    }
   ],
   "source": [
    "TextBlob(\"How you doing today\").translate(to='hi')"
   ]
  },
  {
   "cell_type": "code",
   "execution_count": 67,
   "id": "1c744c2c",
   "metadata": {},
   "outputs": [
    {
     "ename": "AttributeError",
     "evalue": "'TextBlob' object has no attribute 'translate'",
     "output_type": "error",
     "traceback": [
      "\u001b[1;31m---------------------------------------------------------------------------\u001b[0m",
      "\u001b[1;31mAttributeError\u001b[0m                            Traceback (most recent call last)",
      "Cell \u001b[1;32mIn [67], line 5\u001b[0m\n\u001b[0;32m      3\u001b[0m text \u001b[38;5;241m=\u001b[39m \u001b[38;5;124m\"\u001b[39m\u001b[38;5;124mHow you doing today\u001b[39m\u001b[38;5;124m\"\u001b[39m\n\u001b[0;32m      4\u001b[0m blob \u001b[38;5;241m=\u001b[39m TextBlob(text)\n\u001b[1;32m----> 5\u001b[0m translated_blob \u001b[38;5;241m=\u001b[39m \u001b[43mblob\u001b[49m\u001b[38;5;241;43m.\u001b[39;49m\u001b[43mtranslate\u001b[49m(to\u001b[38;5;241m=\u001b[39m\u001b[38;5;124m'\u001b[39m\u001b[38;5;124mhi\u001b[39m\u001b[38;5;124m'\u001b[39m)\n\u001b[0;32m      7\u001b[0m \u001b[38;5;28mprint\u001b[39m(translated_blob)\n",
      "\u001b[1;31mAttributeError\u001b[0m: 'TextBlob' object has no attribute 'translate'"
     ]
    }
   ],
   "source": [
    "from textblob import TextBlob\n",
    "\n",
    "text = \"How you doing today\"\n",
    "blob = TextBlob(text)\n",
    "translated_blob = blob.translate(to='hi')\n",
    "\n",
    "print(translated_blob)\n"
   ]
  },
  {
   "cell_type": "code",
   "execution_count": 68,
   "id": "f1e079e4",
   "metadata": {},
   "outputs": [
    {
     "ename": "AttributeError",
     "evalue": "'TextBlob' object has no attribute 'translate'",
     "output_type": "error",
     "traceback": [
      "\u001b[1;31m---------------------------------------------------------------------------\u001b[0m",
      "\u001b[1;31mAttributeError\u001b[0m                            Traceback (most recent call last)",
      "Cell \u001b[1;32mIn [68], line 3\u001b[0m\n\u001b[0;32m      1\u001b[0m languages \u001b[38;5;241m=\u001b[39m [\u001b[38;5;124m'\u001b[39m\u001b[38;5;124mfr\u001b[39m\u001b[38;5;124m'\u001b[39m,\u001b[38;5;124m'\u001b[39m\u001b[38;5;124mzh-CN\u001b[39m\u001b[38;5;124m'\u001b[39m,\u001b[38;5;124m'\u001b[39m\u001b[38;5;124mhi\u001b[39m\u001b[38;5;124m'\u001b[39m]\n\u001b[0;32m      2\u001b[0m \u001b[38;5;28;01mfor\u001b[39;00m language \u001b[38;5;129;01min\u001b[39;00m languages:\n\u001b[1;32m----> 3\u001b[0m     \u001b[38;5;28mprint\u001b[39m(\u001b[43mTextBlob\u001b[49m\u001b[43m(\u001b[49m\u001b[38;5;124;43m\"\u001b[39;49m\u001b[38;5;124;43mWho knew translation could be fun\u001b[39;49m\u001b[38;5;124;43m\"\u001b[39;49m\u001b[43m)\u001b[49m\u001b[38;5;241;43m.\u001b[39;49m\u001b[43mtranslate\u001b[49m(to\u001b[38;5;241m=\u001b[39mlanguage))\n\u001b[0;32m      5\u001b[0m TextBlob(\u001b[38;5;124m\"\u001b[39m\u001b[38;5;124mThe global economy is expected to grow this year\u001b[39m\u001b[38;5;124m\"\u001b[39m)\u001b[38;5;241m.\u001b[39mtags\n",
      "\u001b[1;31mAttributeError\u001b[0m: 'TextBlob' object has no attribute 'translate'"
     ]
    }
   ],
   "source": [
    "languages = ['fr','zh-CN','hi']\n",
    "for language in languages:\n",
    "    print(TextBlob(\"Who knew translation could be fun\").translate(to=language))\n",
    "    \n",
    "TextBlob(\"The global economy is expected to grow this year\").tags"
   ]
  },
  {
   "cell_type": "code",
   "execution_count": 69,
   "id": "359ef5c2",
   "metadata": {},
   "outputs": [
    {
     "ename": "ModuleNotFoundError",
     "evalue": "No module named 'textblob.translate'",
     "output_type": "error",
     "traceback": [
      "\u001b[1;31m---------------------------------------------------------------------------\u001b[0m",
      "\u001b[1;31mModuleNotFoundError\u001b[0m                       Traceback (most recent call last)",
      "Cell \u001b[1;32mIn [69], line 2\u001b[0m\n\u001b[0;32m      1\u001b[0m \u001b[38;5;28;01mfrom\u001b[39;00m \u001b[38;5;21;01mtextblob\u001b[39;00m \u001b[38;5;28;01mimport\u001b[39;00m TextBlob\n\u001b[1;32m----> 2\u001b[0m \u001b[38;5;28;01mfrom\u001b[39;00m \u001b[38;5;21;01mtextblob\u001b[39;00m\u001b[38;5;21;01m.\u001b[39;00m\u001b[38;5;21;01mtranslate\u001b[39;00m \u001b[38;5;28;01mimport\u001b[39;00m Translator\n\u001b[0;32m      4\u001b[0m text \u001b[38;5;241m=\u001b[39m \u001b[38;5;124m\"\u001b[39m\u001b[38;5;124mHow you doing today\u001b[39m\u001b[38;5;124m\"\u001b[39m\n\u001b[0;32m      5\u001b[0m translated_blob \u001b[38;5;241m=\u001b[39m TextBlob(text)\u001b[38;5;241m.\u001b[39mtranslate(to\u001b[38;5;241m=\u001b[39m\u001b[38;5;124m'\u001b[39m\u001b[38;5;124mhi\u001b[39m\u001b[38;5;124m'\u001b[39m)\n",
      "\u001b[1;31mModuleNotFoundError\u001b[0m: No module named 'textblob.translate'"
     ]
    }
   ],
   "source": [
    "from textblob import TextBlob\n",
    "from textblob.translate import Translator\n",
    "\n",
    "text = \"How you doing today\"\n",
    "translated_blob = TextBlob(text).translate(to='hi')\n",
    "\n",
    "print(translated_blob)\n"
   ]
  },
  {
   "cell_type": "code",
   "execution_count": 70,
   "id": "a76818c3",
   "metadata": {},
   "outputs": [
    {
     "data": {
      "text/plain": [
       "[('The', 'DT'),\n",
       " ('global', 'JJ'),\n",
       " ('economy', 'NN'),\n",
       " ('is', 'VBZ'),\n",
       " ('expected', 'VBN'),\n",
       " ('to', 'TO'),\n",
       " ('grow', 'VB'),\n",
       " ('this', 'DT'),\n",
       " ('year', 'NN')]"
      ]
     },
     "execution_count": 70,
     "metadata": {},
     "output_type": "execute_result"
    }
   ],
   "source": [
    " TextBlob(\"The global economy is expected to grow this year\").tags"
   ]
  },
  {
   "cell_type": "code",
   "execution_count": 3,
   "id": "21798b64",
   "metadata": {},
   "outputs": [],
   "source": [
    "import nltk"
   ]
  },
  {
   "cell_type": "code",
   "execution_count": null,
   "id": "0c9485e9",
   "metadata": {},
   "outputs": [],
   "source": []
  },
  {
   "cell_type": "code",
   "execution_count": null,
   "id": "45f97409",
   "metadata": {},
   "outputs": [],
   "source": []
  },
  {
   "cell_type": "code",
   "execution_count": 4,
   "id": "4d97ddc1",
   "metadata": {},
   "outputs": [],
   "source": [
    "# VADER sentiment analyzer"
   ]
  },
  {
   "cell_type": "code",
   "execution_count": 6,
   "id": "1e603727",
   "metadata": {},
   "outputs": [],
   "source": [
    "# !pip install vaderSentiment"
   ]
  },
  {
   "cell_type": "code",
   "execution_count": 7,
   "id": "74f79bdf",
   "metadata": {},
   "outputs": [],
   "source": [
    "from vaderSentiment.vaderSentiment import SentimentIntensityAnalyzer\n",
    "analyser = SentimentIntensityAnalyzer()"
   ]
  },
  {
   "cell_type": "code",
   "execution_count": 8,
   "id": "3b943856",
   "metadata": {},
   "outputs": [
    {
     "data": {
      "text/plain": [
       "{'neg': 0.0, 'neu': 0.556, 'pos': 0.444, 'compound': 0.4927}"
      ]
     },
     "execution_count": 8,
     "metadata": {},
     "output_type": "execute_result"
    }
   ],
   "source": [
    "analyser.polarity_scores(\"This book is very good\")"
   ]
  },
  {
   "cell_type": "code",
   "execution_count": 14,
   "id": "8aadef9f",
   "metadata": {},
   "outputs": [
    {
     "data": {
      "text/plain": [
       "' The compound score is what\\n we are interested in. Any score greater\\n than 0.05 is considered positive, while less\\n than -0.05\\n is considered negative '"
      ]
     },
     "execution_count": 14,
     "metadata": {},
     "output_type": "execute_result"
    }
   ],
   "source": [
    "\"\"\" The compound score is what\n",
    " we are interested in. Any score greater\n",
    " than 0.05 is considered positive, while less\n",
    " than -0.05\n",
    " is considered negative \"\"\""
   ]
  },
  {
   "cell_type": "code",
   "execution_count": 12,
   "id": "b4fc2064",
   "metadata": {},
   "outputs": [
    {
     "data": {
      "text/plain": [
       "{'neg': 0.259, 'neu': 0.741, 'pos': 0.0, 'compound': -0.2732}"
      ]
     },
     "execution_count": 12,
     "metadata": {},
     "output_type": "execute_result"
    }
   ],
   "source": [
    "analyser.polarity_scores(\"I don't think I get low marks\")\n",
    "# Above line should give result more towards positive but the result is "
   ]
  },
  {
   "cell_type": "code",
   "execution_count": null,
   "id": "1eea04f7",
   "metadata": {},
   "outputs": [],
   "source": []
  },
  {
   "cell_type": "code",
   "execution_count": null,
   "id": "a2618e28",
   "metadata": {},
   "outputs": [],
   "source": []
  },
  {
   "cell_type": "code",
   "execution_count": null,
   "id": "b89cdb10",
   "metadata": {},
   "outputs": [],
   "source": []
  },
  {
   "cell_type": "code",
   "execution_count": null,
   "id": "c6006b2d",
   "metadata": {},
   "outputs": [],
   "source": []
  },
  {
   "cell_type": "code",
   "execution_count": 15,
   "id": "35ce43dc",
   "metadata": {},
   "outputs": [],
   "source": [
    "#   WEB SCRAPING "
   ]
  },
  {
   "cell_type": "code",
   "execution_count": 16,
   "id": "ad807981",
   "metadata": {},
   "outputs": [],
   "source": [
    "# !pip install requsets\n",
    "# !pip install beautifulsoup4"
   ]
  },
  {
   "cell_type": "code",
   "execution_count": 17,
   "id": "a234b519",
   "metadata": {},
   "outputs": [],
   "source": [
    "import requests\n",
    "from bs4 import BeautifulSoup"
   ]
  },
  {
   "cell_type": "code",
   "execution_count": 18,
   "id": "e1da66cb",
   "metadata": {},
   "outputs": [],
   "source": [
    "url ='https://webscraper.io/test-sites/e-commerce/allinone/computers/laptops'"
   ]
  },
  {
   "cell_type": "code",
   "execution_count": 19,
   "id": "4997bc38",
   "metadata": {},
   "outputs": [],
   "source": [
    "request = requests.get(url)"
   ]
  },
  {
   "cell_type": "code",
   "execution_count": 20,
   "id": "f91fb4b6",
   "metadata": {
    "collapsed": true
   },
   "outputs": [
    {
     "data": {
      "text/plain": [
       "'<!DOCTYPE html>\\n<html lang=\"en\">\\n<head>\\n\\t<!-- Google Tag Manager -->\\n<script>(function (w, d, s, l, i) {\\n\\t\\tw[l] = w[l] || [];\\n\\t\\tw[l].push({\\n\\t\\t\\t\\'gtm.start\\':\\n\\t\\t\\t\\tnew Date().getTime(), event: \\'gtm.js\\'\\n\\t\\t});\\n\\t\\tvar f = d.getElementsByTagName(s)[0],\\n\\t\\t\\tj = d.createElement(s), dl = l != \\'dataLayer\\' ? \\'&l=\\' + l : \\'\\';\\n\\t\\tj.async = true;\\n\\t\\tj.src =\\n\\t\\t\\t\\'https://www.googletagmanager.com/gtm.js?id=\\' + i + dl;\\n\\t\\tf.parentNode.insertBefore(j, f);\\n\\t})(window, document, \\'script\\', \\'dataLayer\\', \\'GTM-NVFPDWB\\');</script>\\n<!-- End Google Tag Manager -->\\n\\t<title>Allinone | Web Scraper Test Sites</title>\\n\\t<meta charset=\"utf-8\">\\n\\t<meta http-equiv=\"X-UA-Compatible\" content=\"IE=edge,chrome=1\">\\n\\n\\t<meta name=\"keywords\"\\n\\t\\t  content=\"web scraping,Web Scraper,Chrome extension,Crawling,Cross platform scraper\"/>\\n\\t<meta name=\"description\"\\n\\t\\t  content=\"The most popular web scraping extension. Start scraping in minutes. Automate your tasks with our Cloud Scraper. No software to download, no coding needed.\"/>\\n\\t<link rel=\"icon\" sizes=\"128x128\" href=\"/favicon.png\">\\n\\n\\t<meta name=\"viewport\" content=\"width=device-width, initial-scale=1.0\">\\n\\t\\n\\t<link rel=\"preconnect\" href=\"https://fonts.googleapis.com\">\\n\\t<link rel=\"preconnect\" href=\"https://fonts.gstatic.com\" crossorigin>\\n\\t<link href=\"https://fonts.googleapis.com/css2?family=Roboto:wght@400;500;600&display=swap\" rel=\"stylesheet\">\\n\\t<link href=\"https://fonts.googleapis.com/css2?family=Montserrat:wght@300;400;500;600;700;900&display=swap\" rel=\"stylesheet\">\\n\\n\\t<link rel=\"stylesheet\" href=\"/css/app.css?id=06223d32356bb9de144c6b2196deeb03\">\\n\\t<link rel=\"stylesheet\" href=\"/css/ws-icons.css?id=425669580a5e2af2a7133aa31b1b21d3\">\\n\\n\\t<link rel=\"canonical\" href=\"https://webscraper.io/test-sites/e-commerce/allinone/computers/laptops\">\\n\\t<link rel=\"apple-touch-icon\" href=\"/img/logo-icon.png\">\\n\\n\\t\\n\\t<script defer src=\"/js/vendor.js?id=9363fc11cfc46155b8ff22465a87f071\"></script>\\n\\t<script defer src=\"/js/app.js?id=806927385eb5bc635d4e80efd78f7976\"></script>\\n\\n\\t\\n</head>\\n<body>\\n<!-- Google Tag Manager (noscript) -->\\n<noscript>\\n\\t<iframe src=\"https://www.googletagmanager.com/ns.html?id=GTM-NVFPDWB\"\\n\\t        height=\"0\" width=\"0\" style=\"display:none;visibility:hidden\"></iframe>\\n</noscript>\\n<!-- End Google Tag Manager (noscript) -->\\n<header role=\"banner\" class=\"navbar fixed-top navbar-expand-lg navbar-dark navbar-static\">\\n\\t<div class=\"container\">\\n\\n\\t\\t<div class=\"navbar-header\">\\n\\n\\t\\t\\t<a data-bs-toggle=\"collapse-side\" data-bs-target=\".side-collapse\" data-bs-target-2=\".side-collapse-container\">\\n\\t\\t\\t\\t<button type=\"button\" class=\"navbar-toggler float-end collapsed\" data-bs-toggle=\"collapse\"\\n\\t\\t\\t\\t\\t\\tdata-bs-target=\"#navbar\" data-bs-target-2=\".side-collapse-container\" data-bs-target-3=\".side-collapse\"\\n\\t\\t\\t\\t\\t\\taria-expanded=\"false\" aria-controls=\"navbar\">\\n\\n\\t\\t\\t\\t\\t<span class=\"visually-hidden\">Toggle navigation</span>\\n\\t\\t\\t\\t\\t<span class=\"icon-bar top-bar\"></span>\\n\\t\\t\\t\\t\\t<span class=\"icon-bar middle-bar\"></span>\\n\\t\\t\\t\\t\\t<span class=\"icon-bar bottom-bar\"></span>\\n\\t\\t\\t\\t\\t<span class=\"icon-bar extra-bottom-bar\"></span>\\n\\n\\t\\t\\t\\t</button>\\n\\t\\t\\t</a>\\n\\t\\t\\t<div class=\"navbar-brand\">\\n\\t\\t\\t\\t<a href=\"/\"><img src=\"/img/logo_white.svg\" alt=\"Web Scraper\"></a>\\n\\t\\t\\t</div>\\n\\t\\t</div>\\n\\n\\t\\t<div class=\"side-collapse in\">\\n\\t\\t\\t<nav id=\"navbar\" role=\"navigation\" class=\"navbar-collapse collapse\">\\n\\t\\t\\t\\t<ul class=\"nav navbar-nav navbar-right\">\\n\\t\\t\\t\\t\\t<li class=\"nav-item\">\\n\\t\\t\\t\\t\\t\\t<a href=\"/\" class=\"nav-link menuitm\">\\n\\t\\t\\t\\t\\t\\t\\t<p>Web Scraper</p>\\n\\t\\t\\t\\t\\t\\t\\t<div class=\"crta\"></div>\\n\\t\\t\\t\\t\\t\\t</a>\\n\\t\\t\\t\\t\\t</li>\\n\\t\\t\\t\\t\\t<li class=\"nav-item\">\\n\\t\\t\\t\\t\\t\\t<a href=\"/cloud-scraper\" class=\"nav-link menuitm\">\\n\\t\\t\\t\\t\\t\\t\\t<p>Cloud Scraper</p>\\n\\t\\t\\t\\t\\t\\t\\t<div class=\"crta\"></div>\\n\\t\\t\\t\\t\\t\\t</a>\\n\\t\\t\\t\\t\\t</li>\\n\\t\\t\\t\\t\\t<li class=\"nav-item\">\\n\\t\\t\\t\\t\\t\\t<a href=\"/pricing\" class=\"nav-link menuitm\">\\n\\t\\t\\t\\t\\t\\t\\t<p>Pricing</p>\\n\\t\\t\\t\\t\\t\\t\\t<div class=\"crta\"></div>\\n\\t\\t\\t\\t\\t\\t</a>\\n\\t\\t\\t\\t\\t</li>\\n\\t\\t\\t\\t\\t<li class=\"nav-item dropdown\">\\n\\t\\t\\t\\t\\t\\t<a href=\"#\" class=\"menuitm nav-link dropdown-toggle\" id=\"dropdownMenuLink\" role=\"button\" data-bs-toggle=\"dropdown\" aria-haspopup=\"true\" aria-expanded=\"false\">\\n\\t\\t\\t\\t\\t\\t\\t<p>Learn</p>\\n\\t\\t\\t\\t\\t\\t\\t<div class=\"crta\"></div>\\n\\t\\t\\t\\t\\t\\t</a>\\n\\t\\t\\t\\t\\t\\t<ul class=\"dropdown-menu\" aria-labelledby=\"dropdownMenuLink\">\\n\\t\\t\\t\\t\\t\\t\\t<li>\\n\\t\\t\\t\\t\\t\\t\\t\\t<a href=\"/documentation\" class=\"dropdown-item\">Documentation</a>\\n\\t\\t\\t\\t\\t\\t\\t</li>\\n\\t\\t\\t\\t\\t\\t\\t<li>\\n\\t\\t\\t\\t\\t\\t\\t\\t<a href=\"/tutorials\" class=\"dropdown-item\">Video Tutorials</a>\\n\\t\\t\\t\\t\\t\\t\\t</li>\\n\\t\\t\\t\\t\\t\\t\\t<li>\\n\\t\\t\\t\\t\\t\\t\\t\\t<a href=\"/how-to-videos\" class=\"dropdown-item\">How to</a>\\n\\t\\t\\t\\t\\t\\t\\t</li>\\n\\t\\t\\t\\t\\t\\t\\t<li>\\n\\t\\t\\t\\t\\t\\t\\t\\t<a href=\"/test-sites\" class=\"dropdown-item\">Test Sites</a>\\n\\t\\t\\t\\t\\t\\t\\t</li>\\n\\t\\t\\t\\t\\t\\t\\t<li>\\n\\t\\t\\t\\t\\t\\t\\t\\t<a href=\"https://forum.webscraper.io/\" target=\"_blank\" rel=\"noopener\" class=\"dropdown-item\">Forum</a>\\n\\t\\t\\t\\t\\t\\t\\t</li>\\n\\t\\t\\t\\t\\t\\t</ul>\\n\\t\\t\\t\\t\\t</li>\\n\\t\\t\\t\\t\\t<li class=\"nav-item\">\\n\\t\\t\\t\\t\\t\\t<a href=\"https://chromewebstore.google.com/detail/web-scraper-free-web-scra/jnhgnonknehpejjnehehllkliplmbmhn?hl=en\" target=\"_blank\" class=\"nav-link btn-menu1 install-extension\">Install</a>\\n\\t\\t\\t\\t\\t</li>\\n\\t\\t\\t\\t\\t<li class=\"nav-item\">\\n\\t\\t\\t\\t\\t\\t<a href=\"https://cloud.webscraper.io/\" class=\"nav-link btn-menu2\">Cloud Login</a>\\n\\t\\t\\t\\t\\t</li>\\n\\t\\t\\t\\t</ul>\\n\\t\\t\\t</nav>\\n\\t\\t</div>\\n\\t</div>\\n</header>\\n\\n<div class=\"wrapper\">\\n\\t\\t<div class=\"formenu-here container-fluid\">\\n\\n\\t</div>\\n\\t<div class=\"container-fluid blog-hero\">\\n\\t\\t<div class=\"container\">\\n\\t\\t\\t<div class=\"row\">\\n\\t\\t\\t\\t<div class=\"col-lg-12\">\\n\\t\\t\\t\\t\\t<h1>Test Sites</h1>\\n\\t\\t\\t\\t</div>\\n\\t\\t\\t</div>\\n\\t\\t</div>\\n\\t</div>\\n\\n\\t<div class=\"container test-site\">\\n\\t\\t<div class=\"row\">\\n\\t\\t\\t<div class=\"col-lg-3 sidebar\">\\n\\t\\t\\t\\t\\t<div class=\"navbar-light sidebar\" role=\"navigation\">\\n\\t<div class=\"sidebar-nav navbar-collapse\">\\n\\t\\t<ul class=\"nav flex-column\" id=\"side-menu\">\\n\\n\\t\\t\\t<li class=\"nav-item \">\\n\\t\\t\\t\\t<a href=\"/test-sites/e-commerce/allinone\" class=\"nav-link\">Home</a>\\n\\t\\t\\t</li>\\n\\n\\t\\t\\t\\t\\t\\t<li class=\"nav-item  active \">\\n\\t\\t\\t\\t<a href=\"/test-sites/e-commerce/allinone/computers\" class=\"category-link nav-link \">\\n\\t\\t\\t\\t\\tComputers\\n\\t\\t\\t\\t\\t<i class=\"ws-icon  ws-icon-right \"></i>\\n\\t\\t\\t\\t</a>\\n\\n\\t\\t\\t\\t\\t\\t\\t\\t\\t<ul class=\"nav nav-second-level\">\\n\\t\\t\\t\\t\\t\\t\\t\\t\\t\\t\\t<li class=\"nav-item\">\\n\\t\\t\\t\\t\\t\\t<a href=\"/test-sites/e-commerce/allinone/computers/laptops\" class=\"nav-link subcategory-link  active \">\\n\\t\\t\\t\\t\\t\\t\\tLaptops\\n\\t\\t\\t\\t\\t\\t</a>\\n\\t\\t\\t\\t\\t</li>\\n\\t\\t\\t\\t\\t\\t\\t\\t\\t\\t<li class=\"nav-item\">\\n\\t\\t\\t\\t\\t\\t<a href=\"/test-sites/e-commerce/allinone/computers/tablets\" class=\"nav-link subcategory-link \">\\n\\t\\t\\t\\t\\t\\t\\tTablets\\n\\t\\t\\t\\t\\t\\t</a>\\n\\t\\t\\t\\t\\t</li>\\n\\t\\t\\t\\t\\t\\t\\t\\t\\t</ul>\\n\\t\\t\\t\\t\\t\\t\\t</li>\\n\\t\\t\\t\\t\\t\\t<li class=\"nav-item \">\\n\\t\\t\\t\\t<a href=\"/test-sites/e-commerce/allinone/phones\" class=\"category-link nav-link \">\\n\\t\\t\\t\\t\\tPhones\\n\\t\\t\\t\\t\\t<i class=\"ws-icon  ws-icon-right \"></i>\\n\\t\\t\\t\\t</a>\\n\\n\\t\\t\\t\\t\\t\\t\\t\\t</li>\\n\\t\\t\\t\\t\\t</ul>\\n\\t</div>\\n</div>\\n\\n\\t\\t\\t</div>\\n\\t\\t\\t<div class=\"col-lg-9\">\\n\\t\\t\\t\\t\\t<h1 class=\"page-header\">Computers / Laptops</h1>\\n\\n<div class=\"row\">\\n\\t\\t\\t<div class=\"col-md-4 col-xl-4 col-lg-4\">\\n\\t<div class=\"card product-wrapper thumbnail\">\\n\\t\\t<div class=\"card-body\">\\n\\t\\t\\t<img class=\"img-fluid card-img-top image img-responsive\" alt=\"item\" src=\"/images/test-sites/e-commerce/items/cart2.png\">\\n\\t\\t\\t<div class=\"caption\">\\n\\t\\t\\t\\t<h4 class=\"float-end price card-title pull-right\">$295.99</h4>\\n\\t\\t\\t\\t<h4>\\n\\t\\t\\t\\t\\t<a href=\"/test-sites/e-commerce/allinone/product/60\" class=\"title\" title=\"Asus VivoBook X441NA-GA190\">Asus VivoBook...</a>\\n\\t\\t\\t\\t</h4>\\n\\t\\t\\t\\t<p class=\"description card-text\">Asus VivoBook X441NA-GA190 Chocolate Black, 14&quot;, Celeron N3450, 4GB, 128GB SSD, Endless OS, ENG kbd</p>\\n\\n\\t\\t\\t</div>\\n\\t\\t\\t<div class=\"ratings\">\\n\\t\\t\\t\\t<p class=\"float-end review-count\">14 reviews</p>\\n\\t\\t\\t\\t<p data-rating=\"3\">\\n\\t\\t\\t\\t\\t\\t\\t\\t\\t\\t<span class=\"ws-icon ws-icon-star\"></span>\\n\\t\\t\\t\\t\\t\\t\\t\\t\\t\\t<span class=\"ws-icon ws-icon-star\"></span>\\n\\t\\t\\t\\t\\t\\t\\t\\t\\t\\t<span class=\"ws-icon ws-icon-star\"></span>\\n\\t\\t\\t\\t\\t\\t\\t\\t\\t</p>\\n\\t\\t\\t</div>\\n\\t\\t</div>\\n\\t</div>\\n</div>\\n\\t\\t\\t<div class=\"col-md-4 col-xl-4 col-lg-4\">\\n\\t<div class=\"card product-wrapper thumbnail\">\\n\\t\\t<div class=\"card-body\">\\n\\t\\t\\t<img class=\"img-fluid card-img-top image img-responsive\" alt=\"item\" src=\"/images/test-sites/e-commerce/items/cart2.png\">\\n\\t\\t\\t<div class=\"caption\">\\n\\t\\t\\t\\t<h4 class=\"float-end price card-title pull-right\">$299</h4>\\n\\t\\t\\t\\t<h4>\\n\\t\\t\\t\\t\\t<a href=\"/test-sites/e-commerce/allinone/product/61\" class=\"title\" title=\"Prestigio SmartBook 133S Dark Grey\">Prestigio Smar...</a>\\n\\t\\t\\t\\t</h4>\\n\\t\\t\\t\\t<p class=\"description card-text\">Prestigio SmartBook 133S Dark Grey, 13.3&quot; FHD IPS, Celeron N3350 1.1GHz, 4GB, 32GB, Windows 10 Pro + Office 365 1 gadam</p>\\n\\n\\t\\t\\t</div>\\n\\t\\t\\t<div class=\"ratings\">\\n\\t\\t\\t\\t<p class=\"float-end review-count\">8 reviews</p>\\n\\t\\t\\t\\t<p data-rating=\"2\">\\n\\t\\t\\t\\t\\t\\t\\t\\t\\t\\t<span class=\"ws-icon ws-icon-star\"></span>\\n\\t\\t\\t\\t\\t\\t\\t\\t\\t\\t<span class=\"ws-icon ws-icon-star\"></span>\\n\\t\\t\\t\\t\\t\\t\\t\\t\\t</p>\\n\\t\\t\\t</div>\\n\\t\\t</div>\\n\\t</div>\\n</div>\\n\\t\\t\\t<div class=\"col-md-4 col-xl-4 col-lg-4\">\\n\\t<div class=\"card product-wrapper thumbnail\">\\n\\t\\t<div class=\"card-body\">\\n\\t\\t\\t<img class=\"img-fluid card-img-top image img-responsive\" alt=\"item\" src=\"/images/test-sites/e-commerce/items/cart2.png\">\\n\\t\\t\\t<div class=\"caption\">\\n\\t\\t\\t\\t<h4 class=\"float-end price card-title pull-right\">$299</h4>\\n\\t\\t\\t\\t<h4>\\n\\t\\t\\t\\t\\t<a href=\"/test-sites/e-commerce/allinone/product/62\" class=\"title\" title=\"Prestigio SmartBook 133S Gold\">Prestigio Smar...</a>\\n\\t\\t\\t\\t</h4>\\n\\t\\t\\t\\t<p class=\"description card-text\">Prestigio SmartBook 133S Gold, 13.3&quot; FHD IPS, Celeron N3350 1.1GHz, 4GB, 32GB, Windows 10 Pro + Office 365 1 gadam</p>\\n\\n\\t\\t\\t</div>\\n\\t\\t\\t<div class=\"ratings\">\\n\\t\\t\\t\\t<p class=\"float-end review-count\">12 reviews</p>\\n\\t\\t\\t\\t<p data-rating=\"4\">\\n\\t\\t\\t\\t\\t\\t\\t\\t\\t\\t<span class=\"ws-icon ws-icon-star\"></span>\\n\\t\\t\\t\\t\\t\\t\\t\\t\\t\\t<span class=\"ws-icon ws-icon-star\"></span>\\n\\t\\t\\t\\t\\t\\t\\t\\t\\t\\t<span class=\"ws-icon ws-icon-star\"></span>\\n\\t\\t\\t\\t\\t\\t\\t\\t\\t\\t<span class=\"ws-icon ws-icon-star\"></span>\\n\\t\\t\\t\\t\\t\\t\\t\\t\\t</p>\\n\\t\\t\\t</div>\\n\\t\\t</div>\\n\\t</div>\\n</div>\\n\\t\\t\\t<div class=\"col-md-4 col-xl-4 col-lg-4\">\\n\\t<div class=\"card product-wrapper thumbnail\">\\n\\t\\t<div class=\"card-body\">\\n\\t\\t\\t<img class=\"img-fluid card-img-top image img-responsive\" alt=\"item\" src=\"/images/test-sites/e-commerce/items/cart2.png\">\\n\\t\\t\\t<div class=\"caption\">\\n\\t\\t\\t\\t<h4 class=\"float-end price card-title pull-right\">$306.99</h4>\\n\\t\\t\\t\\t<h4>\\n\\t\\t\\t\\t\\t<a href=\"/test-sites/e-commerce/allinone/product/32\" class=\"title\" title=\"Aspire E1-510\">Aspire E1-510</a>\\n\\t\\t\\t\\t</h4>\\n\\t\\t\\t\\t<p class=\"description card-text\">15.6&quot;, Pentium N3520 2.16GHz, 4GB, 500GB, Linux</p>\\n\\n\\t\\t\\t</div>\\n\\t\\t\\t<div class=\"ratings\">\\n\\t\\t\\t\\t<p class=\"float-end review-count\">2 reviews</p>\\n\\t\\t\\t\\t<p data-rating=\"3\">\\n\\t\\t\\t\\t\\t\\t\\t\\t\\t\\t<span class=\"ws-icon ws-icon-star\"></span>\\n\\t\\t\\t\\t\\t\\t\\t\\t\\t\\t<span class=\"ws-icon ws-icon-star\"></span>\\n\\t\\t\\t\\t\\t\\t\\t\\t\\t\\t<span class=\"ws-icon ws-icon-star\"></span>\\n\\t\\t\\t\\t\\t\\t\\t\\t\\t</p>\\n\\t\\t\\t</div>\\n\\t\\t</div>\\n\\t</div>\\n</div>\\n\\t\\t\\t<div class=\"col-md-4 col-xl-4 col-lg-4\">\\n\\t<div class=\"card product-wrapper thumbnail\">\\n\\t\\t<div class=\"card-body\">\\n\\t\\t\\t<img class=\"img-fluid card-img-top image img-responsive\" alt=\"item\" src=\"/images/test-sites/e-commerce/items/cart2.png\">\\n\\t\\t\\t<div class=\"caption\">\\n\\t\\t\\t\\t<h4 class=\"float-end price card-title pull-right\">$321.94</h4>\\n\\t\\t\\t\\t<h4>\\n\\t\\t\\t\\t\\t<a href=\"/test-sites/e-commerce/allinone/product/63\" class=\"title\" title=\"Lenovo V110-15IAP\">Lenovo V110-15...</a>\\n\\t\\t\\t\\t</h4>\\n\\t\\t\\t\\t<p class=\"description card-text\">Lenovo V110-15IAP, 15.6&quot; HD, Celeron N3350 1.1GHz, 4GB, 128GB SSD, Windows 10 Home</p>\\n\\n\\t\\t\\t</div>\\n\\t\\t\\t<div class=\"ratings\">\\n\\t\\t\\t\\t<p class=\"float-end review-count\">5 reviews</p>\\n\\t\\t\\t\\t<p data-rating=\"3\">\\n\\t\\t\\t\\t\\t\\t\\t\\t\\t\\t<span class=\"ws-icon ws-icon-star\"></span>\\n\\t\\t\\t\\t\\t\\t\\t\\t\\t\\t<span class=\"ws-icon ws-icon-star\"></span>\\n\\t\\t\\t\\t\\t\\t\\t\\t\\t\\t<span class=\"ws-icon ws-icon-star\"></span>\\n\\t\\t\\t\\t\\t\\t\\t\\t\\t</p>\\n\\t\\t\\t</div>\\n\\t\\t</div>\\n\\t</div>\\n</div>\\n\\t\\t\\t<div class=\"col-md-4 col-xl-4 col-lg-4\">\\n\\t<div class=\"card product-wrapper thumbnail\">\\n\\t\\t<div class=\"card-body\">\\n\\t\\t\\t<img class=\"img-fluid card-img-top image img-responsive\" alt=\"item\" src=\"/images/test-sites/e-commerce/items/cart2.png\">\\n\\t\\t\\t<div class=\"caption\">\\n\\t\\t\\t\\t<h4 class=\"float-end price card-title pull-right\">$356.49</h4>\\n\\t\\t\\t\\t<h4>\\n\\t\\t\\t\\t\\t<a href=\"/test-sites/e-commerce/allinone/product/64\" class=\"title\" title=\"Lenovo V110-15IAP\">Lenovo V110-15...</a>\\n\\t\\t\\t\\t</h4>\\n\\t\\t\\t\\t<p class=\"description card-text\">Asus VivoBook 15 X540NA-GQ008T Chocolate Black, 15.6&quot; HD, Pentium N4200, 4GB, 500GB, Windows 10 Home, En kbd</p>\\n\\n\\t\\t\\t</div>\\n\\t\\t\\t<div class=\"ratings\">\\n\\t\\t\\t\\t<p class=\"float-end review-count\">6 reviews</p>\\n\\t\\t\\t\\t<p data-rating=\"2\">\\n\\t\\t\\t\\t\\t\\t\\t\\t\\t\\t<span class=\"ws-icon ws-icon-star\"></span>\\n\\t\\t\\t\\t\\t\\t\\t\\t\\t\\t<span class=\"ws-icon ws-icon-star\"></span>\\n\\t\\t\\t\\t\\t\\t\\t\\t\\t</p>\\n\\t\\t\\t</div>\\n\\t\\t</div>\\n\\t</div>\\n</div>\\n\\t\\t\\t<div class=\"col-md-4 col-xl-4 col-lg-4\">\\n\\t<div class=\"card product-wrapper thumbnail\">\\n\\t\\t<div class=\"card-body\">\\n\\t\\t\\t<img class=\"img-fluid card-img-top image img-responsive\" alt=\"item\" src=\"/images/test-sites/e-commerce/items/cart2.png\">\\n\\t\\t\\t<div class=\"caption\">\\n\\t\\t\\t\\t<h4 class=\"float-end price card-title pull-right\">$364.46</h4>\\n\\t\\t\\t\\t<h4>\\n\\t\\t\\t\\t\\t<a href=\"/test-sites/e-commerce/allinone/product/65\" class=\"title\" title=\"Hewlett Packard 250 G6 Dark Ash Silver\">Hewlett Packar...</a>\\n\\t\\t\\t\\t</h4>\\n\\t\\t\\t\\t<p class=\"description card-text\">Hewlett Packard 250 G6 Dark Ash Silver, 15.6&quot; HD, Celeron N3060 1.6GHz, 4GB, 128GB SSD, DOS</p>\\n\\n\\t\\t\\t</div>\\n\\t\\t\\t<div class=\"ratings\">\\n\\t\\t\\t\\t<p class=\"float-end review-count\">12 reviews</p>\\n\\t\\t\\t\\t<p data-rating=\"1\">\\n\\t\\t\\t\\t\\t\\t\\t\\t\\t\\t<span class=\"ws-icon ws-icon-star\"></span>\\n\\t\\t\\t\\t\\t\\t\\t\\t\\t</p>\\n\\t\\t\\t</div>\\n\\t\\t</div>\\n\\t</div>\\n</div>\\n\\t\\t\\t<div class=\"col-md-4 col-xl-4 col-lg-4\">\\n\\t<div class=\"card product-wrapper thumbnail\">\\n\\t\\t<div class=\"card-body\">\\n\\t\\t\\t<img class=\"img-fluid card-img-top image img-responsive\" alt=\"item\" src=\"/images/test-sites/e-commerce/items/cart2.png\">\\n\\t\\t\\t<div class=\"caption\">\\n\\t\\t\\t\\t<h4 class=\"float-end price card-title pull-right\">$372.7</h4>\\n\\t\\t\\t\\t<h4>\\n\\t\\t\\t\\t\\t<a href=\"/test-sites/e-commerce/allinone/product/66\" class=\"title\" title=\"Acer Aspire 3 A315-31 Black\">Acer Aspire 3...</a>\\n\\t\\t\\t\\t</h4>\\n\\t\\t\\t\\t<p class=\"description card-text\">Acer Aspire 3 A315-31 Black, 15.6&quot; HD, Celeron N3350 1.1GHz, 4GB, 128GB SSD, Windows 10 Home</p>\\n\\n\\t\\t\\t</div>\\n\\t\\t\\t<div class=\"ratings\">\\n\\t\\t\\t\\t<p class=\"float-end review-count\">2 reviews</p>\\n\\t\\t\\t\\t<p data-rating=\"2\">\\n\\t\\t\\t\\t\\t\\t\\t\\t\\t\\t<span class=\"ws-icon ws-icon-star\"></span>\\n\\t\\t\\t\\t\\t\\t\\t\\t\\t\\t<span class=\"ws-icon ws-icon-star\"></span>\\n\\t\\t\\t\\t\\t\\t\\t\\t\\t</p>\\n\\t\\t\\t</div>\\n\\t\\t</div>\\n\\t</div>\\n</div>\\n\\t\\t\\t<div class=\"col-md-4 col-xl-4 col-lg-4\">\\n\\t<div class=\"card product-wrapper thumbnail\">\\n\\t\\t<div class=\"card-body\">\\n\\t\\t\\t<img class=\"img-fluid card-img-top image img-responsive\" alt=\"item\" src=\"/images/test-sites/e-commerce/items/cart2.png\">\\n\\t\\t\\t<div class=\"caption\">\\n\\t\\t\\t\\t<h4 class=\"float-end price card-title pull-right\">$379.94</h4>\\n\\t\\t\\t\\t<h4>\\n\\t\\t\\t\\t\\t<a href=\"/test-sites/e-commerce/allinone/product/67\" class=\"title\" title=\"Acer Aspire A315-31-C33J\">Acer Aspire A3...</a>\\n\\t\\t\\t\\t</h4>\\n\\t\\t\\t\\t<p class=\"description card-text\">Acer Aspire A315-31-C33J Black 15.6&quot;, HD, Celeron N3350, 4GB DDR3L, 128GB, Windows 10 Home, ENG</p>\\n\\n\\t\\t\\t</div>\\n\\t\\t\\t<div class=\"ratings\">\\n\\t\\t\\t\\t<p class=\"float-end review-count\">0 reviews</p>\\n\\t\\t\\t\\t<p data-rating=\"2\">\\n\\t\\t\\t\\t\\t\\t\\t\\t\\t\\t<span class=\"ws-icon ws-icon-star\"></span>\\n\\t\\t\\t\\t\\t\\t\\t\\t\\t\\t<span class=\"ws-icon ws-icon-star\"></span>\\n\\t\\t\\t\\t\\t\\t\\t\\t\\t</p>\\n\\t\\t\\t</div>\\n\\t\\t</div>\\n\\t</div>\\n</div>\\n\\t\\t\\t<div class=\"col-md-4 col-xl-4 col-lg-4\">\\n\\t<div class=\"card product-wrapper thumbnail\">\\n\\t\\t<div class=\"card-body\">\\n\\t\\t\\t<img class=\"img-fluid card-img-top image img-responsive\" alt=\"item\" src=\"/images/test-sites/e-commerce/items/cart2.png\">\\n\\t\\t\\t<div class=\"caption\">\\n\\t\\t\\t\\t<h4 class=\"float-end price card-title pull-right\">$379.95</h4>\\n\\t\\t\\t\\t<h4>\\n\\t\\t\\t\\t\\t<a href=\"/test-sites/e-commerce/allinone/product/68\" class=\"title\" title=\"Acer Aspire ES1-572 Black\">Acer Aspire ES...</a>\\n\\t\\t\\t\\t</h4>\\n\\t\\t\\t\\t<p class=\"description card-text\">Acer Aspire ES1-572 Black, 15.6&quot; HD, Core i3-6006U, 4GB, 128GB SSD, Linux</p>\\n\\n\\t\\t\\t</div>\\n\\t\\t\\t<div class=\"ratings\">\\n\\t\\t\\t\\t<p class=\"float-end review-count\">9 reviews</p>\\n\\t\\t\\t\\t<p data-rating=\"4\">\\n\\t\\t\\t\\t\\t\\t\\t\\t\\t\\t<span class=\"ws-icon ws-icon-star\"></span>\\n\\t\\t\\t\\t\\t\\t\\t\\t\\t\\t<span class=\"ws-icon ws-icon-star\"></span>\\n\\t\\t\\t\\t\\t\\t\\t\\t\\t\\t<span class=\"ws-icon ws-icon-star\"></span>\\n\\t\\t\\t\\t\\t\\t\\t\\t\\t\\t<span class=\"ws-icon ws-icon-star\"></span>\\n\\t\\t\\t\\t\\t\\t\\t\\t\\t</p>\\n\\t\\t\\t</div>\\n\\t\\t</div>\\n\\t</div>\\n</div>\\n\\t\\t\\t<div class=\"col-md-4 col-xl-4 col-lg-4\">\\n\\t<div class=\"card product-wrapper thumbnail\">\\n\\t\\t<div class=\"card-body\">\\n\\t\\t\\t<img class=\"img-fluid card-img-top image img-responsive\" alt=\"item\" src=\"/images/test-sites/e-commerce/items/cart2.png\">\\n\\t\\t\\t<div class=\"caption\">\\n\\t\\t\\t\\t<h4 class=\"float-end price card-title pull-right\">$391.48</h4>\\n\\t\\t\\t\\t<h4>\\n\\t\\t\\t\\t\\t<a href=\"/test-sites/e-commerce/allinone/product/69\" class=\"title\" title=\"Acer Aspire 3 A315-31 Black\">Acer Aspire 3...</a>\\n\\t\\t\\t\\t</h4>\\n\\t\\t\\t\\t<p class=\"description card-text\">Acer Aspire 3 A315-31 Black, 15.6&quot; HD, Pentium N4200 1.1GHz, 4GB, 128GB SSD, Windows 10 Home</p>\\n\\n\\t\\t\\t</div>\\n\\t\\t\\t<div class=\"ratings\">\\n\\t\\t\\t\\t<p class=\"float-end review-count\">10 reviews</p>\\n\\t\\t\\t\\t<p data-rating=\"4\">\\n\\t\\t\\t\\t\\t\\t\\t\\t\\t\\t<span class=\"ws-icon ws-icon-star\"></span>\\n\\t\\t\\t\\t\\t\\t\\t\\t\\t\\t<span class=\"ws-icon ws-icon-star\"></span>\\n\\t\\t\\t\\t\\t\\t\\t\\t\\t\\t<span class=\"ws-icon ws-icon-star\"></span>\\n\\t\\t\\t\\t\\t\\t\\t\\t\\t\\t<span class=\"ws-icon ws-icon-star\"></span>\\n\\t\\t\\t\\t\\t\\t\\t\\t\\t</p>\\n\\t\\t\\t</div>\\n\\t\\t</div>\\n\\t</div>\\n</div>\\n\\t\\t\\t<div class=\"col-md-4 col-xl-4 col-lg-4\">\\n\\t<div class=\"card product-wrapper thumbnail\">\\n\\t\\t<div class=\"card-body\">\\n\\t\\t\\t<img class=\"img-fluid card-img-top image img-responsive\" alt=\"item\" src=\"/images/test-sites/e-commerce/items/cart2.png\">\\n\\t\\t\\t<div class=\"caption\">\\n\\t\\t\\t\\t<h4 class=\"float-end price card-title pull-right\">$393.88</h4>\\n\\t\\t\\t\\t<h4>\\n\\t\\t\\t\\t\\t<a href=\"/test-sites/e-commerce/allinone/product/70\" class=\"title\" title=\"Acer Aspire 3 A315-21\">Acer Aspire 3...</a>\\n\\t\\t\\t\\t</h4>\\n\\t\\t\\t\\t<p class=\"description card-text\">Acer Aspire 3 A315-21, 15.6&quot;, AMD A4-9120. 4GB. 128GB SSD, Linux</p>\\n\\n\\t\\t\\t</div>\\n\\t\\t\\t<div class=\"ratings\">\\n\\t\\t\\t\\t<p class=\"float-end review-count\">9 reviews</p>\\n\\t\\t\\t\\t<p data-rating=\"3\">\\n\\t\\t\\t\\t\\t\\t\\t\\t\\t\\t<span class=\"ws-icon ws-icon-star\"></span>\\n\\t\\t\\t\\t\\t\\t\\t\\t\\t\\t<span class=\"ws-icon ws-icon-star\"></span>\\n\\t\\t\\t\\t\\t\\t\\t\\t\\t\\t<span class=\"ws-icon ws-icon-star\"></span>\\n\\t\\t\\t\\t\\t\\t\\t\\t\\t</p>\\n\\t\\t\\t</div>\\n\\t\\t</div>\\n\\t</div>\\n</div>\\n\\t\\t\\t<div class=\"col-md-4 col-xl-4 col-lg-4\">\\n\\t<div class=\"card product-wrapper thumbnail\">\\n\\t\\t<div class=\"card-body\">\\n\\t\\t\\t<img class=\"img-fluid card-img-top image img-responsive\" alt=\"item\" src=\"/images/test-sites/e-commerce/items/cart2.png\">\\n\\t\\t\\t<div class=\"caption\">\\n\\t\\t\\t\\t<h4 class=\"float-end price card-title pull-right\">$399</h4>\\n\\t\\t\\t\\t<h4>\\n\\t\\t\\t\\t\\t<a href=\"/test-sites/e-commerce/allinone/product/45\" class=\"title\" title=\"Asus VivoBook Max\">Asus VivoBook...</a>\\n\\t\\t\\t\\t</h4>\\n\\t\\t\\t\\t<p class=\"description card-text\">Asus VivoBook Max X541NA-GQ041 Black Chocolate, 15.6&quot; HD, Pentium N4200 1.1GHz, 4GB, 500GB, Windows 10 Home</p>\\n\\n\\t\\t\\t</div>\\n\\t\\t\\t<div class=\"ratings\">\\n\\t\\t\\t\\t<p class=\"float-end review-count\">4 reviews</p>\\n\\t\\t\\t\\t<p data-rating=\"1\">\\n\\t\\t\\t\\t\\t\\t\\t\\t\\t\\t<span class=\"ws-icon ws-icon-star\"></span>\\n\\t\\t\\t\\t\\t\\t\\t\\t\\t</p>\\n\\t\\t\\t</div>\\n\\t\\t</div>\\n\\t</div>\\n</div>\\n\\t\\t\\t<div class=\"col-md-4 col-xl-4 col-lg-4\">\\n\\t<div class=\"card product-wrapper thumbnail\">\\n\\t\\t<div class=\"card-body\">\\n\\t\\t\\t<img class=\"img-fluid card-img-top image img-responsive\" alt=\"item\" src=\"/images/test-sites/e-commerce/items/cart2.png\">\\n\\t\\t\\t<div class=\"caption\">\\n\\t\\t\\t\\t<h4 class=\"float-end price card-title pull-right\">$399.99</h4>\\n\\t\\t\\t\\t<h4>\\n\\t\\t\\t\\t\\t<a href=\"/test-sites/e-commerce/allinone/product/71\" class=\"title\" title=\"Asus VivoBook E502NA-GO022T Dark Blue\">Asus VivoBook...</a>\\n\\t\\t\\t\\t</h4>\\n\\t\\t\\t\\t<p class=\"description card-text\">Asus VivoBook E502NA-GO022T Dark Blue, 15.6&quot; HD, Pentium N4200 1.1GHz, 4GB, 128GB SSD, Windows 10 Home, En/Ru kbd</p>\\n\\n\\t\\t\\t</div>\\n\\t\\t\\t<div class=\"ratings\">\\n\\t\\t\\t\\t<p class=\"float-end review-count\">3 reviews</p>\\n\\t\\t\\t\\t<p data-rating=\"4\">\\n\\t\\t\\t\\t\\t\\t\\t\\t\\t\\t<span class=\"ws-icon ws-icon-star\"></span>\\n\\t\\t\\t\\t\\t\\t\\t\\t\\t\\t<span class=\"ws-icon ws-icon-star\"></span>\\n\\t\\t\\t\\t\\t\\t\\t\\t\\t\\t<span class=\"ws-icon ws-icon-star\"></span>\\n\\t\\t\\t\\t\\t\\t\\t\\t\\t\\t<span class=\"ws-icon ws-icon-star\"></span>\\n\\t\\t\\t\\t\\t\\t\\t\\t\\t</p>\\n\\t\\t\\t</div>\\n\\t\\t</div>\\n\\t</div>\\n</div>\\n\\t\\t\\t<div class=\"col-md-4 col-xl-4 col-lg-4\">\\n\\t<div class=\"card product-wrapper thumbnail\">\\n\\t\\t<div class=\"card-body\">\\n\\t\\t\\t<img class=\"img-fluid card-img-top image img-responsive\" alt=\"item\" src=\"/images/test-sites/e-commerce/items/cart2.png\">\\n\\t\\t\\t<div class=\"caption\">\\n\\t\\t\\t\\t<h4 class=\"float-end price card-title pull-right\">$404.23</h4>\\n\\t\\t\\t\\t<h4>\\n\\t\\t\\t\\t\\t<a href=\"/test-sites/e-commerce/allinone/product/72\" class=\"title\" title=\"Lenovo ThinkPad E31-80\">Lenovo ThinkPa...</a>\\n\\t\\t\\t\\t</h4>\\n\\t\\t\\t\\t<p class=\"description card-text\">Lenovo ThinkPad E31-80, 13.3&quot; HD, Celeron 3855U 1.6GHz, 4GB, 128GB SSD, Windows 10 Home</p>\\n\\n\\t\\t\\t</div>\\n\\t\\t\\t<div class=\"ratings\">\\n\\t\\t\\t\\t<p class=\"float-end review-count\">12 reviews</p>\\n\\t\\t\\t\\t<p data-rating=\"1\">\\n\\t\\t\\t\\t\\t\\t\\t\\t\\t\\t<span class=\"ws-icon ws-icon-star\"></span>\\n\\t\\t\\t\\t\\t\\t\\t\\t\\t</p>\\n\\t\\t\\t</div>\\n\\t\\t</div>\\n\\t</div>\\n</div>\\n\\t\\t\\t<div class=\"col-md-4 col-xl-4 col-lg-4\">\\n\\t<div class=\"card product-wrapper thumbnail\">\\n\\t\\t<div class=\"card-body\">\\n\\t\\t\\t<img class=\"img-fluid card-img-top image img-responsive\" alt=\"item\" src=\"/images/test-sites/e-commerce/items/cart2.png\">\\n\\t\\t\\t<div class=\"caption\">\\n\\t\\t\\t\\t<h4 class=\"float-end price card-title pull-right\">$408.98</h4>\\n\\t\\t\\t\\t<h4>\\n\\t\\t\\t\\t\\t<a href=\"/test-sites/e-commerce/allinone/product/73\" class=\"title\" title=\"Acer Aspire 3 A315-31 Black\">Acer Aspire 3...</a>\\n\\t\\t\\t\\t</h4>\\n\\t\\t\\t\\t<p class=\"description card-text\">Acer Aspire 3 A315-31 Black, 15.6&quot; HD, Pentium N4200 1.1GHz, 4GB, 128GB SSD, Windows 10 Home</p>\\n\\n\\t\\t\\t</div>\\n\\t\\t\\t<div class=\"ratings\">\\n\\t\\t\\t\\t<p class=\"float-end review-count\">10 reviews</p>\\n\\t\\t\\t\\t<p data-rating=\"4\">\\n\\t\\t\\t\\t\\t\\t\\t\\t\\t\\t<span class=\"ws-icon ws-icon-star\"></span>\\n\\t\\t\\t\\t\\t\\t\\t\\t\\t\\t<span class=\"ws-icon ws-icon-star\"></span>\\n\\t\\t\\t\\t\\t\\t\\t\\t\\t\\t<span class=\"ws-icon ws-icon-star\"></span>\\n\\t\\t\\t\\t\\t\\t\\t\\t\\t\\t<span class=\"ws-icon ws-icon-star\"></span>\\n\\t\\t\\t\\t\\t\\t\\t\\t\\t</p>\\n\\t\\t\\t</div>\\n\\t\\t</div>\\n\\t</div>\\n</div>\\n\\t\\t\\t<div class=\"col-md-4 col-xl-4 col-lg-4\">\\n\\t<div class=\"card product-wrapper thumbnail\">\\n\\t\\t<div class=\"card-body\">\\n\\t\\t\\t<img class=\"img-fluid card-img-top image img-responsive\" alt=\"item\" src=\"/images/test-sites/e-commerce/items/cart2.png\">\\n\\t\\t\\t<div class=\"caption\">\\n\\t\\t\\t\\t<h4 class=\"float-end price card-title pull-right\">$409.63</h4>\\n\\t\\t\\t\\t<h4>\\n\\t\\t\\t\\t\\t<a href=\"/test-sites/e-commerce/allinone/product/74\" class=\"title\" title=\"Lenovo V110-15ISK\">Lenovo V110-15...</a>\\n\\t\\t\\t\\t</h4>\\n\\t\\t\\t\\t<p class=\"description card-text\">Lenovo V110-15ISK, 15.6&quot; HD, Core i3-6006U, 8GB, 128GB SSD, Windows 10 Home</p>\\n\\n\\t\\t\\t</div>\\n\\t\\t\\t<div class=\"ratings\">\\n\\t\\t\\t\\t<p class=\"float-end review-count\">9 reviews</p>\\n\\t\\t\\t\\t<p data-rating=\"3\">\\n\\t\\t\\t\\t\\t\\t\\t\\t\\t\\t<span class=\"ws-icon ws-icon-star\"></span>\\n\\t\\t\\t\\t\\t\\t\\t\\t\\t\\t<span class=\"ws-icon ws-icon-star\"></span>\\n\\t\\t\\t\\t\\t\\t\\t\\t\\t\\t<span class=\"ws-icon ws-icon-star\"></span>\\n\\t\\t\\t\\t\\t\\t\\t\\t\\t</p>\\n\\t\\t\\t</div>\\n\\t\\t</div>\\n\\t</div>\\n</div>\\n\\t\\t\\t<div class=\"col-md-4 col-xl-4 col-lg-4\">\\n\\t<div class=\"card product-wrapper thumbnail\">\\n\\t\\t<div class=\"card-body\">\\n\\t\\t\\t<img class=\"img-fluid card-img-top image img-responsive\" alt=\"item\" src=\"/images/test-sites/e-commerce/items/cart2.png\">\\n\\t\\t\\t<div class=\"caption\">\\n\\t\\t\\t\\t<h4 class=\"float-end price card-title pull-right\">$410.46</h4>\\n\\t\\t\\t\\t<h4>\\n\\t\\t\\t\\t\\t<a href=\"/test-sites/e-commerce/allinone/product/75\" class=\"title\" title=\"Acer Aspire ES1-732 Black\">Acer Aspire ES...</a>\\n\\t\\t\\t\\t</h4>\\n\\t\\t\\t\\t<p class=\"description card-text\">Acer Aspire ES1-732 Black, 17.3&quot; HD+, Celeron, N3350, 4GB, 1TB, Windows 10 Home</p>\\n\\n\\t\\t\\t</div>\\n\\t\\t\\t<div class=\"ratings\">\\n\\t\\t\\t\\t<p class=\"float-end review-count\">14 reviews</p>\\n\\t\\t\\t\\t<p data-rating=\"4\">\\n\\t\\t\\t\\t\\t\\t\\t\\t\\t\\t<span class=\"ws-icon ws-icon-star\"></span>\\n\\t\\t\\t\\t\\t\\t\\t\\t\\t\\t<span class=\"ws-icon ws-icon-star\"></span>\\n\\t\\t\\t\\t\\t\\t\\t\\t\\t\\t<span class=\"ws-icon ws-icon-star\"></span>\\n\\t\\t\\t\\t\\t\\t\\t\\t\\t\\t<span class=\"ws-icon ws-icon-star\"></span>\\n\\t\\t\\t\\t\\t\\t\\t\\t\\t</p>\\n\\t\\t\\t</div>\\n\\t\\t</div>\\n\\t</div>\\n</div>\\n\\t\\t\\t<div class=\"col-md-4 col-xl-4 col-lg-4\">\\n\\t<div class=\"card product-wrapper thumbnail\">\\n\\t\\t<div class=\"card-body\">\\n\\t\\t\\t<img class=\"img-fluid card-img-top image img-responsive\" alt=\"item\" src=\"/images/test-sites/e-commerce/items/cart2.png\">\\n\\t\\t\\t<div class=\"caption\">\\n\\t\\t\\t\\t<h4 class=\"float-end price card-title pull-right\">$410.66</h4>\\n\\t\\t\\t\\t<h4>\\n\\t\\t\\t\\t\\t<a href=\"/test-sites/e-commerce/allinone/product/76\" class=\"title\" title=\"Asus VivoBook 15 X540NA-GQ026T\">Asus VivoBook...</a>\\n\\t\\t\\t\\t</h4>\\n\\t\\t\\t\\t<p class=\"description card-text\">Asus VivoBook 15 X540NA-GQ026T Chocolate Black, 15.6&quot; HD, Pentium N4200, 4GB, 128GB SSD, Windows 10 Home, En/Ru kbd</p>\\n\\n\\t\\t\\t</div>\\n\\t\\t\\t<div class=\"ratings\">\\n\\t\\t\\t\\t<p class=\"float-end review-count\">4 reviews</p>\\n\\t\\t\\t\\t<p data-rating=\"4\">\\n\\t\\t\\t\\t\\t\\t\\t\\t\\t\\t<span class=\"ws-icon ws-icon-star\"></span>\\n\\t\\t\\t\\t\\t\\t\\t\\t\\t\\t<span class=\"ws-icon ws-icon-star\"></span>\\n\\t\\t\\t\\t\\t\\t\\t\\t\\t\\t<span class=\"ws-icon ws-icon-star\"></span>\\n\\t\\t\\t\\t\\t\\t\\t\\t\\t\\t<span class=\"ws-icon ws-icon-star\"></span>\\n\\t\\t\\t\\t\\t\\t\\t\\t\\t</p>\\n\\t\\t\\t</div>\\n\\t\\t</div>\\n\\t</div>\\n</div>\\n\\t\\t\\t<div class=\"col-md-4 col-xl-4 col-lg-4\">\\n\\t<div class=\"card product-wrapper thumbnail\">\\n\\t\\t<div class=\"card-body\">\\n\\t\\t\\t<img class=\"img-fluid card-img-top image img-responsive\" alt=\"item\" src=\"/images/test-sites/e-commerce/items/cart2.png\">\\n\\t\\t\\t<div class=\"caption\">\\n\\t\\t\\t\\t<h4 class=\"float-end price card-title pull-right\">$416.99</h4>\\n\\t\\t\\t\\t<h4>\\n\\t\\t\\t\\t\\t<a href=\"/test-sites/e-commerce/allinone/product/31\" class=\"title\" title=\"Packard 255 G2\">Packard 255 G2</a>\\n\\t\\t\\t\\t</h4>\\n\\t\\t\\t\\t<p class=\"description card-text\">15.6&quot;, AMD E2-3800 1.3GHz, 4GB, 500GB, Windows 8.1</p>\\n\\n\\t\\t\\t</div>\\n\\t\\t\\t<div class=\"ratings\">\\n\\t\\t\\t\\t<p class=\"float-end review-count\">2 reviews</p>\\n\\t\\t\\t\\t<p data-rating=\"2\">\\n\\t\\t\\t\\t\\t\\t\\t\\t\\t\\t<span class=\"ws-icon ws-icon-star\"></span>\\n\\t\\t\\t\\t\\t\\t\\t\\t\\t\\t<span class=\"ws-icon ws-icon-star\"></span>\\n\\t\\t\\t\\t\\t\\t\\t\\t\\t</p>\\n\\t\\t\\t</div>\\n\\t\\t</div>\\n\\t</div>\\n</div>\\n\\t\\t\\t<div class=\"col-md-4 col-xl-4 col-lg-4\">\\n\\t<div class=\"card product-wrapper thumbnail\">\\n\\t\\t<div class=\"card-body\">\\n\\t\\t\\t<img class=\"img-fluid card-img-top image img-responsive\" alt=\"item\" src=\"/images/test-sites/e-commerce/items/cart2.png\">\\n\\t\\t\\t<div class=\"caption\">\\n\\t\\t\\t\\t<h4 class=\"float-end price card-title pull-right\">$433.3</h4>\\n\\t\\t\\t\\t<h4>\\n\\t\\t\\t\\t\\t<a href=\"/test-sites/e-commerce/allinone/product/77\" class=\"title\" title=\"Asus EeeBook R416NA-FA014T\">Asus EeeBook R...</a>\\n\\t\\t\\t\\t</h4>\\n\\t\\t\\t\\t<p class=\"description card-text\">Asus EeeBook R416NA-FA014T, 14&quot; FHD, Pentium N4200, 4GB, 128GB eMMC, Windows 10 Home, Eng kbd</p>\\n\\n\\t\\t\\t</div>\\n\\t\\t\\t<div class=\"ratings\">\\n\\t\\t\\t\\t<p class=\"float-end review-count\">1 reviews</p>\\n\\t\\t\\t\\t<p data-rating=\"1\">\\n\\t\\t\\t\\t\\t\\t\\t\\t\\t\\t<span class=\"ws-icon ws-icon-star\"></span>\\n\\t\\t\\t\\t\\t\\t\\t\\t\\t</p>\\n\\t\\t\\t</div>\\n\\t\\t</div>\\n\\t</div>\\n</div>\\n\\t\\t\\t<div class=\"col-md-4 col-xl-4 col-lg-4\">\\n\\t<div class=\"card product-wrapper thumbnail\">\\n\\t\\t<div class=\"card-body\">\\n\\t\\t\\t<img class=\"img-fluid card-img-top image img-responsive\" alt=\"item\" src=\"/images/test-sites/e-commerce/items/cart2.png\">\\n\\t\\t\\t<div class=\"caption\">\\n\\t\\t\\t\\t<h4 class=\"float-end price card-title pull-right\">$436.29</h4>\\n\\t\\t\\t\\t<h4>\\n\\t\\t\\t\\t\\t<a href=\"/test-sites/e-commerce/allinone/product/78\" class=\"title\" title=\"Acer Aspire 3 A315-51\">Acer Aspire 3...</a>\\n\\t\\t\\t\\t</h4>\\n\\t\\t\\t\\t<p class=\"description card-text\">Acer Aspire 3 A315-51, 15.6&quot; HD, Core i3-6006U, 4GB, 1TB, Windows 10 Home</p>\\n\\n\\t\\t\\t</div>\\n\\t\\t\\t<div class=\"ratings\">\\n\\t\\t\\t\\t<p class=\"float-end review-count\">1 reviews</p>\\n\\t\\t\\t\\t<p data-rating=\"1\">\\n\\t\\t\\t\\t\\t\\t\\t\\t\\t\\t<span class=\"ws-icon ws-icon-star\"></span>\\n\\t\\t\\t\\t\\t\\t\\t\\t\\t</p>\\n\\t\\t\\t</div>\\n\\t\\t</div>\\n\\t</div>\\n</div>\\n\\t\\t\\t<div class=\"col-md-4 col-xl-4 col-lg-4\">\\n\\t<div class=\"card product-wrapper thumbnail\">\\n\\t\\t<div class=\"card-body\">\\n\\t\\t\\t<img class=\"img-fluid card-img-top image img-responsive\" alt=\"item\" src=\"/images/test-sites/e-commerce/items/cart2.png\">\\n\\t\\t\\t<div class=\"caption\">\\n\\t\\t\\t\\t<h4 class=\"float-end price card-title pull-right\">$436.29</h4>\\n\\t\\t\\t\\t<h4>\\n\\t\\t\\t\\t\\t<a href=\"/test-sites/e-commerce/allinone/product/79\" class=\"title\" title=\"Acer Aspire ES1-572 Black\">Acer Aspire ES...</a>\\n\\t\\t\\t\\t</h4>\\n\\t\\t\\t\\t<p class=\"description card-text\">Acer Aspire ES1-572 Black, 15.6&quot; HD, Core i3-6006U, 4GB, 500GB, Windows 10 Home</p>\\n\\n\\t\\t\\t</div>\\n\\t\\t\\t<div class=\"ratings\">\\n\\t\\t\\t\\t<p class=\"float-end review-count\">2 reviews</p>\\n\\t\\t\\t\\t<p data-rating=\"1\">\\n\\t\\t\\t\\t\\t\\t\\t\\t\\t\\t<span class=\"ws-icon ws-icon-star\"></span>\\n\\t\\t\\t\\t\\t\\t\\t\\t\\t</p>\\n\\t\\t\\t</div>\\n\\t\\t</div>\\n\\t</div>\\n</div>\\n\\t\\t\\t<div class=\"col-md-4 col-xl-4 col-lg-4\">\\n\\t<div class=\"card product-wrapper thumbnail\">\\n\\t\\t<div class=\"card-body\">\\n\\t\\t\\t<img class=\"img-fluid card-img-top image img-responsive\" alt=\"item\" src=\"/images/test-sites/e-commerce/items/cart2.png\">\\n\\t\\t\\t<div class=\"caption\">\\n\\t\\t\\t\\t<h4 class=\"float-end price card-title pull-right\">$439.73</h4>\\n\\t\\t\\t\\t<h4>\\n\\t\\t\\t\\t\\t<a href=\"/test-sites/e-commerce/allinone/product/80\" class=\"title\" title=\"Acer Extensa 15 (2540) Black\">Acer Extensa 1...</a>\\n\\t\\t\\t\\t</h4>\\n\\t\\t\\t\\t<p class=\"description card-text\">Acer Extensa 15 (2540) Black, 15.6&quot; HD, Core i5-7200U, 4GB, 500GB, Linux</p>\\n\\n\\t\\t\\t</div>\\n\\t\\t\\t<div class=\"ratings\">\\n\\t\\t\\t\\t<p class=\"float-end review-count\">6 reviews</p>\\n\\t\\t\\t\\t<p data-rating=\"4\">\\n\\t\\t\\t\\t\\t\\t\\t\\t\\t\\t<span class=\"ws-icon ws-icon-star\"></span>\\n\\t\\t\\t\\t\\t\\t\\t\\t\\t\\t<span class=\"ws-icon ws-icon-star\"></span>\\n\\t\\t\\t\\t\\t\\t\\t\\t\\t\\t<span class=\"ws-icon ws-icon-star\"></span>\\n\\t\\t\\t\\t\\t\\t\\t\\t\\t\\t<span class=\"ws-icon ws-icon-star\"></span>\\n\\t\\t\\t\\t\\t\\t\\t\\t\\t</p>\\n\\t\\t\\t</div>\\n\\t\\t</div>\\n\\t</div>\\n</div>\\n\\t\\t\\t<div class=\"col-md-4 col-xl-4 col-lg-4\">\\n\\t<div class=\"card product-wrapper thumbnail\">\\n\\t\\t<div class=\"card-body\">\\n\\t\\t\\t<img class=\"img-fluid card-img-top image img-responsive\" alt=\"item\" src=\"/images/test-sites/e-commerce/items/cart2.png\">\\n\\t\\t\\t<div class=\"caption\">\\n\\t\\t\\t\\t<h4 class=\"float-end price card-title pull-right\">$454.62</h4>\\n\\t\\t\\t\\t<h4>\\n\\t\\t\\t\\t\\t<a href=\"/test-sites/e-commerce/allinone/product/81\" class=\"title\" title=\"Acer Aspire ES1-572 Black\">Acer Aspire ES...</a>\\n\\t\\t\\t\\t</h4>\\n\\t\\t\\t\\t<p class=\"description card-text\">Acer Aspire ES1-572 Black, 15.6&quot; HD, Core i5-7200U, 4GB, 500GB, Linux</p>\\n\\n\\t\\t\\t</div>\\n\\t\\t\\t<div class=\"ratings\">\\n\\t\\t\\t\\t<p class=\"float-end review-count\">9 reviews</p>\\n\\t\\t\\t\\t<p data-rating=\"1\">\\n\\t\\t\\t\\t\\t\\t\\t\\t\\t\\t<span class=\"ws-icon ws-icon-star\"></span>\\n\\t\\t\\t\\t\\t\\t\\t\\t\\t</p>\\n\\t\\t\\t</div>\\n\\t\\t</div>\\n\\t</div>\\n</div>\\n\\t\\t\\t<div class=\"col-md-4 col-xl-4 col-lg-4\">\\n\\t<div class=\"card product-wrapper thumbnail\">\\n\\t\\t<div class=\"card-body\">\\n\\t\\t\\t<img class=\"img-fluid card-img-top image img-responsive\" alt=\"item\" src=\"/images/test-sites/e-commerce/items/cart2.png\">\\n\\t\\t\\t<div class=\"caption\">\\n\\t\\t\\t\\t<h4 class=\"float-end price card-title pull-right\">$454.73</h4>\\n\\t\\t\\t\\t<h4>\\n\\t\\t\\t\\t\\t<a href=\"/test-sites/e-commerce/allinone/product/82\" class=\"title\" title=\"Lenovo V110-15ISK\">Lenovo V110-15...</a>\\n\\t\\t\\t\\t</h4>\\n\\t\\t\\t\\t<p class=\"description card-text\">Lenovo V110-15ISK, 15.6&quot; HD, Core i3-6006U, 4GB, 128GB SSD, Windows 10 Pro</p>\\n\\n\\t\\t\\t</div>\\n\\t\\t\\t<div class=\"ratings\">\\n\\t\\t\\t\\t<p class=\"float-end review-count\">2 reviews</p>\\n\\t\\t\\t\\t<p data-rating=\"2\">\\n\\t\\t\\t\\t\\t\\t\\t\\t\\t\\t<span class=\"ws-icon ws-icon-star\"></span>\\n\\t\\t\\t\\t\\t\\t\\t\\t\\t\\t<span class=\"ws-icon ws-icon-star\"></span>\\n\\t\\t\\t\\t\\t\\t\\t\\t\\t</p>\\n\\t\\t\\t</div>\\n\\t\\t</div>\\n\\t</div>\\n</div>\\n\\t\\t\\t<div class=\"col-md-4 col-xl-4 col-lg-4\">\\n\\t<div class=\"card product-wrapper thumbnail\">\\n\\t\\t<div class=\"card-body\">\\n\\t\\t\\t<img class=\"img-fluid card-img-top image img-responsive\" alt=\"item\" src=\"/images/test-sites/e-commerce/items/cart2.png\">\\n\\t\\t\\t<div class=\"caption\">\\n\\t\\t\\t\\t<h4 class=\"float-end price card-title pull-right\">$457.38</h4>\\n\\t\\t\\t\\t<h4>\\n\\t\\t\\t\\t\\t<a href=\"/test-sites/e-commerce/allinone/product/83\" class=\"title\" title=\"Acer Aspire A315-51-33TG\">Acer Aspire A3...</a>\\n\\t\\t\\t\\t</h4>\\n\\t\\t\\t\\t<p class=\"description card-text\">Acer Aspire A315-51-33TG, Black 15.6&quot; HD, Core i3-7100U, 4GB DDR4, 128GB SSD, Windows 10 Home, ENG</p>\\n\\n\\t\\t\\t</div>\\n\\t\\t\\t<div class=\"ratings\">\\n\\t\\t\\t\\t<p class=\"float-end review-count\">9 reviews</p>\\n\\t\\t\\t\\t<p data-rating=\"3\">\\n\\t\\t\\t\\t\\t\\t\\t\\t\\t\\t<span class=\"ws-icon ws-icon-star\"></span>\\n\\t\\t\\t\\t\\t\\t\\t\\t\\t\\t<span class=\"ws-icon ws-icon-star\"></span>\\n\\t\\t\\t\\t\\t\\t\\t\\t\\t\\t<span class=\"ws-icon ws-icon-star\"></span>\\n\\t\\t\\t\\t\\t\\t\\t\\t\\t</p>\\n\\t\\t\\t</div>\\n\\t\\t</div>\\n\\t</div>\\n</div>\\n\\t\\t\\t<div class=\"col-md-4 col-xl-4 col-lg-4\">\\n\\t<div class=\"card product-wrapper thumbnail\">\\n\\t\\t<div class=\"card-body\">\\n\\t\\t\\t<img class=\"img-fluid card-img-top image img-responsive\" alt=\"item\" src=\"/images/test-sites/e-commerce/items/cart2.png\">\\n\\t\\t\\t<div class=\"caption\">\\n\\t\\t\\t\\t<h4 class=\"float-end price card-title pull-right\">$465.95</h4>\\n\\t\\t\\t\\t<h4>\\n\\t\\t\\t\\t\\t<a href=\"/test-sites/e-commerce/allinone/product/84\" class=\"title\" title=\"Lenovo V110-15IKB\">Lenovo V110-15...</a>\\n\\t\\t\\t\\t</h4>\\n\\t\\t\\t\\t<p class=\"description card-text\">Lenovo V110-15IKB, 15.6&quot; HD, Core i5-7200U, 4GB, 500GB, DOS</p>\\n\\n\\t\\t\\t</div>\\n\\t\\t\\t<div class=\"ratings\">\\n\\t\\t\\t\\t<p class=\"float-end review-count\">7 reviews</p>\\n\\t\\t\\t\\t<p data-rating=\"1\">\\n\\t\\t\\t\\t\\t\\t\\t\\t\\t\\t<span class=\"ws-icon ws-icon-star\"></span>\\n\\t\\t\\t\\t\\t\\t\\t\\t\\t</p>\\n\\t\\t\\t</div>\\n\\t\\t</div>\\n\\t</div>\\n</div>\\n\\t\\t\\t<div class=\"col-md-4 col-xl-4 col-lg-4\">\\n\\t<div class=\"card product-wrapper thumbnail\">\\n\\t\\t<div class=\"card-body\">\\n\\t\\t\\t<img class=\"img-fluid card-img-top image img-responsive\" alt=\"item\" src=\"/images/test-sites/e-commerce/items/cart2.png\">\\n\\t\\t\\t<div class=\"caption\">\\n\\t\\t\\t\\t<h4 class=\"float-end price card-title pull-right\">$468.56</h4>\\n\\t\\t\\t\\t<h4>\\n\\t\\t\\t\\t\\t<a href=\"/test-sites/e-commerce/allinone/product/85\" class=\"title\" title=\"Asus VivoBook 15 X540UA-DM260 Chocolate Black\">Asus VivoBook...</a>\\n\\t\\t\\t\\t</h4>\\n\\t\\t\\t\\t<p class=\"description card-text\">Asus VivoBook 15 X540UA-DM260 Chocolate Black, 15.6&quot; FHD, Core i3-6006U, 4GB, 256GB SSD, Endless OS, En kbd</p>\\n\\n\\t\\t\\t</div>\\n\\t\\t\\t<div class=\"ratings\">\\n\\t\\t\\t\\t<p class=\"float-end review-count\">1 reviews</p>\\n\\t\\t\\t\\t<p data-rating=\"3\">\\n\\t\\t\\t\\t\\t\\t\\t\\t\\t\\t<span class=\"ws-icon ws-icon-star\"></span>\\n\\t\\t\\t\\t\\t\\t\\t\\t\\t\\t<span class=\"ws-icon ws-icon-star\"></span>\\n\\t\\t\\t\\t\\t\\t\\t\\t\\t\\t<span class=\"ws-icon ws-icon-star\"></span>\\n\\t\\t\\t\\t\\t\\t\\t\\t\\t</p>\\n\\t\\t\\t</div>\\n\\t\\t</div>\\n\\t</div>\\n</div>\\n\\t\\t\\t<div class=\"col-md-4 col-xl-4 col-lg-4\">\\n\\t<div class=\"card product-wrapper thumbnail\">\\n\\t\\t<div class=\"card-body\">\\n\\t\\t\\t<img class=\"img-fluid card-img-top image img-responsive\" alt=\"item\" src=\"/images/test-sites/e-commerce/items/cart2.png\">\\n\\t\\t\\t<div class=\"caption\">\\n\\t\\t\\t\\t<h4 class=\"float-end price card-title pull-right\">$469.1</h4>\\n\\t\\t\\t\\t<h4>\\n\\t\\t\\t\\t\\t<a href=\"/test-sites/e-commerce/allinone/product/86\" class=\"title\" title=\"Acer Aspire ES1-572 Black\">Acer Aspire ES...</a>\\n\\t\\t\\t\\t</h4>\\n\\t\\t\\t\\t<p class=\"description card-text\">Acer Aspire ES1-572 Black, 15.6&quot; HD, Core i3-6006U, 4GB, 128GB SSD, Windows 10 Home</p>\\n\\n\\t\\t\\t</div>\\n\\t\\t\\t<div class=\"ratings\">\\n\\t\\t\\t\\t<p class=\"float-end review-count\">5 reviews</p>\\n\\t\\t\\t\\t<p data-rating=\"3\">\\n\\t\\t\\t\\t\\t\\t\\t\\t\\t\\t<span class=\"ws-icon ws-icon-star\"></span>\\n\\t\\t\\t\\t\\t\\t\\t\\t\\t\\t<span class=\"ws-icon ws-icon-star\"></span>\\n\\t\\t\\t\\t\\t\\t\\t\\t\\t\\t<span class=\"ws-icon ws-icon-star\"></span>\\n\\t\\t\\t\\t\\t\\t\\t\\t\\t</p>\\n\\t\\t\\t</div>\\n\\t\\t</div>\\n\\t</div>\\n</div>\\n\\t\\t\\t<div class=\"col-md-4 col-xl-4 col-lg-4\">\\n\\t<div class=\"card product-wrapper thumbnail\">\\n\\t\\t<div class=\"card-body\">\\n\\t\\t\\t<img class=\"img-fluid card-img-top image img-responsive\" alt=\"item\" src=\"/images/test-sites/e-commerce/items/cart2.png\">\\n\\t\\t\\t<div class=\"caption\">\\n\\t\\t\\t\\t<h4 class=\"float-end price card-title pull-right\">$484.23</h4>\\n\\t\\t\\t\\t<h4>\\n\\t\\t\\t\\t\\t<a href=\"/test-sites/e-commerce/allinone/product/87\" class=\"title\" title=\"Lenovo V510 Black\">Lenovo V510 Bl...</a>\\n\\t\\t\\t\\t</h4>\\n\\t\\t\\t\\t<p class=\"description card-text\">Lenovo V510 Black, 14&quot; HD, Core i3-6006U, 4GB, 128GB SSD, Windows 10 Home</p>\\n\\n\\t\\t\\t</div>\\n\\t\\t\\t<div class=\"ratings\">\\n\\t\\t\\t\\t<p class=\"float-end review-count\">8 reviews</p>\\n\\t\\t\\t\\t<p data-rating=\"3\">\\n\\t\\t\\t\\t\\t\\t\\t\\t\\t\\t<span class=\"ws-icon ws-icon-star\"></span>\\n\\t\\t\\t\\t\\t\\t\\t\\t\\t\\t<span class=\"ws-icon ws-icon-star\"></span>\\n\\t\\t\\t\\t\\t\\t\\t\\t\\t\\t<span class=\"ws-icon ws-icon-star\"></span>\\n\\t\\t\\t\\t\\t\\t\\t\\t\\t</p>\\n\\t\\t\\t</div>\\n\\t\\t</div>\\n\\t</div>\\n</div>\\n\\t\\t\\t<div class=\"col-md-4 col-xl-4 col-lg-4\">\\n\\t<div class=\"card product-wrapper thumbnail\">\\n\\t\\t<div class=\"card-body\">\\n\\t\\t\\t<img class=\"img-fluid card-img-top image img-responsive\" alt=\"item\" src=\"/images/test-sites/e-commerce/items/cart2.png\">\\n\\t\\t\\t<div class=\"caption\">\\n\\t\\t\\t\\t<h4 class=\"float-end price card-title pull-right\">$485.9</h4>\\n\\t\\t\\t\\t<h4>\\n\\t\\t\\t\\t\\t<a href=\"/test-sites/e-commerce/allinone/product/88\" class=\"title\" title=\"Acer Aspire ES1-572 Black\">Acer Aspire ES...</a>\\n\\t\\t\\t\\t</h4>\\n\\t\\t\\t\\t<p class=\"description card-text\">Acer Aspire ES1-572 Black, 15.6&quot; HD, Core i5-7200U, 4GB, 128GB SSD, Linux</p>\\n\\n\\t\\t\\t</div>\\n\\t\\t\\t<div class=\"ratings\">\\n\\t\\t\\t\\t<p class=\"float-end review-count\">6 reviews</p>\\n\\t\\t\\t\\t<p data-rating=\"3\">\\n\\t\\t\\t\\t\\t\\t\\t\\t\\t\\t<span class=\"ws-icon ws-icon-star\"></span>\\n\\t\\t\\t\\t\\t\\t\\t\\t\\t\\t<span class=\"ws-icon ws-icon-star\"></span>\\n\\t\\t\\t\\t\\t\\t\\t\\t\\t\\t<span class=\"ws-icon ws-icon-star\"></span>\\n\\t\\t\\t\\t\\t\\t\\t\\t\\t</p>\\n\\t\\t\\t</div>\\n\\t\\t</div>\\n\\t</div>\\n</div>\\n\\t\\t\\t<div class=\"col-md-4 col-xl-4 col-lg-4\">\\n\\t<div class=\"card product-wrapper thumbnail\">\\n\\t\\t<div class=\"card-body\">\\n\\t\\t\\t<img class=\"img-fluid card-img-top image img-responsive\" alt=\"item\" src=\"/images/test-sites/e-commerce/items/cart2.png\">\\n\\t\\t\\t<div class=\"caption\">\\n\\t\\t\\t\\t<h4 class=\"float-end price card-title pull-right\">$487.8</h4>\\n\\t\\t\\t\\t<h4>\\n\\t\\t\\t\\t\\t<a href=\"/test-sites/e-commerce/allinone/product/89\" class=\"title\" title=\"Lenovo V510 Black\">Lenovo V510 Bl...</a>\\n\\t\\t\\t\\t</h4>\\n\\t\\t\\t\\t<p class=\"description card-text\">Lenovo V510 Black, 15.6&quot; HD, Core i3-6006U, 4GB, 128GB SSD, Windows 10 Home</p>\\n\\n\\t\\t\\t</div>\\n\\t\\t\\t<div class=\"ratings\">\\n\\t\\t\\t\\t<p class=\"float-end review-count\">9 reviews</p>\\n\\t\\t\\t\\t<p data-rating=\"2\">\\n\\t\\t\\t\\t\\t\\t\\t\\t\\t\\t<span class=\"ws-icon ws-icon-star\"></span>\\n\\t\\t\\t\\t\\t\\t\\t\\t\\t\\t<span class=\"ws-icon ws-icon-star\"></span>\\n\\t\\t\\t\\t\\t\\t\\t\\t\\t</p>\\n\\t\\t\\t</div>\\n\\t\\t</div>\\n\\t</div>\\n</div>\\n\\t\\t\\t<div class=\"col-md-4 col-xl-4 col-lg-4\">\\n\\t<div class=\"card product-wrapper thumbnail\">\\n\\t\\t<div class=\"card-body\">\\n\\t\\t\\t<img class=\"img-fluid card-img-top image img-responsive\" alt=\"item\" src=\"/images/test-sites/e-commerce/items/cart2.png\">\\n\\t\\t\\t<div class=\"caption\">\\n\\t\\t\\t\\t<h4 class=\"float-end price card-title pull-right\">$488.64</h4>\\n\\t\\t\\t\\t<h4>\\n\\t\\t\\t\\t\\t<a href=\"/test-sites/e-commerce/allinone/product/90\" class=\"title\" title=\"Acer Swift 1 SF113-31 Silver\">Acer Swift 1 S...</a>\\n\\t\\t\\t\\t</h4>\\n\\t\\t\\t\\t<p class=\"description card-text\">Acer Swift 1 SF113-31 Silver, 13.3&quot; FHD, Pentium N4200, 4GB, 128GB SSD, Windows 10 Home</p>\\n\\n\\t\\t\\t</div>\\n\\t\\t\\t<div class=\"ratings\">\\n\\t\\t\\t\\t<p class=\"float-end review-count\">4 reviews</p>\\n\\t\\t\\t\\t<p data-rating=\"3\">\\n\\t\\t\\t\\t\\t\\t\\t\\t\\t\\t<span class=\"ws-icon ws-icon-star\"></span>\\n\\t\\t\\t\\t\\t\\t\\t\\t\\t\\t<span class=\"ws-icon ws-icon-star\"></span>\\n\\t\\t\\t\\t\\t\\t\\t\\t\\t\\t<span class=\"ws-icon ws-icon-star\"></span>\\n\\t\\t\\t\\t\\t\\t\\t\\t\\t</p>\\n\\t\\t\\t</div>\\n\\t\\t</div>\\n\\t</div>\\n</div>\\n\\t\\t\\t<div class=\"col-md-4 col-xl-4 col-lg-4\">\\n\\t<div class=\"card product-wrapper thumbnail\">\\n\\t\\t<div class=\"card-body\">\\n\\t\\t\\t<img class=\"img-fluid card-img-top image img-responsive\" alt=\"item\" src=\"/images/test-sites/e-commerce/items/cart2.png\">\\n\\t\\t\\t<div class=\"caption\">\\n\\t\\t\\t\\t<h4 class=\"float-end price card-title pull-right\">$488.78</h4>\\n\\t\\t\\t\\t<h4>\\n\\t\\t\\t\\t\\t<a href=\"/test-sites/e-commerce/allinone/product/46\" class=\"title\" title=\"Dell Vostro 15\">Dell Vostro 15</a>\\n\\t\\t\\t\\t</h4>\\n\\t\\t\\t\\t<p class=\"description card-text\">Dell Vostro 15 (3568) Black, 15.6&quot; FHD, Core i5-7200U, 4GB, 128GB SSD, Radeon R5 M420 2GB, Linux</p>\\n\\n\\t\\t\\t</div>\\n\\t\\t\\t<div class=\"ratings\">\\n\\t\\t\\t\\t<p class=\"float-end review-count\">14 reviews</p>\\n\\t\\t\\t\\t<p data-rating=\"4\">\\n\\t\\t\\t\\t\\t\\t\\t\\t\\t\\t<span class=\"ws-icon ws-icon-star\"></span>\\n\\t\\t\\t\\t\\t\\t\\t\\t\\t\\t<span class=\"ws-icon ws-icon-star\"></span>\\n\\t\\t\\t\\t\\t\\t\\t\\t\\t\\t<span class=\"ws-icon ws-icon-star\"></span>\\n\\t\\t\\t\\t\\t\\t\\t\\t\\t\\t<span class=\"ws-icon ws-icon-star\"></span>\\n\\t\\t\\t\\t\\t\\t\\t\\t\\t</p>\\n\\t\\t\\t</div>\\n\\t\\t</div>\\n\\t</div>\\n</div>\\n\\t\\t\\t<div class=\"col-md-4 col-xl-4 col-lg-4\">\\n\\t<div class=\"card product-wrapper thumbnail\">\\n\\t\\t<div class=\"card-body\">\\n\\t\\t\\t<img class=\"img-fluid card-img-top image img-responsive\" alt=\"item\" src=\"/images/test-sites/e-commerce/items/cart2.png\">\\n\\t\\t\\t<div class=\"caption\">\\n\\t\\t\\t\\t<h4 class=\"float-end price card-title pull-right\">$494.71</h4>\\n\\t\\t\\t\\t<h4>\\n\\t\\t\\t\\t\\t<a href=\"/test-sites/e-commerce/allinone/product/91\" class=\"title\" title=\"Acer Aspire 3 A315-51 Black\">Acer Aspire 3...</a>\\n\\t\\t\\t\\t</h4>\\n\\t\\t\\t\\t<p class=\"description card-text\">Acer Aspire 3 A315-51 Black, 15.6&quot; FHD, Core i3-7100U, 4GB, 500GB + 128GB SSD, Windows 10 Home</p>\\n\\n\\t\\t\\t</div>\\n\\t\\t\\t<div class=\"ratings\">\\n\\t\\t\\t\\t<p class=\"float-end review-count\">2 reviews</p>\\n\\t\\t\\t\\t<p data-rating=\"4\">\\n\\t\\t\\t\\t\\t\\t\\t\\t\\t\\t<span class=\"ws-icon ws-icon-star\"></span>\\n\\t\\t\\t\\t\\t\\t\\t\\t\\t\\t<span class=\"ws-icon ws-icon-star\"></span>\\n\\t\\t\\t\\t\\t\\t\\t\\t\\t\\t<span class=\"ws-icon ws-icon-star\"></span>\\n\\t\\t\\t\\t\\t\\t\\t\\t\\t\\t<span class=\"ws-icon ws-icon-star\"></span>\\n\\t\\t\\t\\t\\t\\t\\t\\t\\t</p>\\n\\t\\t\\t</div>\\n\\t\\t</div>\\n\\t</div>\\n</div>\\n\\t\\t\\t<div class=\"col-md-4 col-xl-4 col-lg-4\">\\n\\t<div class=\"card product-wrapper thumbnail\">\\n\\t\\t<div class=\"card-body\">\\n\\t\\t\\t<img class=\"img-fluid card-img-top image img-responsive\" alt=\"item\" src=\"/images/test-sites/e-commerce/items/cart2.png\">\\n\\t\\t\\t<div class=\"caption\">\\n\\t\\t\\t\\t<h4 class=\"float-end price card-title pull-right\">$497.17</h4>\\n\\t\\t\\t\\t<h4>\\n\\t\\t\\t\\t\\t<a href=\"/test-sites/e-commerce/allinone/product/92\" class=\"title\" title=\"Dell Vostro 15 (3568) Red\">Dell Vostro 15...</a>\\n\\t\\t\\t\\t</h4>\\n\\t\\t\\t\\t<p class=\"description card-text\">Dell Vostro 15 (3568) Red, 15.6&quot; HD, Core i5-7200U, 4GB, 1TB, Radeon R5 M420 2GB, Linux</p>\\n\\n\\t\\t\\t</div>\\n\\t\\t\\t<div class=\"ratings\">\\n\\t\\t\\t\\t<p class=\"float-end review-count\">9 reviews</p>\\n\\t\\t\\t\\t<p data-rating=\"1\">\\n\\t\\t\\t\\t\\t\\t\\t\\t\\t\\t<span class=\"ws-icon ws-icon-star\"></span>\\n\\t\\t\\t\\t\\t\\t\\t\\t\\t</p>\\n\\t\\t\\t</div>\\n\\t\\t</div>\\n\\t</div>\\n</div>\\n\\t\\t\\t<div class=\"col-md-4 col-xl-4 col-lg-4\">\\n\\t<div class=\"card product-wrapper thumbnail\">\\n\\t\\t<div class=\"card-body\">\\n\\t\\t\\t<img class=\"img-fluid card-img-top image img-responsive\" alt=\"item\" src=\"/images/test-sites/e-commerce/items/cart2.png\">\\n\\t\\t\\t<div class=\"caption\">\\n\\t\\t\\t\\t<h4 class=\"float-end price card-title pull-right\">$498.23</h4>\\n\\t\\t\\t\\t<h4>\\n\\t\\t\\t\\t\\t<a href=\"/test-sites/e-commerce/allinone/product/93\" class=\"title\" title=\"Lenovo V510 Black\">Lenovo V510 Bl...</a>\\n\\t\\t\\t\\t</h4>\\n\\t\\t\\t\\t<p class=\"description card-text\">Lenovo V510 Black, 15.6&quot; FHD, Core i3-7100U, 4GB, 128GB SSD, Windows 10 Pro</p>\\n\\n\\t\\t\\t</div>\\n\\t\\t\\t<div class=\"ratings\">\\n\\t\\t\\t\\t<p class=\"float-end review-count\">5 reviews</p>\\n\\t\\t\\t\\t<p data-rating=\"3\">\\n\\t\\t\\t\\t\\t\\t\\t\\t\\t\\t<span class=\"ws-icon ws-icon-star\"></span>\\n\\t\\t\\t\\t\\t\\t\\t\\t\\t\\t<span class=\"ws-icon ws-icon-star\"></span>\\n\\t\\t\\t\\t\\t\\t\\t\\t\\t\\t<span class=\"ws-icon ws-icon-star\"></span>\\n\\t\\t\\t\\t\\t\\t\\t\\t\\t</p>\\n\\t\\t\\t</div>\\n\\t\\t</div>\\n\\t</div>\\n</div>\\n\\t\\t\\t<div class=\"col-md-4 col-xl-4 col-lg-4\">\\n\\t<div class=\"card product-wrapper thumbnail\">\\n\\t\\t<div class=\"card-body\">\\n\\t\\t\\t<img class=\"img-fluid card-img-top image img-responsive\" alt=\"item\" src=\"/images/test-sites/e-commerce/items/cart2.png\">\\n\\t\\t\\t<div class=\"caption\">\\n\\t\\t\\t\\t<h4 class=\"float-end price card-title pull-right\">$520.99</h4>\\n\\t\\t\\t\\t<h4>\\n\\t\\t\\t\\t\\t<a href=\"/test-sites/e-commerce/allinone/product/42\" class=\"title\" title=\"HP 250 G3\">HP 250 G3</a>\\n\\t\\t\\t\\t</h4>\\n\\t\\t\\t\\t<p class=\"description card-text\">15.6&quot;, Core\\xa0i5-4210U, 4GB, 500GB, Windows 8.1</p>\\n\\n\\t\\t\\t</div>\\n\\t\\t\\t<div class=\"ratings\">\\n\\t\\t\\t\\t<p class=\"float-end review-count\">13 reviews</p>\\n\\t\\t\\t\\t<p data-rating=\"2\">\\n\\t\\t\\t\\t\\t\\t\\t\\t\\t\\t<span class=\"ws-icon ws-icon-star\"></span>\\n\\t\\t\\t\\t\\t\\t\\t\\t\\t\\t<span class=\"ws-icon ws-icon-star\"></span>\\n\\t\\t\\t\\t\\t\\t\\t\\t\\t</p>\\n\\t\\t\\t</div>\\n\\t\\t</div>\\n\\t</div>\\n</div>\\n\\t\\t\\t<div class=\"col-md-4 col-xl-4 col-lg-4\">\\n\\t<div class=\"card product-wrapper thumbnail\">\\n\\t\\t<div class=\"card-body\">\\n\\t\\t\\t<img class=\"img-fluid card-img-top image img-responsive\" alt=\"item\" src=\"/images/test-sites/e-commerce/items/cart2.png\">\\n\\t\\t\\t<div class=\"caption\">\\n\\t\\t\\t\\t<h4 class=\"float-end price card-title pull-right\">$564.98</h4>\\n\\t\\t\\t\\t<h4>\\n\\t\\t\\t\\t\\t<a href=\"/test-sites/e-commerce/allinone/product/47\" class=\"title\" title=\"Acer Spin 5\">Acer Spin 5</a>\\n\\t\\t\\t\\t</h4>\\n\\t\\t\\t\\t<p class=\"description card-text\">Acer Spin 5 SP513-51 Black, 13.3&quot; FHD Touch, Core i3-7100U, 4GB, 128GB SSD, Windows 10 Home</p>\\n\\n\\t\\t\\t</div>\\n\\t\\t\\t<div class=\"ratings\">\\n\\t\\t\\t\\t<p class=\"float-end review-count\">0 reviews</p>\\n\\t\\t\\t\\t<p data-rating=\"2\">\\n\\t\\t\\t\\t\\t\\t\\t\\t\\t\\t<span class=\"ws-icon ws-icon-star\"></span>\\n\\t\\t\\t\\t\\t\\t\\t\\t\\t\\t<span class=\"ws-icon ws-icon-star\"></span>\\n\\t\\t\\t\\t\\t\\t\\t\\t\\t</p>\\n\\t\\t\\t</div>\\n\\t\\t</div>\\n\\t</div>\\n</div>\\n\\t\\t\\t<div class=\"col-md-4 col-xl-4 col-lg-4\">\\n\\t<div class=\"card product-wrapper thumbnail\">\\n\\t\\t<div class=\"card-body\">\\n\\t\\t\\t<img class=\"img-fluid card-img-top image img-responsive\" alt=\"item\" src=\"/images/test-sites/e-commerce/items/cart2.png\">\\n\\t\\t\\t<div class=\"caption\">\\n\\t\\t\\t\\t<h4 class=\"float-end price card-title pull-right\">$577.99</h4>\\n\\t\\t\\t\\t<h4>\\n\\t\\t\\t\\t\\t<a href=\"/test-sites/e-commerce/allinone/product/44\" class=\"title\" title=\"HP 350 G1\">HP 350 G1</a>\\n\\t\\t\\t\\t</h4>\\n\\t\\t\\t\\t<p class=\"description card-text\">15.6&quot;, Core i5-4200U, 4GB, 750GB, Radeon HD8670M 2GB, Windows</p>\\n\\n\\t\\t\\t</div>\\n\\t\\t\\t<div class=\"ratings\">\\n\\t\\t\\t\\t<p class=\"float-end review-count\">10 reviews</p>\\n\\t\\t\\t\\t<p data-rating=\"2\">\\n\\t\\t\\t\\t\\t\\t\\t\\t\\t\\t<span class=\"ws-icon ws-icon-star\"></span>\\n\\t\\t\\t\\t\\t\\t\\t\\t\\t\\t<span class=\"ws-icon ws-icon-star\"></span>\\n\\t\\t\\t\\t\\t\\t\\t\\t\\t</p>\\n\\t\\t\\t</div>\\n\\t\\t</div>\\n\\t</div>\\n</div>\\n\\t\\t\\t<div class=\"col-md-4 col-xl-4 col-lg-4\">\\n\\t<div class=\"card product-wrapper thumbnail\">\\n\\t\\t<div class=\"card-body\">\\n\\t\\t\\t<img class=\"img-fluid card-img-top image img-responsive\" alt=\"item\" src=\"/images/test-sites/e-commerce/items/cart2.png\">\\n\\t\\t\\t<div class=\"caption\">\\n\\t\\t\\t\\t<h4 class=\"float-end price card-title pull-right\">$581.99</h4>\\n\\t\\t\\t\\t<h4>\\n\\t\\t\\t\\t\\t<a href=\"/test-sites/e-commerce/allinone/product/36\" class=\"title\" title=\"Aspire E1-572G\">Aspire E1-572G</a>\\n\\t\\t\\t\\t</h4>\\n\\t\\t\\t\\t<p class=\"description card-text\">15.6&quot;, Core i5-4200U, 8GB, 1TB, Radeon R7 M265, Windows 8.1</p>\\n\\n\\t\\t\\t</div>\\n\\t\\t\\t<div class=\"ratings\">\\n\\t\\t\\t\\t<p class=\"float-end review-count\">2 reviews</p>\\n\\t\\t\\t\\t<p data-rating=\"1\">\\n\\t\\t\\t\\t\\t\\t\\t\\t\\t\\t<span class=\"ws-icon ws-icon-star\"></span>\\n\\t\\t\\t\\t\\t\\t\\t\\t\\t</p>\\n\\t\\t\\t</div>\\n\\t\\t</div>\\n\\t</div>\\n</div>\\n\\t\\t\\t<div class=\"col-md-4 col-xl-4 col-lg-4\">\\n\\t<div class=\"card product-wrapper thumbnail\">\\n\\t\\t<div class=\"card-body\">\\n\\t\\t\\t<img class=\"img-fluid card-img-top image img-responsive\" alt=\"item\" src=\"/images/test-sites/e-commerce/items/cart2.png\">\\n\\t\\t\\t<div class=\"caption\">\\n\\t\\t\\t\\t<h4 class=\"float-end price card-title pull-right\">$609.99</h4>\\n\\t\\t\\t\\t<h4>\\n\\t\\t\\t\\t\\t<a href=\"/test-sites/e-commerce/allinone/product/38\" class=\"title\" title=\"Pavilion\">Pavilion</a>\\n\\t\\t\\t\\t</h4>\\n\\t\\t\\t\\t<p class=\"description card-text\">15.6&quot;, Core i5-4200U, 6GB, 750GB, Windows 8.1</p>\\n\\n\\t\\t\\t</div>\\n\\t\\t\\t<div class=\"ratings\">\\n\\t\\t\\t\\t<p class=\"float-end review-count\">4 reviews</p>\\n\\t\\t\\t\\t<p data-rating=\"1\">\\n\\t\\t\\t\\t\\t\\t\\t\\t\\t\\t<span class=\"ws-icon ws-icon-star\"></span>\\n\\t\\t\\t\\t\\t\\t\\t\\t\\t</p>\\n\\t\\t\\t</div>\\n\\t\\t</div>\\n\\t</div>\\n</div>\\n\\t\\t\\t<div class=\"col-md-4 col-xl-4 col-lg-4\">\\n\\t<div class=\"card product-wrapper thumbnail\">\\n\\t\\t<div class=\"card-body\">\\n\\t\\t\\t<img class=\"img-fluid card-img-top image img-responsive\" alt=\"item\" src=\"/images/test-sites/e-commerce/items/cart2.png\">\\n\\t\\t\\t<div class=\"caption\">\\n\\t\\t\\t\\t<h4 class=\"float-end price card-title pull-right\">$679</h4>\\n\\t\\t\\t\\t<h4>\\n\\t\\t\\t\\t\\t<a href=\"/test-sites/e-commerce/allinone/product/48\" class=\"title\" title=\"Acer Aspire A515-51-5654\">Acer Aspire A5...</a>\\n\\t\\t\\t\\t</h4>\\n\\t\\t\\t\\t<p class=\"description card-text\">Acer Aspire A515-51-5654, Black, 15.6&quot;, FHD, Core i5-8250U, 8GB DDR4, 256GB SSD, Windows 10 Home, ENG</p>\\n\\n\\t\\t\\t</div>\\n\\t\\t\\t<div class=\"ratings\">\\n\\t\\t\\t\\t<p class=\"float-end review-count\">9 reviews</p>\\n\\t\\t\\t\\t<p data-rating=\"2\">\\n\\t\\t\\t\\t\\t\\t\\t\\t\\t\\t<span class=\"ws-icon ws-icon-star\"></span>\\n\\t\\t\\t\\t\\t\\t\\t\\t\\t\\t<span class=\"ws-icon ws-icon-star\"></span>\\n\\t\\t\\t\\t\\t\\t\\t\\t\\t</p>\\n\\t\\t\\t</div>\\n\\t\\t</div>\\n\\t</div>\\n</div>\\n\\t\\t\\t<div class=\"col-md-4 col-xl-4 col-lg-4\">\\n\\t<div class=\"card product-wrapper thumbnail\">\\n\\t\\t<div class=\"card-body\">\\n\\t\\t\\t<img class=\"img-fluid card-img-top image img-responsive\" alt=\"item\" src=\"/images/test-sites/e-commerce/items/cart2.png\">\\n\\t\\t\\t<div class=\"caption\">\\n\\t\\t\\t\\t<h4 class=\"float-end price card-title pull-right\">$679</h4>\\n\\t\\t\\t\\t<h4>\\n\\t\\t\\t\\t\\t<a href=\"/test-sites/e-commerce/allinone/product/49\" class=\"title\" title=\"Dell Inspiron 15\">Dell Inspiron...</a>\\n\\t\\t\\t\\t</h4>\\n\\t\\t\\t\\t<p class=\"description card-text\">Dell Inspiron 15 (5567) Fog Gray, 15.6&quot; FHD, Core i5-7200U, 8GB, 1TB, Radeon R7 M445 4GB, Linux</p>\\n\\n\\t\\t\\t</div>\\n\\t\\t\\t<div class=\"ratings\">\\n\\t\\t\\t\\t<p class=\"float-end review-count\">7 reviews</p>\\n\\t\\t\\t\\t<p data-rating=\"2\">\\n\\t\\t\\t\\t\\t\\t\\t\\t\\t\\t<span class=\"ws-icon ws-icon-star\"></span>\\n\\t\\t\\t\\t\\t\\t\\t\\t\\t\\t<span class=\"ws-icon ws-icon-star\"></span>\\n\\t\\t\\t\\t\\t\\t\\t\\t\\t</p>\\n\\t\\t\\t</div>\\n\\t\\t</div>\\n\\t</div>\\n</div>\\n\\t\\t\\t<div class=\"col-md-4 col-xl-4 col-lg-4\">\\n\\t<div class=\"card product-wrapper thumbnail\">\\n\\t\\t<div class=\"card-body\">\\n\\t\\t\\t<img class=\"img-fluid card-img-top image img-responsive\" alt=\"item\" src=\"/images/test-sites/e-commerce/items/cart2.png\">\\n\\t\\t\\t<div class=\"caption\">\\n\\t\\t\\t\\t<h4 class=\"float-end price card-title pull-right\">$729</h4>\\n\\t\\t\\t\\t<h4>\\n\\t\\t\\t\\t\\t<a href=\"/test-sites/e-commerce/allinone/product/50\" class=\"title\" title=\"Asus VivoBook S14\">Asus VivoBook...</a>\\n\\t\\t\\t\\t</h4>\\n\\t\\t\\t\\t<p class=\"description card-text\">Asus VivoBook S14 (S406UA-BV041T) Starry Grey, 14&quot;, Core i5-8250U, 8GB, 256GB SSD, Windows 10 Home, Eng kbd</p>\\n\\n\\t\\t\\t</div>\\n\\t\\t\\t<div class=\"ratings\">\\n\\t\\t\\t\\t<p class=\"float-end review-count\">2 reviews</p>\\n\\t\\t\\t\\t<p data-rating=\"1\">\\n\\t\\t\\t\\t\\t\\t\\t\\t\\t\\t<span class=\"ws-icon ws-icon-star\"></span>\\n\\t\\t\\t\\t\\t\\t\\t\\t\\t</p>\\n\\t\\t\\t</div>\\n\\t\\t</div>\\n\\t</div>\\n</div>\\n\\t\\t\\t<div class=\"col-md-4 col-xl-4 col-lg-4\">\\n\\t<div class=\"card product-wrapper thumbnail\">\\n\\t\\t<div class=\"card-body\">\\n\\t\\t\\t<img class=\"img-fluid card-img-top image img-responsive\" alt=\"item\" src=\"/images/test-sites/e-commerce/items/cart2.png\">\\n\\t\\t\\t<div class=\"caption\">\\n\\t\\t\\t\\t<h4 class=\"float-end price card-title pull-right\">$739.99</h4>\\n\\t\\t\\t\\t<h4>\\n\\t\\t\\t\\t\\t<a href=\"/test-sites/e-commerce/allinone/product/34\" class=\"title\" title=\"ProBook\">ProBook</a>\\n\\t\\t\\t\\t</h4>\\n\\t\\t\\t\\t<p class=\"description card-text\">14&quot;, Core i5 2.6GHz, 4GB, 500GB, Win7 Pro 64bit</p>\\n\\n\\t\\t\\t</div>\\n\\t\\t\\t<div class=\"ratings\">\\n\\t\\t\\t\\t<p class=\"float-end review-count\">8 reviews</p>\\n\\t\\t\\t\\t<p data-rating=\"4\">\\n\\t\\t\\t\\t\\t\\t\\t\\t\\t\\t<span class=\"ws-icon ws-icon-star\"></span>\\n\\t\\t\\t\\t\\t\\t\\t\\t\\t\\t<span class=\"ws-icon ws-icon-star\"></span>\\n\\t\\t\\t\\t\\t\\t\\t\\t\\t\\t<span class=\"ws-icon ws-icon-star\"></span>\\n\\t\\t\\t\\t\\t\\t\\t\\t\\t\\t<span class=\"ws-icon ws-icon-star\"></span>\\n\\t\\t\\t\\t\\t\\t\\t\\t\\t</p>\\n\\t\\t\\t</div>\\n\\t\\t</div>\\n\\t</div>\\n</div>\\n\\t\\t\\t<div class=\"col-md-4 col-xl-4 col-lg-4\">\\n\\t<div class=\"card product-wrapper thumbnail\">\\n\\t\\t<div class=\"card-body\">\\n\\t\\t\\t<img class=\"img-fluid card-img-top image img-responsive\" alt=\"item\" src=\"/images/test-sites/e-commerce/items/cart2.png\">\\n\\t\\t\\t<div class=\"caption\">\\n\\t\\t\\t\\t<h4 class=\"float-end price card-title pull-right\">$745.99</h4>\\n\\t\\t\\t\\t<h4>\\n\\t\\t\\t\\t\\t<a href=\"/test-sites/e-commerce/allinone/product/39\" class=\"title\" title=\"Inspiron 15\">Inspiron 15</a>\\n\\t\\t\\t\\t</h4>\\n\\t\\t\\t\\t<p class=\"description card-text\">Moon Silver, 15.6&quot;, Core i7-4510U, 8GB, 1TB, Radeon HD R7 M265 2GB,</p>\\n\\n\\t\\t\\t</div>\\n\\t\\t\\t<div class=\"ratings\">\\n\\t\\t\\t\\t<p class=\"float-end review-count\">12 reviews</p>\\n\\t\\t\\t\\t<p data-rating=\"3\">\\n\\t\\t\\t\\t\\t\\t\\t\\t\\t\\t<span class=\"ws-icon ws-icon-star\"></span>\\n\\t\\t\\t\\t\\t\\t\\t\\t\\t\\t<span class=\"ws-icon ws-icon-star\"></span>\\n\\t\\t\\t\\t\\t\\t\\t\\t\\t\\t<span class=\"ws-icon ws-icon-star\"></span>\\n\\t\\t\\t\\t\\t\\t\\t\\t\\t</p>\\n\\t\\t\\t</div>\\n\\t\\t</div>\\n\\t</div>\\n</div>\\n\\t\\t\\t<div class=\"col-md-4 col-xl-4 col-lg-4\">\\n\\t<div class=\"card product-wrapper thumbnail\">\\n\\t\\t<div class=\"card-body\">\\n\\t\\t\\t<img class=\"img-fluid card-img-top image img-responsive\" alt=\"item\" src=\"/images/test-sites/e-commerce/items/cart2.png\">\\n\\t\\t\\t<div class=\"caption\">\\n\\t\\t\\t\\t<h4 class=\"float-end price card-title pull-right\">$799</h4>\\n\\t\\t\\t\\t<h4>\\n\\t\\t\\t\\t\\t<a href=\"/test-sites/e-commerce/allinone/product/51\" class=\"title\" title=\"Asus ROG STRIX GL553VD-DM256\">Asus ROG STRIX...</a>\\n\\t\\t\\t\\t</h4>\\n\\t\\t\\t\\t<p class=\"description card-text\">Asus ROG STRIX GL553VD-DM256, 15.6&quot; FHD, Core i5-7300HQ, 8GB, 1TB, GeForce GTX 1050 2GB, No OS</p>\\n\\n\\t\\t\\t</div>\\n\\t\\t\\t<div class=\"ratings\">\\n\\t\\t\\t\\t<p class=\"float-end review-count\">7 reviews</p>\\n\\t\\t\\t\\t<p data-rating=\"2\">\\n\\t\\t\\t\\t\\t\\t\\t\\t\\t\\t<span class=\"ws-icon ws-icon-star\"></span>\\n\\t\\t\\t\\t\\t\\t\\t\\t\\t\\t<span class=\"ws-icon ws-icon-star\"></span>\\n\\t\\t\\t\\t\\t\\t\\t\\t\\t</p>\\n\\t\\t\\t</div>\\n\\t\\t</div>\\n\\t</div>\\n</div>\\n\\t\\t\\t<div class=\"col-md-4 col-xl-4 col-lg-4\">\\n\\t<div class=\"card product-wrapper thumbnail\">\\n\\t\\t<div class=\"card-body\">\\n\\t\\t\\t<img class=\"img-fluid card-img-top image img-responsive\" alt=\"item\" src=\"/images/test-sites/e-commerce/items/cart2.png\">\\n\\t\\t\\t<div class=\"caption\">\\n\\t\\t\\t\\t<h4 class=\"float-end price card-title pull-right\">$809</h4>\\n\\t\\t\\t\\t<h4>\\n\\t\\t\\t\\t\\t<a href=\"/test-sites/e-commerce/allinone/product/52\" class=\"title\" title=\"Acer Nitro 5 AN515-51\">Acer Nitro 5 A...</a>\\n\\t\\t\\t\\t</h4>\\n\\t\\t\\t\\t<p class=\"description card-text\">Acer Nitro 5 AN515-51, 15.6&quot; FHD IPS, Core i5-7300HQ, 8GB, 1TB, GeForce GTX 1050 2GB, Windows 10 Home</p>\\n\\n\\t\\t\\t</div>\\n\\t\\t\\t<div class=\"ratings\">\\n\\t\\t\\t\\t<p class=\"float-end review-count\">0 reviews</p>\\n\\t\\t\\t\\t<p data-rating=\"1\">\\n\\t\\t\\t\\t\\t\\t\\t\\t\\t\\t<span class=\"ws-icon ws-icon-star\"></span>\\n\\t\\t\\t\\t\\t\\t\\t\\t\\t</p>\\n\\t\\t\\t</div>\\n\\t\\t</div>\\n\\t</div>\\n</div>\\n\\t\\t\\t<div class=\"col-md-4 col-xl-4 col-lg-4\">\\n\\t<div class=\"card product-wrapper thumbnail\">\\n\\t\\t<div class=\"card-body\">\\n\\t\\t\\t<img class=\"img-fluid card-img-top image img-responsive\" alt=\"item\" src=\"/images/test-sites/e-commerce/items/cart2.png\">\\n\\t\\t\\t<div class=\"caption\">\\n\\t\\t\\t\\t<h4 class=\"float-end price card-title pull-right\">$899</h4>\\n\\t\\t\\t\\t<h4>\\n\\t\\t\\t\\t\\t<a href=\"/test-sites/e-commerce/allinone/product/53\" class=\"title\" title=\"Asus ROG STRIX GL553VD-DM256\">Asus ROG STRIX...</a>\\n\\t\\t\\t\\t</h4>\\n\\t\\t\\t\\t<p class=\"description card-text\">Asus ROG STRIX GL553VD-DM256, 15.6&quot; FHD, Core i5-7300HQ, 8GB, 1TB, GeForce GTX 1050 2GB, No OS + Windows 10 Home</p>\\n\\n\\t\\t\\t</div>\\n\\t\\t\\t<div class=\"ratings\">\\n\\t\\t\\t\\t<p class=\"float-end review-count\">7 reviews</p>\\n\\t\\t\\t\\t<p data-rating=\"1\">\\n\\t\\t\\t\\t\\t\\t\\t\\t\\t\\t<span class=\"ws-icon ws-icon-star\"></span>\\n\\t\\t\\t\\t\\t\\t\\t\\t\\t</p>\\n\\t\\t\\t</div>\\n\\t\\t</div>\\n\\t</div>\\n</div>\\n\\t\\t\\t<div class=\"col-md-4 col-xl-4 col-lg-4\">\\n\\t<div class=\"card product-wrapper thumbnail\">\\n\\t\\t<div class=\"card-body\">\\n\\t\\t\\t<img class=\"img-fluid card-img-top image img-responsive\" alt=\"item\" src=\"/images/test-sites/e-commerce/items/cart2.png\">\\n\\t\\t\\t<div class=\"caption\">\\n\\t\\t\\t\\t<h4 class=\"float-end price card-title pull-right\">$999</h4>\\n\\t\\t\\t\\t<h4>\\n\\t\\t\\t\\t\\t<a href=\"/test-sites/e-commerce/allinone/product/54\" class=\"title\" title=\"Lenovo ThinkPad L570\">Lenovo ThinkPa...</a>\\n\\t\\t\\t\\t</h4>\\n\\t\\t\\t\\t<p class=\"description card-text\">Lenovo ThinkPad L570, 15.6&quot; FHD, Core i7-7500U, 8GB, 256GB SSD, Windows 10 Pro</p>\\n\\n\\t\\t\\t</div>\\n\\t\\t\\t<div class=\"ratings\">\\n\\t\\t\\t\\t<p class=\"float-end review-count\">11 reviews</p>\\n\\t\\t\\t\\t<p data-rating=\"3\">\\n\\t\\t\\t\\t\\t\\t\\t\\t\\t\\t<span class=\"ws-icon ws-icon-star\"></span>\\n\\t\\t\\t\\t\\t\\t\\t\\t\\t\\t<span class=\"ws-icon ws-icon-star\"></span>\\n\\t\\t\\t\\t\\t\\t\\t\\t\\t\\t<span class=\"ws-icon ws-icon-star\"></span>\\n\\t\\t\\t\\t\\t\\t\\t\\t\\t</p>\\n\\t\\t\\t</div>\\n\\t\\t</div>\\n\\t</div>\\n</div>\\n\\t\\t\\t<div class=\"col-md-4 col-xl-4 col-lg-4\">\\n\\t<div class=\"card product-wrapper thumbnail\">\\n\\t\\t<div class=\"card-body\">\\n\\t\\t\\t<img class=\"img-fluid card-img-top image img-responsive\" alt=\"item\" src=\"/images/test-sites/e-commerce/items/cart2.png\">\\n\\t\\t\\t<div class=\"caption\">\\n\\t\\t\\t\\t<h4 class=\"float-end price card-title pull-right\">$1033.99</h4>\\n\\t\\t\\t\\t<h4>\\n\\t\\t\\t\\t\\t<a href=\"/test-sites/e-commerce/allinone/product/37\" class=\"title\" title=\"ThinkPad Yoga\">ThinkPad Yoga</a>\\n\\t\\t\\t\\t</h4>\\n\\t\\t\\t\\t<p class=\"description card-text\">12.5&quot; Touch, Core i3-4010U, 4GB, 500GB + 16GB SSD Cache,</p>\\n\\n\\t\\t\\t</div>\\n\\t\\t\\t<div class=\"ratings\">\\n\\t\\t\\t\\t<p class=\"float-end review-count\">13 reviews</p>\\n\\t\\t\\t\\t<p data-rating=\"2\">\\n\\t\\t\\t\\t\\t\\t\\t\\t\\t\\t<span class=\"ws-icon ws-icon-star\"></span>\\n\\t\\t\\t\\t\\t\\t\\t\\t\\t\\t<span class=\"ws-icon ws-icon-star\"></span>\\n\\t\\t\\t\\t\\t\\t\\t\\t\\t</p>\\n\\t\\t\\t</div>\\n\\t\\t</div>\\n\\t</div>\\n</div>\\n\\t\\t\\t<div class=\"col-md-4 col-xl-4 col-lg-4\">\\n\\t<div class=\"card product-wrapper thumbnail\">\\n\\t\\t<div class=\"card-body\">\\n\\t\\t\\t<img class=\"img-fluid card-img-top image img-responsive\" alt=\"item\" src=\"/images/test-sites/e-commerce/items/cart2.png\">\\n\\t\\t\\t<div class=\"caption\">\\n\\t\\t\\t\\t<h4 class=\"float-end price card-title pull-right\">$1096.02</h4>\\n\\t\\t\\t\\t<h4>\\n\\t\\t\\t\\t\\t<a href=\"/test-sites/e-commerce/allinone/product/94\" class=\"title\" title=\"Lenovo ThinkPad L460\">Lenovo ThinkPa...</a>\\n\\t\\t\\t\\t</h4>\\n\\t\\t\\t\\t<p class=\"description card-text\">Lenovo ThinkPad L460, 14&quot; FHD IPS, Core i7-6600U, 8GB, 256GB SSD, Windows 10 Pro</p>\\n\\n\\t\\t\\t</div>\\n\\t\\t\\t<div class=\"ratings\">\\n\\t\\t\\t\\t<p class=\"float-end review-count\">14 reviews</p>\\n\\t\\t\\t\\t<p data-rating=\"4\">\\n\\t\\t\\t\\t\\t\\t\\t\\t\\t\\t<span class=\"ws-icon ws-icon-star\"></span>\\n\\t\\t\\t\\t\\t\\t\\t\\t\\t\\t<span class=\"ws-icon ws-icon-star\"></span>\\n\\t\\t\\t\\t\\t\\t\\t\\t\\t\\t<span class=\"ws-icon ws-icon-star\"></span>\\n\\t\\t\\t\\t\\t\\t\\t\\t\\t\\t<span class=\"ws-icon ws-icon-star\"></span>\\n\\t\\t\\t\\t\\t\\t\\t\\t\\t</p>\\n\\t\\t\\t</div>\\n\\t\\t</div>\\n\\t</div>\\n</div>\\n\\t\\t\\t<div class=\"col-md-4 col-xl-4 col-lg-4\">\\n\\t<div class=\"card product-wrapper thumbnail\">\\n\\t\\t<div class=\"card-body\">\\n\\t\\t\\t<img class=\"img-fluid card-img-top image img-responsive\" alt=\"item\" src=\"/images/test-sites/e-commerce/items/cart2.png\">\\n\\t\\t\\t<div class=\"caption\">\\n\\t\\t\\t\\t<h4 class=\"float-end price card-title pull-right\">$1098.42</h4>\\n\\t\\t\\t\\t<h4>\\n\\t\\t\\t\\t\\t<a href=\"/test-sites/e-commerce/allinone/product/95\" class=\"title\" title=\"Dell Inspiron 15 (7567) Black\">Dell Inspiron...</a>\\n\\t\\t\\t\\t</h4>\\n\\t\\t\\t\\t<p class=\"description card-text\">Dell Inspiron 15 (7567) Black, 15.6&quot; FHD, Core i5-7300HQ, 8GB, 256GB SSD, GeForce GTX 1050 4GB, Windows 10 Home</p>\\n\\n\\t\\t\\t</div>\\n\\t\\t\\t<div class=\"ratings\">\\n\\t\\t\\t\\t<p class=\"float-end review-count\">7 reviews</p>\\n\\t\\t\\t\\t<p data-rating=\"1\">\\n\\t\\t\\t\\t\\t\\t\\t\\t\\t\\t<span class=\"ws-icon ws-icon-star\"></span>\\n\\t\\t\\t\\t\\t\\t\\t\\t\\t</p>\\n\\t\\t\\t</div>\\n\\t\\t</div>\\n\\t</div>\\n</div>\\n\\t\\t\\t<div class=\"col-md-4 col-xl-4 col-lg-4\">\\n\\t<div class=\"card product-wrapper thumbnail\">\\n\\t\\t<div class=\"card-body\">\\n\\t\\t\\t<img class=\"img-fluid card-img-top image img-responsive\" alt=\"item\" src=\"/images/test-sites/e-commerce/items/cart2.png\">\\n\\t\\t\\t<div class=\"caption\">\\n\\t\\t\\t\\t<h4 class=\"float-end price card-title pull-right\">$1099</h4>\\n\\t\\t\\t\\t<h4>\\n\\t\\t\\t\\t\\t<a href=\"/test-sites/e-commerce/allinone/product/96\" class=\"title\" title=\"MSI GL72M 7RDX\">MSI GL72M 7RDX</a>\\n\\t\\t\\t\\t</h4>\\n\\t\\t\\t\\t<p class=\"description card-text\">MSI GL72M 7RDX, 17.3&quot; FHD, Core i5-7300HQ, 8GB, 1TB + 128GB SSD, GeForce GTX 1050 2GB, Windows 10 Home</p>\\n\\n\\t\\t\\t</div>\\n\\t\\t\\t<div class=\"ratings\">\\n\\t\\t\\t\\t<p class=\"float-end review-count\">1 reviews</p>\\n\\t\\t\\t\\t<p data-rating=\"4\">\\n\\t\\t\\t\\t\\t\\t\\t\\t\\t\\t<span class=\"ws-icon ws-icon-star\"></span>\\n\\t\\t\\t\\t\\t\\t\\t\\t\\t\\t<span class=\"ws-icon ws-icon-star\"></span>\\n\\t\\t\\t\\t\\t\\t\\t\\t\\t\\t<span class=\"ws-icon ws-icon-star\"></span>\\n\\t\\t\\t\\t\\t\\t\\t\\t\\t\\t<span class=\"ws-icon ws-icon-star\"></span>\\n\\t\\t\\t\\t\\t\\t\\t\\t\\t</p>\\n\\t\\t\\t</div>\\n\\t\\t</div>\\n\\t</div>\\n</div>\\n\\t\\t\\t<div class=\"col-md-4 col-xl-4 col-lg-4\">\\n\\t<div class=\"card product-wrapper thumbnail\">\\n\\t\\t<div class=\"card-body\">\\n\\t\\t\\t<img class=\"img-fluid card-img-top image img-responsive\" alt=\"item\" src=\"/images/test-sites/e-commerce/items/cart2.png\">\\n\\t\\t\\t<div class=\"caption\">\\n\\t\\t\\t\\t<h4 class=\"float-end price card-title pull-right\">$1099</h4>\\n\\t\\t\\t\\t<h4>\\n\\t\\t\\t\\t\\t<a href=\"/test-sites/e-commerce/allinone/product/97\" class=\"title\" title=\"MSI GL72M 7RDX\">MSI GL72M 7RDX</a>\\n\\t\\t\\t\\t</h4>\\n\\t\\t\\t\\t<p class=\"description card-text\">Asus ROG Strix GL553VD-DM535T, 15.6&quot; FHD, Core i7-7700HQ, 8GB, 1TB + 128GB SSD, GeForce GTX 1050 2GB, Windows 10 Home, Eng kbd</p>\\n\\n\\t\\t\\t</div>\\n\\t\\t\\t<div class=\"ratings\">\\n\\t\\t\\t\\t<p class=\"float-end review-count\">9 reviews</p>\\n\\t\\t\\t\\t<p data-rating=\"1\">\\n\\t\\t\\t\\t\\t\\t\\t\\t\\t\\t<span class=\"ws-icon ws-icon-star\"></span>\\n\\t\\t\\t\\t\\t\\t\\t\\t\\t</p>\\n\\t\\t\\t</div>\\n\\t\\t</div>\\n\\t</div>\\n</div>\\n\\t\\t\\t<div class=\"col-md-4 col-xl-4 col-lg-4\">\\n\\t<div class=\"card product-wrapper thumbnail\">\\n\\t\\t<div class=\"card-body\">\\n\\t\\t\\t<img class=\"img-fluid card-img-top image img-responsive\" alt=\"item\" src=\"/images/test-sites/e-commerce/items/cart2.png\">\\n\\t\\t\\t<div class=\"caption\">\\n\\t\\t\\t\\t<h4 class=\"float-end price card-title pull-right\">$1101.83</h4>\\n\\t\\t\\t\\t<h4>\\n\\t\\t\\t\\t\\t<a href=\"/test-sites/e-commerce/allinone/product/98\" class=\"title\" title=\"Asus ROG Strix GL553VD-DM535T\">Asus ROG Strix...</a>\\n\\t\\t\\t\\t</h4>\\n\\t\\t\\t\\t<p class=\"description card-text\">Apple MacBook Air 13.3&quot;, Core i5 1.8GHz, 8GB, 128GB SSD, Intel HD 4000, RUS</p>\\n\\n\\t\\t\\t</div>\\n\\t\\t\\t<div class=\"ratings\">\\n\\t\\t\\t\\t<p class=\"float-end review-count\">4 reviews</p>\\n\\t\\t\\t\\t<p data-rating=\"2\">\\n\\t\\t\\t\\t\\t\\t\\t\\t\\t\\t<span class=\"ws-icon ws-icon-star\"></span>\\n\\t\\t\\t\\t\\t\\t\\t\\t\\t\\t<span class=\"ws-icon ws-icon-star\"></span>\\n\\t\\t\\t\\t\\t\\t\\t\\t\\t</p>\\n\\t\\t\\t</div>\\n\\t\\t</div>\\n\\t</div>\\n</div>\\n\\t\\t\\t<div class=\"col-md-4 col-xl-4 col-lg-4\">\\n\\t<div class=\"card product-wrapper thumbnail\">\\n\\t\\t<div class=\"card-body\">\\n\\t\\t\\t<img class=\"img-fluid card-img-top image img-responsive\" alt=\"item\" src=\"/images/test-sites/e-commerce/items/cart2.png\">\\n\\t\\t\\t<div class=\"caption\">\\n\\t\\t\\t\\t<h4 class=\"float-end price card-title pull-right\">$1102.66</h4>\\n\\t\\t\\t\\t<h4>\\n\\t\\t\\t\\t\\t<a href=\"/test-sites/e-commerce/allinone/product/99\" class=\"title\" title=\"Dell Latitude 5280\">Dell Latitude...</a>\\n\\t\\t\\t\\t</h4>\\n\\t\\t\\t\\t<p class=\"description card-text\">Dell Latitude 5280, 12.5&quot; HD, Core i5-7300U, 8GB, 256GB SSD, Windows 10 Pro</p>\\n\\n\\t\\t\\t</div>\\n\\t\\t\\t<div class=\"ratings\">\\n\\t\\t\\t\\t<p class=\"float-end review-count\">8 reviews</p>\\n\\t\\t\\t\\t<p data-rating=\"1\">\\n\\t\\t\\t\\t\\t\\t\\t\\t\\t\\t<span class=\"ws-icon ws-icon-star\"></span>\\n\\t\\t\\t\\t\\t\\t\\t\\t\\t</p>\\n\\t\\t\\t</div>\\n\\t\\t</div>\\n\\t</div>\\n</div>\\n\\t\\t\\t<div class=\"col-md-4 col-xl-4 col-lg-4\">\\n\\t<div class=\"card product-wrapper thumbnail\">\\n\\t\\t<div class=\"card-body\">\\n\\t\\t\\t<img class=\"img-fluid card-img-top image img-responsive\" alt=\"item\" src=\"/images/test-sites/e-commerce/items/cart2.png\">\\n\\t\\t\\t<div class=\"caption\">\\n\\t\\t\\t\\t<h4 class=\"float-end price card-title pull-right\">$1110.14</h4>\\n\\t\\t\\t\\t<h4>\\n\\t\\t\\t\\t\\t<a href=\"/test-sites/e-commerce/allinone/product/100\" class=\"title\" title=\"Dell Latitude 5480\">Dell Latitude...</a>\\n\\t\\t\\t\\t</h4>\\n\\t\\t\\t\\t<p class=\"description card-text\">Dell Latitude 5480, 14&quot; FHD, Core i5-7300U, 8GB, 500GB, Linux + Windows 10 Home</p>\\n\\n\\t\\t\\t</div>\\n\\t\\t\\t<div class=\"ratings\">\\n\\t\\t\\t\\t<p class=\"float-end review-count\">4 reviews</p>\\n\\t\\t\\t\\t<p data-rating=\"3\">\\n\\t\\t\\t\\t\\t\\t\\t\\t\\t\\t<span class=\"ws-icon ws-icon-star\"></span>\\n\\t\\t\\t\\t\\t\\t\\t\\t\\t\\t<span class=\"ws-icon ws-icon-star\"></span>\\n\\t\\t\\t\\t\\t\\t\\t\\t\\t\\t<span class=\"ws-icon ws-icon-star\"></span>\\n\\t\\t\\t\\t\\t\\t\\t\\t\\t</p>\\n\\t\\t\\t</div>\\n\\t\\t</div>\\n\\t</div>\\n</div>\\n\\t\\t\\t<div class=\"col-md-4 col-xl-4 col-lg-4\">\\n\\t<div class=\"card product-wrapper thumbnail\">\\n\\t\\t<div class=\"card-body\">\\n\\t\\t\\t<img class=\"img-fluid card-img-top image img-responsive\" alt=\"item\" src=\"/images/test-sites/e-commerce/items/cart2.png\">\\n\\t\\t\\t<div class=\"caption\">\\n\\t\\t\\t\\t<h4 class=\"float-end price card-title pull-right\">$1112.91</h4>\\n\\t\\t\\t\\t<h4>\\n\\t\\t\\t\\t\\t<a href=\"/test-sites/e-commerce/allinone/product/101\" class=\"title\" title=\"Lenovo Legion Y520-15IKBM\">Lenovo Legion...</a>\\n\\t\\t\\t\\t</h4>\\n\\t\\t\\t\\t<p class=\"description card-text\">Lenovo Legion Y520-15IKBM, Black, 15.6&quot; FHD IPS, Core i5-7300HQ, 8 GB, 128GB SSD + 2 TB HDD, NVIDIA GeForce GTX 1060 6 GB, FreeDOS + Windows 10 Home</p>\\n\\n\\t\\t\\t</div>\\n\\t\\t\\t<div class=\"ratings\">\\n\\t\\t\\t\\t<p class=\"float-end review-count\">1 reviews</p>\\n\\t\\t\\t\\t<p data-rating=\"4\">\\n\\t\\t\\t\\t\\t\\t\\t\\t\\t\\t<span class=\"ws-icon ws-icon-star\"></span>\\n\\t\\t\\t\\t\\t\\t\\t\\t\\t\\t<span class=\"ws-icon ws-icon-star\"></span>\\n\\t\\t\\t\\t\\t\\t\\t\\t\\t\\t<span class=\"ws-icon ws-icon-star\"></span>\\n\\t\\t\\t\\t\\t\\t\\t\\t\\t\\t<span class=\"ws-icon ws-icon-star\"></span>\\n\\t\\t\\t\\t\\t\\t\\t\\t\\t</p>\\n\\t\\t\\t</div>\\n\\t\\t</div>\\n\\t</div>\\n</div>\\n\\t\\t\\t<div class=\"col-md-4 col-xl-4 col-lg-4\">\\n\\t<div class=\"card product-wrapper thumbnail\">\\n\\t\\t<div class=\"card-body\">\\n\\t\\t\\t<img class=\"img-fluid card-img-top image img-responsive\" alt=\"item\" src=\"/images/test-sites/e-commerce/items/cart2.png\">\\n\\t\\t\\t<div class=\"caption\">\\n\\t\\t\\t\\t<h4 class=\"float-end price card-title pull-right\">$1114.55</h4>\\n\\t\\t\\t\\t<h4>\\n\\t\\t\\t\\t\\t<a href=\"/test-sites/e-commerce/allinone/product/102\" class=\"title\" title=\"Toshiba Portege Z30-C-16J Grey\">Toshiba Porteg...</a>\\n\\t\\t\\t\\t</h4>\\n\\t\\t\\t\\t<p class=\"description card-text\">Toshiba Portege Z30-C-16J Grey, 13.3&quot; FHD, Core i5-6200U, 8GB, 256GB SSD, Windows 10 Pro</p>\\n\\n\\t\\t\\t</div>\\n\\t\\t\\t<div class=\"ratings\">\\n\\t\\t\\t\\t<p class=\"float-end review-count\">0 reviews</p>\\n\\t\\t\\t\\t<p data-rating=\"1\">\\n\\t\\t\\t\\t\\t\\t\\t\\t\\t\\t<span class=\"ws-icon ws-icon-star\"></span>\\n\\t\\t\\t\\t\\t\\t\\t\\t\\t</p>\\n\\t\\t\\t</div>\\n\\t\\t</div>\\n\\t</div>\\n</div>\\n\\t\\t\\t<div class=\"col-md-4 col-xl-4 col-lg-4\">\\n\\t<div class=\"card product-wrapper thumbnail\">\\n\\t\\t<div class=\"card-body\">\\n\\t\\t\\t<img class=\"img-fluid card-img-top image img-responsive\" alt=\"item\" src=\"/images/test-sites/e-commerce/items/cart2.png\">\\n\\t\\t\\t<div class=\"caption\">\\n\\t\\t\\t\\t<h4 class=\"float-end price card-title pull-right\">$1123.87</h4>\\n\\t\\t\\t\\t<h4>\\n\\t\\t\\t\\t\\t<a href=\"/test-sites/e-commerce/allinone/product/103\" class=\"title\" title=\"Acer Predator Helios 300 (PH317-51)\">Acer Predator...</a>\\n\\t\\t\\t\\t</h4>\\n\\t\\t\\t\\t<p class=\"description card-text\">Acer Predator Helios 300 (PH317-51), 17.3&quot; FHD IPS, Core i5-7300HQ, 8GB, 1TB + 128GB SSD, GeForce GTX 1050Ti 4GB, Windows 10 Home</p>\\n\\n\\t\\t\\t</div>\\n\\t\\t\\t<div class=\"ratings\">\\n\\t\\t\\t\\t<p class=\"float-end review-count\">1 reviews</p>\\n\\t\\t\\t\\t<p data-rating=\"2\">\\n\\t\\t\\t\\t\\t\\t\\t\\t\\t\\t<span class=\"ws-icon ws-icon-star\"></span>\\n\\t\\t\\t\\t\\t\\t\\t\\t\\t\\t<span class=\"ws-icon ws-icon-star\"></span>\\n\\t\\t\\t\\t\\t\\t\\t\\t\\t</p>\\n\\t\\t\\t</div>\\n\\t\\t</div>\\n\\t</div>\\n</div>\\n\\t\\t\\t<div class=\"col-md-4 col-xl-4 col-lg-4\">\\n\\t<div class=\"card product-wrapper thumbnail\">\\n\\t\\t<div class=\"card-body\">\\n\\t\\t\\t<img class=\"img-fluid card-img-top image img-responsive\" alt=\"item\" src=\"/images/test-sites/e-commerce/items/cart2.png\">\\n\\t\\t\\t<div class=\"caption\">\\n\\t\\t\\t\\t<h4 class=\"float-end price card-title pull-right\">$1123.87</h4>\\n\\t\\t\\t\\t<h4>\\n\\t\\t\\t\\t\\t<a href=\"/test-sites/e-commerce/allinone/product/104\" class=\"title\" title=\"Acer Aspire 7 A715-71G\">Acer Aspire 7...</a>\\n\\t\\t\\t\\t</h4>\\n\\t\\t\\t\\t<p class=\"description card-text\">Acer Aspire 7 A715-71G, 15.6&quot; FHD IPS, Core i7-7700HQ, 8GB, 128GB SSD + 1TB HDD, GTX 1050 Ti 4GB, Windows 10 Home</p>\\n\\n\\t\\t\\t</div>\\n\\t\\t\\t<div class=\"ratings\">\\n\\t\\t\\t\\t<p class=\"float-end review-count\">4 reviews</p>\\n\\t\\t\\t\\t<p data-rating=\"2\">\\n\\t\\t\\t\\t\\t\\t\\t\\t\\t\\t<span class=\"ws-icon ws-icon-star\"></span>\\n\\t\\t\\t\\t\\t\\t\\t\\t\\t\\t<span class=\"ws-icon ws-icon-star\"></span>\\n\\t\\t\\t\\t\\t\\t\\t\\t\\t</p>\\n\\t\\t\\t</div>\\n\\t\\t</div>\\n\\t</div>\\n</div>\\n\\t\\t\\t<div class=\"col-md-4 col-xl-4 col-lg-4\">\\n\\t<div class=\"card product-wrapper thumbnail\">\\n\\t\\t<div class=\"card-body\">\\n\\t\\t\\t<img class=\"img-fluid card-img-top image img-responsive\" alt=\"item\" src=\"/images/test-sites/e-commerce/items/cart2.png\">\\n\\t\\t\\t<div class=\"caption\">\\n\\t\\t\\t\\t<h4 class=\"float-end price card-title pull-right\">$1124.2</h4>\\n\\t\\t\\t\\t<h4>\\n\\t\\t\\t\\t\\t<a href=\"/test-sites/e-commerce/allinone/product/105\" class=\"title\" title=\"Dell Inspiron 17 2in1 (7779) Silver\">Dell Inspiron...</a>\\n\\t\\t\\t\\t</h4>\\n\\t\\t\\t\\t<p class=\"description card-text\">Dell Inspiron 17 2in1 (7779) Silver, 17.3&quot; FHD Touch, Core i5-7200U, 12GB, 1TB, GeForce GT940MX 2GB, Windows 10 Home</p>\\n\\n\\t\\t\\t</div>\\n\\t\\t\\t<div class=\"ratings\">\\n\\t\\t\\t\\t<p class=\"float-end review-count\">10 reviews</p>\\n\\t\\t\\t\\t<p data-rating=\"3\">\\n\\t\\t\\t\\t\\t\\t\\t\\t\\t\\t<span class=\"ws-icon ws-icon-star\"></span>\\n\\t\\t\\t\\t\\t\\t\\t\\t\\t\\t<span class=\"ws-icon ws-icon-star\"></span>\\n\\t\\t\\t\\t\\t\\t\\t\\t\\t\\t<span class=\"ws-icon ws-icon-star\"></span>\\n\\t\\t\\t\\t\\t\\t\\t\\t\\t</p>\\n\\t\\t\\t</div>\\n\\t\\t</div>\\n\\t</div>\\n</div>\\n\\t\\t\\t<div class=\"col-md-4 col-xl-4 col-lg-4\">\\n\\t<div class=\"card product-wrapper thumbnail\">\\n\\t\\t<div class=\"card-body\">\\n\\t\\t\\t<img class=\"img-fluid card-img-top image img-responsive\" alt=\"item\" src=\"/images/test-sites/e-commerce/items/cart2.png\">\\n\\t\\t\\t<div class=\"caption\">\\n\\t\\t\\t\\t<h4 class=\"float-end price card-title pull-right\">$1133.82</h4>\\n\\t\\t\\t\\t<h4>\\n\\t\\t\\t\\t\\t<a href=\"/test-sites/e-commerce/allinone/product/106\" class=\"title\" title=\"Dell Latitude 5480\">Dell Latitude...</a>\\n\\t\\t\\t\\t</h4>\\n\\t\\t\\t\\t<p class=\"description card-text\">Dell Latitude 5480, 14&quot; FHD, Core i5-7300U, 8GB, 500GB, Windows 10 Pro</p>\\n\\n\\t\\t\\t</div>\\n\\t\\t\\t<div class=\"ratings\">\\n\\t\\t\\t\\t<p class=\"float-end review-count\">14 reviews</p>\\n\\t\\t\\t\\t<p data-rating=\"4\">\\n\\t\\t\\t\\t\\t\\t\\t\\t\\t\\t<span class=\"ws-icon ws-icon-star\"></span>\\n\\t\\t\\t\\t\\t\\t\\t\\t\\t\\t<span class=\"ws-icon ws-icon-star\"></span>\\n\\t\\t\\t\\t\\t\\t\\t\\t\\t\\t<span class=\"ws-icon ws-icon-star\"></span>\\n\\t\\t\\t\\t\\t\\t\\t\\t\\t\\t<span class=\"ws-icon ws-icon-star\"></span>\\n\\t\\t\\t\\t\\t\\t\\t\\t\\t</p>\\n\\t\\t\\t</div>\\n\\t\\t</div>\\n\\t</div>\\n</div>\\n\\t\\t\\t<div class=\"col-md-4 col-xl-4 col-lg-4\">\\n\\t<div class=\"card product-wrapper thumbnail\">\\n\\t\\t<div class=\"card-body\">\\n\\t\\t\\t<img class=\"img-fluid card-img-top image img-responsive\" alt=\"item\" src=\"/images/test-sites/e-commerce/items/cart2.png\">\\n\\t\\t\\t<div class=\"caption\">\\n\\t\\t\\t\\t<h4 class=\"float-end price card-title pull-right\">$1133.91</h4>\\n\\t\\t\\t\\t<h4>\\n\\t\\t\\t\\t\\t<a href=\"/test-sites/e-commerce/allinone/product/107\" class=\"title\" title=\"Lenovo Legion Y520\">Lenovo Legion...</a>\\n\\t\\t\\t\\t</h4>\\n\\t\\t\\t\\t<p class=\"description card-text\">Lenovo Legion Y520, 15.6&quot; FHD, Core i7-7700HQ, 8GB, 128 GB SSD + 1TB HDD, GTX 1050 4GB, Windows 10 Home</p>\\n\\n\\t\\t\\t</div>\\n\\t\\t\\t<div class=\"ratings\">\\n\\t\\t\\t\\t<p class=\"float-end review-count\">13 reviews</p>\\n\\t\\t\\t\\t<p data-rating=\"1\">\\n\\t\\t\\t\\t\\t\\t\\t\\t\\t\\t<span class=\"ws-icon ws-icon-star\"></span>\\n\\t\\t\\t\\t\\t\\t\\t\\t\\t</p>\\n\\t\\t\\t</div>\\n\\t\\t</div>\\n\\t</div>\\n</div>\\n\\t\\t\\t<div class=\"col-md-4 col-xl-4 col-lg-4\">\\n\\t<div class=\"card product-wrapper thumbnail\">\\n\\t\\t<div class=\"card-body\">\\n\\t\\t\\t<img class=\"img-fluid card-img-top image img-responsive\" alt=\"item\" src=\"/images/test-sites/e-commerce/items/cart2.png\">\\n\\t\\t\\t<div class=\"caption\">\\n\\t\\t\\t\\t<h4 class=\"float-end price card-title pull-right\">$1139.54</h4>\\n\\t\\t\\t\\t<h4>\\n\\t\\t\\t\\t\\t<a href=\"/test-sites/e-commerce/allinone/product/108\" class=\"title\" title=\"Asus AsusPro Advanced BU401LA-FA271G Dark Grey\">Asus AsusPro A...</a>\\n\\t\\t\\t\\t</h4>\\n\\t\\t\\t\\t<p class=\"description card-text\">Asus AsusPro Advanced BU401LA-FA271G Dark Grey, 14&quot;, Core i5-4210U, 4GB, 128GB SSD, Win7 Pro 64bit, ENG</p>\\n\\n\\t\\t\\t</div>\\n\\t\\t\\t<div class=\"ratings\">\\n\\t\\t\\t\\t<p class=\"float-end review-count\">7 reviews</p>\\n\\t\\t\\t\\t<p data-rating=\"3\">\\n\\t\\t\\t\\t\\t\\t\\t\\t\\t\\t<span class=\"ws-icon ws-icon-star\"></span>\\n\\t\\t\\t\\t\\t\\t\\t\\t\\t\\t<span class=\"ws-icon ws-icon-star\"></span>\\n\\t\\t\\t\\t\\t\\t\\t\\t\\t\\t<span class=\"ws-icon ws-icon-star\"></span>\\n\\t\\t\\t\\t\\t\\t\\t\\t\\t</p>\\n\\t\\t\\t</div>\\n\\t\\t</div>\\n\\t</div>\\n</div>\\n\\t\\t\\t<div class=\"col-md-4 col-xl-4 col-lg-4\">\\n\\t<div class=\"card product-wrapper thumbnail\">\\n\\t\\t<div class=\"card-body\">\\n\\t\\t\\t<img class=\"img-fluid card-img-top image img-responsive\" alt=\"item\" src=\"/images/test-sites/e-commerce/items/cart2.png\">\\n\\t\\t\\t<div class=\"caption\">\\n\\t\\t\\t\\t<h4 class=\"float-end price card-title pull-right\">$1140.62</h4>\\n\\t\\t\\t\\t<h4>\\n\\t\\t\\t\\t\\t<a href=\"/test-sites/e-commerce/allinone/product/109\" class=\"title\" title=\"Acer Nitro 5 AN515-51\">Acer Nitro 5 A...</a>\\n\\t\\t\\t\\t</h4>\\n\\t\\t\\t\\t<p class=\"description card-text\">Acer Nitro 5 AN515-51, 15.6&quot; FHD IPS, Core i7-7700HQ, 8GB, 256GB SSD +1TB, GeForce GTX 1050 Ti 4GB, Windows 10 Home + Windows 10 Home</p>\\n\\n\\t\\t\\t</div>\\n\\t\\t\\t<div class=\"ratings\">\\n\\t\\t\\t\\t<p class=\"float-end review-count\">14 reviews</p>\\n\\t\\t\\t\\t<p data-rating=\"3\">\\n\\t\\t\\t\\t\\t\\t\\t\\t\\t\\t<span class=\"ws-icon ws-icon-star\"></span>\\n\\t\\t\\t\\t\\t\\t\\t\\t\\t\\t<span class=\"ws-icon ws-icon-star\"></span>\\n\\t\\t\\t\\t\\t\\t\\t\\t\\t\\t<span class=\"ws-icon ws-icon-star\"></span>\\n\\t\\t\\t\\t\\t\\t\\t\\t\\t</p>\\n\\t\\t\\t</div>\\n\\t\\t</div>\\n\\t</div>\\n</div>\\n\\t\\t\\t<div class=\"col-md-4 col-xl-4 col-lg-4\">\\n\\t<div class=\"card product-wrapper thumbnail\">\\n\\t\\t<div class=\"card-body\">\\n\\t\\t\\t<img class=\"img-fluid card-img-top image img-responsive\" alt=\"item\" src=\"/images/test-sites/e-commerce/items/cart2.png\">\\n\\t\\t\\t<div class=\"caption\">\\n\\t\\t\\t\\t<h4 class=\"float-end price card-title pull-right\">$1143.4</h4>\\n\\t\\t\\t\\t<h4>\\n\\t\\t\\t\\t\\t<a href=\"/test-sites/e-commerce/allinone/product/110\" class=\"title\" title=\"Dell Latitude 5480\">Dell Latitude...</a>\\n\\t\\t\\t\\t</h4>\\n\\t\\t\\t\\t<p class=\"description card-text\">Dell Latitude 5480, 14&quot; FHD, Core i5-7440HQ, 8GB, 256GB SSD, Windows 10 Pro</p>\\n\\n\\t\\t\\t</div>\\n\\t\\t\\t<div class=\"ratings\">\\n\\t\\t\\t\\t<p class=\"float-end review-count\">5 reviews</p>\\n\\t\\t\\t\\t<p data-rating=\"4\">\\n\\t\\t\\t\\t\\t\\t\\t\\t\\t\\t<span class=\"ws-icon ws-icon-star\"></span>\\n\\t\\t\\t\\t\\t\\t\\t\\t\\t\\t<span class=\"ws-icon ws-icon-star\"></span>\\n\\t\\t\\t\\t\\t\\t\\t\\t\\t\\t<span class=\"ws-icon ws-icon-star\"></span>\\n\\t\\t\\t\\t\\t\\t\\t\\t\\t\\t<span class=\"ws-icon ws-icon-star\"></span>\\n\\t\\t\\t\\t\\t\\t\\t\\t\\t</p>\\n\\t\\t\\t</div>\\n\\t\\t</div>\\n\\t</div>\\n</div>\\n\\t\\t\\t<div class=\"col-md-4 col-xl-4 col-lg-4\">\\n\\t<div class=\"card product-wrapper thumbnail\">\\n\\t\\t<div class=\"card-body\">\\n\\t\\t\\t<img class=\"img-fluid card-img-top image img-responsive\" alt=\"item\" src=\"/images/test-sites/e-commerce/items/cart2.png\">\\n\\t\\t\\t<div class=\"caption\">\\n\\t\\t\\t\\t<h4 class=\"float-end price card-title pull-right\">$1144.2</h4>\\n\\t\\t\\t\\t<h4>\\n\\t\\t\\t\\t\\t<a href=\"/test-sites/e-commerce/allinone/product/111\" class=\"title\" title=\"Dell Inspiron 15 (7567) Black\">Dell Inspiron...</a>\\n\\t\\t\\t\\t</h4>\\n\\t\\t\\t\\t<p class=\"description card-text\">Dell Inspiron 15 (7567) Black, 15.6&quot; FHD, Core i7-7700HQ, 8GB, 1TB, GeForce GTX 1050 Ti 4GB, Linux + Windows 10 Home</p>\\n\\n\\t\\t\\t</div>\\n\\t\\t\\t<div class=\"ratings\">\\n\\t\\t\\t\\t<p class=\"float-end review-count\">2 reviews</p>\\n\\t\\t\\t\\t<p data-rating=\"1\">\\n\\t\\t\\t\\t\\t\\t\\t\\t\\t\\t<span class=\"ws-icon ws-icon-star\"></span>\\n\\t\\t\\t\\t\\t\\t\\t\\t\\t</p>\\n\\t\\t\\t</div>\\n\\t\\t</div>\\n\\t</div>\\n</div>\\n\\t\\t\\t<div class=\"col-md-4 col-xl-4 col-lg-4\">\\n\\t<div class=\"card product-wrapper thumbnail\">\\n\\t\\t<div class=\"card-body\">\\n\\t\\t\\t<img class=\"img-fluid card-img-top image img-responsive\" alt=\"item\" src=\"/images/test-sites/e-commerce/items/cart2.png\">\\n\\t\\t\\t<div class=\"caption\">\\n\\t\\t\\t\\t<h4 class=\"float-end price card-title pull-right\">$1144.4</h4>\\n\\t\\t\\t\\t<h4>\\n\\t\\t\\t\\t\\t<a href=\"/test-sites/e-commerce/allinone/product/112\" class=\"title\" title=\"Dell Latitude 5580\">Dell Latitude...</a>\\n\\t\\t\\t\\t</h4>\\n\\t\\t\\t\\t<p class=\"description card-text\">Dell Latitude 5580, 15.6&quot; FHD, Core i5-7300U, 8GB, 256GB SSD, Windows 10 Pro</p>\\n\\n\\t\\t\\t</div>\\n\\t\\t\\t<div class=\"ratings\">\\n\\t\\t\\t\\t<p class=\"float-end review-count\">10 reviews</p>\\n\\t\\t\\t\\t<p data-rating=\"3\">\\n\\t\\t\\t\\t\\t\\t\\t\\t\\t\\t<span class=\"ws-icon ws-icon-star\"></span>\\n\\t\\t\\t\\t\\t\\t\\t\\t\\t\\t<span class=\"ws-icon ws-icon-star\"></span>\\n\\t\\t\\t\\t\\t\\t\\t\\t\\t\\t<span class=\"ws-icon ws-icon-star\"></span>\\n\\t\\t\\t\\t\\t\\t\\t\\t\\t</p>\\n\\t\\t\\t</div>\\n\\t\\t</div>\\n\\t</div>\\n</div>\\n\\t\\t\\t<div class=\"col-md-4 col-xl-4 col-lg-4\">\\n\\t<div class=\"card product-wrapper thumbnail\">\\n\\t\\t<div class=\"card-body\">\\n\\t\\t\\t<img class=\"img-fluid card-img-top image img-responsive\" alt=\"item\" src=\"/images/test-sites/e-commerce/items/cart2.png\">\\n\\t\\t\\t<div class=\"caption\">\\n\\t\\t\\t\\t<h4 class=\"float-end price card-title pull-right\">$1149</h4>\\n\\t\\t\\t\\t<h4>\\n\\t\\t\\t\\t\\t<a href=\"/test-sites/e-commerce/allinone/product/55\" class=\"title\" title=\"Lenovo Legion Y520-15IKBM\">Lenovo Legion...</a>\\n\\t\\t\\t\\t</h4>\\n\\t\\t\\t\\t<p class=\"description card-text\">Lenovo Legion Y520-15IKBM, 15.6&quot; FHD IPS, Core i7-7700HQ, 8GB, 128GB SSD + 1TB, GeForce GTX 1060 Max-Q 6GB, DOS</p>\\n\\n\\t\\t\\t</div>\\n\\t\\t\\t<div class=\"ratings\">\\n\\t\\t\\t\\t<p class=\"float-end review-count\">11 reviews</p>\\n\\t\\t\\t\\t<p data-rating=\"3\">\\n\\t\\t\\t\\t\\t\\t\\t\\t\\t\\t<span class=\"ws-icon ws-icon-star\"></span>\\n\\t\\t\\t\\t\\t\\t\\t\\t\\t\\t<span class=\"ws-icon ws-icon-star\"></span>\\n\\t\\t\\t\\t\\t\\t\\t\\t\\t\\t<span class=\"ws-icon ws-icon-star\"></span>\\n\\t\\t\\t\\t\\t\\t\\t\\t\\t</p>\\n\\t\\t\\t</div>\\n\\t\\t</div>\\n\\t</div>\\n</div>\\n\\t\\t\\t<div class=\"col-md-4 col-xl-4 col-lg-4\">\\n\\t<div class=\"card product-wrapper thumbnail\">\\n\\t\\t<div class=\"card-body\">\\n\\t\\t\\t<img class=\"img-fluid card-img-top image img-responsive\" alt=\"item\" src=\"/images/test-sites/e-commerce/items/cart2.png\">\\n\\t\\t\\t<div class=\"caption\">\\n\\t\\t\\t\\t<h4 class=\"float-end price card-title pull-right\">$1149</h4>\\n\\t\\t\\t\\t<h4>\\n\\t\\t\\t\\t\\t<a href=\"/test-sites/e-commerce/allinone/product/113\" class=\"title\" title=\"MSI GP62M 7RDX Leopard\">MSI GP62M 7RDX...</a>\\n\\t\\t\\t\\t</h4>\\n\\t\\t\\t\\t<p class=\"description card-text\">MSI GP62M 7RDX Leopard, 15.6&quot; FHD, Core i7-7700HQ, 8GB, 1TB + 128GB SSD, GeForce GTX 1050 2GB, Windows 10 Home</p>\\n\\n\\t\\t\\t</div>\\n\\t\\t\\t<div class=\"ratings\">\\n\\t\\t\\t\\t<p class=\"float-end review-count\">11 reviews</p>\\n\\t\\t\\t\\t<p data-rating=\"1\">\\n\\t\\t\\t\\t\\t\\t\\t\\t\\t\\t<span class=\"ws-icon ws-icon-star\"></span>\\n\\t\\t\\t\\t\\t\\t\\t\\t\\t</p>\\n\\t\\t\\t</div>\\n\\t\\t</div>\\n\\t</div>\\n</div>\\n\\t\\t\\t<div class=\"col-md-4 col-xl-4 col-lg-4\">\\n\\t<div class=\"card product-wrapper thumbnail\">\\n\\t\\t<div class=\"card-body\">\\n\\t\\t\\t<img class=\"img-fluid card-img-top image img-responsive\" alt=\"item\" src=\"/images/test-sites/e-commerce/items/cart2.png\">\\n\\t\\t\\t<div class=\"caption\">\\n\\t\\t\\t\\t<h4 class=\"float-end price card-title pull-right\">$1149.73</h4>\\n\\t\\t\\t\\t<h4>\\n\\t\\t\\t\\t\\t<a href=\"/test-sites/e-commerce/allinone/product/114\" class=\"title\" title=\"Lenovo Yoga 720 Grey\">Lenovo Yoga 72...</a>\\n\\t\\t\\t\\t</h4>\\n\\t\\t\\t\\t<p class=\"description card-text\">Lenovo Yoga 720 Grey, 15.6&quot; FHD IPS, Core i5-7300HQ, 8GB, 256GB SSD, GeForce GTX 1050 2GB, Windows 10 Home</p>\\n\\n\\t\\t\\t</div>\\n\\t\\t\\t<div class=\"ratings\">\\n\\t\\t\\t\\t<p class=\"float-end review-count\">12 reviews</p>\\n\\t\\t\\t\\t<p data-rating=\"2\">\\n\\t\\t\\t\\t\\t\\t\\t\\t\\t\\t<span class=\"ws-icon ws-icon-star\"></span>\\n\\t\\t\\t\\t\\t\\t\\t\\t\\t\\t<span class=\"ws-icon ws-icon-star\"></span>\\n\\t\\t\\t\\t\\t\\t\\t\\t\\t</p>\\n\\t\\t\\t</div>\\n\\t\\t</div>\\n\\t</div>\\n</div>\\n\\t\\t\\t<div class=\"col-md-4 col-xl-4 col-lg-4\">\\n\\t<div class=\"card product-wrapper thumbnail\">\\n\\t\\t<div class=\"card-body\">\\n\\t\\t\\t<img class=\"img-fluid card-img-top image img-responsive\" alt=\"item\" src=\"/images/test-sites/e-commerce/items/cart2.png\">\\n\\t\\t\\t<div class=\"caption\">\\n\\t\\t\\t\\t<h4 class=\"float-end price card-title pull-right\">$1154.04</h4>\\n\\t\\t\\t\\t<h4>\\n\\t\\t\\t\\t\\t<a href=\"/test-sites/e-commerce/allinone/product/115\" class=\"title\" title=\"Toshiba Portege Z30-C-16L Grey\">Toshiba Porteg...</a>\\n\\t\\t\\t\\t</h4>\\n\\t\\t\\t\\t<p class=\"description card-text\">Toshiba Portege Z30-C-16L Grey, 13.3&quot; FHD, Core i7-6500U, 8GB, 256GB SSD, Windows 10 Pro</p>\\n\\n\\t\\t\\t</div>\\n\\t\\t\\t<div class=\"ratings\">\\n\\t\\t\\t\\t<p class=\"float-end review-count\">7 reviews</p>\\n\\t\\t\\t\\t<p data-rating=\"1\">\\n\\t\\t\\t\\t\\t\\t\\t\\t\\t\\t<span class=\"ws-icon ws-icon-star\"></span>\\n\\t\\t\\t\\t\\t\\t\\t\\t\\t</p>\\n\\t\\t\\t</div>\\n\\t\\t</div>\\n\\t</div>\\n</div>\\n\\t\\t\\t<div class=\"col-md-4 col-xl-4 col-lg-4\">\\n\\t<div class=\"card product-wrapper thumbnail\">\\n\\t\\t<div class=\"card-body\">\\n\\t\\t\\t<img class=\"img-fluid card-img-top image img-responsive\" alt=\"item\" src=\"/images/test-sites/e-commerce/items/cart2.png\">\\n\\t\\t\\t<div class=\"caption\">\\n\\t\\t\\t\\t<h4 class=\"float-end price card-title pull-right\">$1170.1</h4>\\n\\t\\t\\t\\t<h4>\\n\\t\\t\\t\\t\\t<a href=\"/test-sites/e-commerce/allinone/product/116\" class=\"title\" title=\"Acer TravelMate P645-S-511A Black\">Acer TravelMat...</a>\\n\\t\\t\\t\\t</h4>\\n\\t\\t\\t\\t<p class=\"description card-text\">Acer TravelMate P645-S-511A Black, 14&quot; FHD IPS, Core i5-5200U, 8GB, 256GB SSD, 3G, Windows 10 Pro</p>\\n\\n\\t\\t\\t</div>\\n\\t\\t\\t<div class=\"ratings\">\\n\\t\\t\\t\\t<p class=\"float-end review-count\">0 reviews</p>\\n\\t\\t\\t\\t<p data-rating=\"1\">\\n\\t\\t\\t\\t\\t\\t\\t\\t\\t\\t<span class=\"ws-icon ws-icon-star\"></span>\\n\\t\\t\\t\\t\\t\\t\\t\\t\\t</p>\\n\\t\\t\\t</div>\\n\\t\\t</div>\\n\\t</div>\\n</div>\\n\\t\\t\\t<div class=\"col-md-4 col-xl-4 col-lg-4\">\\n\\t<div class=\"card product-wrapper thumbnail\">\\n\\t\\t<div class=\"card-body\">\\n\\t\\t\\t<img class=\"img-fluid card-img-top image img-responsive\" alt=\"item\" src=\"/images/test-sites/e-commerce/items/cart2.png\">\\n\\t\\t\\t<div class=\"caption\">\\n\\t\\t\\t\\t<h4 class=\"float-end price card-title pull-right\">$1178.19</h4>\\n\\t\\t\\t\\t<h4>\\n\\t\\t\\t\\t\\t<a href=\"/test-sites/e-commerce/allinone/product/117\" class=\"title\" title=\"Dell Latitude 5580\">Dell Latitude...</a>\\n\\t\\t\\t\\t</h4>\\n\\t\\t\\t\\t<p class=\"description card-text\">Dell Latitude 5580, 15.6&quot; FHD, Core i5-7300U, 16GB, 256GB SSD, Linux + Windows 10 Home</p>\\n\\n\\t\\t\\t</div>\\n\\t\\t\\t<div class=\"ratings\">\\n\\t\\t\\t\\t<p class=\"float-end review-count\">6 reviews</p>\\n\\t\\t\\t\\t<p data-rating=\"3\">\\n\\t\\t\\t\\t\\t\\t\\t\\t\\t\\t<span class=\"ws-icon ws-icon-star\"></span>\\n\\t\\t\\t\\t\\t\\t\\t\\t\\t\\t<span class=\"ws-icon ws-icon-star\"></span>\\n\\t\\t\\t\\t\\t\\t\\t\\t\\t\\t<span class=\"ws-icon ws-icon-star\"></span>\\n\\t\\t\\t\\t\\t\\t\\t\\t\\t</p>\\n\\t\\t\\t</div>\\n\\t\\t</div>\\n\\t</div>\\n</div>\\n\\t\\t\\t<div class=\"col-md-4 col-xl-4 col-lg-4\">\\n\\t<div class=\"card product-wrapper thumbnail\">\\n\\t\\t<div class=\"card-body\">\\n\\t\\t\\t<img class=\"img-fluid card-img-top image img-responsive\" alt=\"item\" src=\"/images/test-sites/e-commerce/items/cart2.png\">\\n\\t\\t\\t<div class=\"caption\">\\n\\t\\t\\t\\t<h4 class=\"float-end price card-title pull-right\">$1178.99</h4>\\n\\t\\t\\t\\t<h4>\\n\\t\\t\\t\\t\\t<a href=\"/test-sites/e-commerce/allinone/product/33\" class=\"title\" title=\"ThinkPad T540p\">ThinkPad T540p</a>\\n\\t\\t\\t\\t</h4>\\n\\t\\t\\t\\t<p class=\"description card-text\">15.6&quot;, Core i5-4200M, 4GB, 500GB, Win7 Pro 64bit</p>\\n\\n\\t\\t\\t</div>\\n\\t\\t\\t<div class=\"ratings\">\\n\\t\\t\\t\\t<p class=\"float-end review-count\">2 reviews</p>\\n\\t\\t\\t\\t<p data-rating=\"1\">\\n\\t\\t\\t\\t\\t\\t\\t\\t\\t\\t<span class=\"ws-icon ws-icon-star\"></span>\\n\\t\\t\\t\\t\\t\\t\\t\\t\\t</p>\\n\\t\\t\\t</div>\\n\\t\\t</div>\\n\\t</div>\\n</div>\\n\\t\\t\\t<div class=\"col-md-4 col-xl-4 col-lg-4\">\\n\\t<div class=\"card product-wrapper thumbnail\">\\n\\t\\t<div class=\"card-body\">\\n\\t\\t\\t<img class=\"img-fluid card-img-top image img-responsive\" alt=\"item\" src=\"/images/test-sites/e-commerce/items/cart2.png\">\\n\\t\\t\\t<div class=\"caption\">\\n\\t\\t\\t\\t<h4 class=\"float-end price card-title pull-right\">$1179</h4>\\n\\t\\t\\t\\t<h4>\\n\\t\\t\\t\\t\\t<a href=\"/test-sites/e-commerce/allinone/product/118\" class=\"title\" title=\"MSI GS63 7RD Stealth\">MSI GS63 7RD S...</a>\\n\\t\\t\\t\\t</h4>\\n\\t\\t\\t\\t<p class=\"description card-text\">MSI GS63 7RD Stealth, 15.6&quot; FHD IPS, Core i7-7700HQ, 8GB, 256GB SSD, GeForce GTX 1050 2GB, DOS + Windows 10 Home</p>\\n\\n\\t\\t\\t</div>\\n\\t\\t\\t<div class=\"ratings\">\\n\\t\\t\\t\\t<p class=\"float-end review-count\">2 reviews</p>\\n\\t\\t\\t\\t<p data-rating=\"1\">\\n\\t\\t\\t\\t\\t\\t\\t\\t\\t\\t<span class=\"ws-icon ws-icon-star\"></span>\\n\\t\\t\\t\\t\\t\\t\\t\\t\\t</p>\\n\\t\\t\\t</div>\\n\\t\\t</div>\\n\\t</div>\\n</div>\\n\\t\\t\\t<div class=\"col-md-4 col-xl-4 col-lg-4\">\\n\\t<div class=\"card product-wrapper thumbnail\">\\n\\t\\t<div class=\"card-body\">\\n\\t\\t\\t<img class=\"img-fluid card-img-top image img-responsive\" alt=\"item\" src=\"/images/test-sites/e-commerce/items/cart2.png\">\\n\\t\\t\\t<div class=\"caption\">\\n\\t\\t\\t\\t<h4 class=\"float-end price card-title pull-right\">$1187.88</h4>\\n\\t\\t\\t\\t<h4>\\n\\t\\t\\t\\t\\t<a href=\"/test-sites/e-commerce/allinone/product/119\" class=\"title\" title=\"Dell Latitude 5480\">Dell Latitude...</a>\\n\\t\\t\\t\\t</h4>\\n\\t\\t\\t\\t<p class=\"description card-text\">Dell Latitude 5480, 14&quot; FHD, Core i5-7300U, 8GB, 256GB SSD, Windows 10 Pro</p>\\n\\n\\t\\t\\t</div>\\n\\t\\t\\t<div class=\"ratings\">\\n\\t\\t\\t\\t<p class=\"float-end review-count\">5 reviews</p>\\n\\t\\t\\t\\t<p data-rating=\"3\">\\n\\t\\t\\t\\t\\t\\t\\t\\t\\t\\t<span class=\"ws-icon ws-icon-star\"></span>\\n\\t\\t\\t\\t\\t\\t\\t\\t\\t\\t<span class=\"ws-icon ws-icon-star\"></span>\\n\\t\\t\\t\\t\\t\\t\\t\\t\\t\\t<span class=\"ws-icon ws-icon-star\"></span>\\n\\t\\t\\t\\t\\t\\t\\t\\t\\t</p>\\n\\t\\t\\t</div>\\n\\t\\t</div>\\n\\t</div>\\n</div>\\n\\t\\t\\t<div class=\"col-md-4 col-xl-4 col-lg-4\">\\n\\t<div class=\"card product-wrapper thumbnail\">\\n\\t\\t<div class=\"card-body\">\\n\\t\\t\\t<img class=\"img-fluid card-img-top image img-responsive\" alt=\"item\" src=\"/images/test-sites/e-commerce/items/cart2.png\">\\n\\t\\t\\t<div class=\"caption\">\\n\\t\\t\\t\\t<h4 class=\"float-end price card-title pull-right\">$1187.98</h4>\\n\\t\\t\\t\\t<h4>\\n\\t\\t\\t\\t\\t<a href=\"/test-sites/e-commerce/allinone/product/120\" class=\"title\" title=\"Acer Predator Helios 300 (PH317-51)\">Acer Predator...</a>\\n\\t\\t\\t\\t</h4>\\n\\t\\t\\t\\t<p class=\"description card-text\">Acer Predator Helios 300 (PH317-51), 17.3&quot; FHD IPS, Core i7-7700HQ. 8GB, 128GB SSD +1TB, GeForce GTX 1050Ti 4GB, Linux + Windows 10 Home</p>\\n\\n\\t\\t\\t</div>\\n\\t\\t\\t<div class=\"ratings\">\\n\\t\\t\\t\\t<p class=\"float-end review-count\">14 reviews</p>\\n\\t\\t\\t\\t<p data-rating=\"3\">\\n\\t\\t\\t\\t\\t\\t\\t\\t\\t\\t<span class=\"ws-icon ws-icon-star\"></span>\\n\\t\\t\\t\\t\\t\\t\\t\\t\\t\\t<span class=\"ws-icon ws-icon-star\"></span>\\n\\t\\t\\t\\t\\t\\t\\t\\t\\t\\t<span class=\"ws-icon ws-icon-star\"></span>\\n\\t\\t\\t\\t\\t\\t\\t\\t\\t</p>\\n\\t\\t\\t</div>\\n\\t\\t</div>\\n\\t</div>\\n</div>\\n\\t\\t\\t<div class=\"col-md-4 col-xl-4 col-lg-4\">\\n\\t<div class=\"card product-wrapper thumbnail\">\\n\\t\\t<div class=\"card-body\">\\n\\t\\t\\t<img class=\"img-fluid card-img-top image img-responsive\" alt=\"item\" src=\"/images/test-sites/e-commerce/items/cart2.png\">\\n\\t\\t\\t<div class=\"caption\">\\n\\t\\t\\t\\t<h4 class=\"float-end price card-title pull-right\">$1199</h4>\\n\\t\\t\\t\\t<h4>\\n\\t\\t\\t\\t\\t<a href=\"/test-sites/e-commerce/allinone/product/121\" class=\"title\" title=\"MSI GL62M 7REX\">MSI GL62M 7REX</a>\\n\\t\\t\\t\\t</h4>\\n\\t\\t\\t\\t<p class=\"description card-text\">MSI GL62M 7REX, 15.6&quot; FHD, Core i7-7700HQ, 8GB, 1TB + 128GB SSD, GeForce GTX 1050 Ti 2GB, Windows 10 Home</p>\\n\\n\\t\\t\\t</div>\\n\\t\\t\\t<div class=\"ratings\">\\n\\t\\t\\t\\t<p class=\"float-end review-count\">7 reviews</p>\\n\\t\\t\\t\\t<p data-rating=\"1\">\\n\\t\\t\\t\\t\\t\\t\\t\\t\\t\\t<span class=\"ws-icon ws-icon-star\"></span>\\n\\t\\t\\t\\t\\t\\t\\t\\t\\t</p>\\n\\t\\t\\t</div>\\n\\t\\t</div>\\n\\t</div>\\n</div>\\n\\t\\t\\t<div class=\"col-md-4 col-xl-4 col-lg-4\">\\n\\t<div class=\"card product-wrapper thumbnail\">\\n\\t\\t<div class=\"card-body\">\\n\\t\\t\\t<img class=\"img-fluid card-img-top image img-responsive\" alt=\"item\" src=\"/images/test-sites/e-commerce/items/cart2.png\">\\n\\t\\t\\t<div class=\"caption\">\\n\\t\\t\\t\\t<h4 class=\"float-end price card-title pull-right\">$1199</h4>\\n\\t\\t\\t\\t<h4>\\n\\t\\t\\t\\t\\t<a href=\"/test-sites/e-commerce/allinone/product/122\" class=\"title\" title=\"MSI GL62M 7REX2\">MSI GL62M 7REX...</a>\\n\\t\\t\\t\\t</h4>\\n\\t\\t\\t\\t<p class=\"description card-text\">MSI GL62M 7REX2, 15.6&quot; FHD, Core i7-7700HQ, 8GB, 1TB + 128GB SSD, GeForce GTX 1050 Ti 2GB, Windows 10 Home</p>\\n\\n\\t\\t\\t</div>\\n\\t\\t\\t<div class=\"ratings\">\\n\\t\\t\\t\\t<p class=\"float-end review-count\">12 reviews</p>\\n\\t\\t\\t\\t<p data-rating=\"2\">\\n\\t\\t\\t\\t\\t\\t\\t\\t\\t\\t<span class=\"ws-icon ws-icon-star\"></span>\\n\\t\\t\\t\\t\\t\\t\\t\\t\\t\\t<span class=\"ws-icon ws-icon-star\"></span>\\n\\t\\t\\t\\t\\t\\t\\t\\t\\t</p>\\n\\t\\t\\t</div>\\n\\t\\t</div>\\n\\t</div>\\n</div>\\n\\t\\t\\t<div class=\"col-md-4 col-xl-4 col-lg-4\">\\n\\t<div class=\"card product-wrapper thumbnail\">\\n\\t\\t<div class=\"card-body\">\\n\\t\\t\\t<img class=\"img-fluid card-img-top image img-responsive\" alt=\"item\" src=\"/images/test-sites/e-commerce/items/cart2.png\">\\n\\t\\t\\t<div class=\"caption\">\\n\\t\\t\\t\\t<h4 class=\"float-end price card-title pull-right\">$1199.73</h4>\\n\\t\\t\\t\\t<h4>\\n\\t\\t\\t\\t\\t<a href=\"/test-sites/e-commerce/allinone/product/123\" class=\"title\" title=\"Lenovo Yoga 910 Grey\">Lenovo Yoga 91...</a>\\n\\t\\t\\t\\t</h4>\\n\\t\\t\\t\\t<p class=\"description card-text\">Lenovo Yoga 910 Grey, 13.9&quot; FHD Touch, Core i5-7200U, 8GB, 256GB SSD, Windows 10 Home</p>\\n\\n\\t\\t\\t</div>\\n\\t\\t\\t<div class=\"ratings\">\\n\\t\\t\\t\\t<p class=\"float-end review-count\">7 reviews</p>\\n\\t\\t\\t\\t<p data-rating=\"3\">\\n\\t\\t\\t\\t\\t\\t\\t\\t\\t\\t<span class=\"ws-icon ws-icon-star\"></span>\\n\\t\\t\\t\\t\\t\\t\\t\\t\\t\\t<span class=\"ws-icon ws-icon-star\"></span>\\n\\t\\t\\t\\t\\t\\t\\t\\t\\t\\t<span class=\"ws-icon ws-icon-star\"></span>\\n\\t\\t\\t\\t\\t\\t\\t\\t\\t</p>\\n\\t\\t\\t</div>\\n\\t\\t</div>\\n\\t</div>\\n</div>\\n\\t\\t\\t<div class=\"col-md-4 col-xl-4 col-lg-4\">\\n\\t<div class=\"card product-wrapper thumbnail\">\\n\\t\\t<div class=\"card-body\">\\n\\t\\t\\t<img class=\"img-fluid card-img-top image img-responsive\" alt=\"item\" src=\"/images/test-sites/e-commerce/items/cart2.png\">\\n\\t\\t\\t<div class=\"caption\">\\n\\t\\t\\t\\t<h4 class=\"float-end price card-title pull-right\">$1203.41</h4>\\n\\t\\t\\t\\t<h4>\\n\\t\\t\\t\\t\\t<a href=\"/test-sites/e-commerce/allinone/product/124\" class=\"title\" title=\"Toshiba Portege X30-D-10J Black/Blue\">Toshiba Porteg...</a>\\n\\t\\t\\t\\t</h4>\\n\\t\\t\\t\\t<p class=\"description card-text\">Toshiba Portege X30-D-10J Black/Blue, 13.3&quot; FHD IPS, Core i5-7200U, 8GB, 256GB SSD, Windows 10 Pro</p>\\n\\n\\t\\t\\t</div>\\n\\t\\t\\t<div class=\"ratings\">\\n\\t\\t\\t\\t<p class=\"float-end review-count\">13 reviews</p>\\n\\t\\t\\t\\t<p data-rating=\"4\">\\n\\t\\t\\t\\t\\t\\t\\t\\t\\t\\t<span class=\"ws-icon ws-icon-star\"></span>\\n\\t\\t\\t\\t\\t\\t\\t\\t\\t\\t<span class=\"ws-icon ws-icon-star\"></span>\\n\\t\\t\\t\\t\\t\\t\\t\\t\\t\\t<span class=\"ws-icon ws-icon-star\"></span>\\n\\t\\t\\t\\t\\t\\t\\t\\t\\t\\t<span class=\"ws-icon ws-icon-star\"></span>\\n\\t\\t\\t\\t\\t\\t\\t\\t\\t</p>\\n\\t\\t\\t</div>\\n\\t\\t</div>\\n\\t</div>\\n</div>\\n\\t\\t\\t<div class=\"col-md-4 col-xl-4 col-lg-4\">\\n\\t<div class=\"card product-wrapper thumbnail\">\\n\\t\\t<div class=\"card-body\">\\n\\t\\t\\t<img class=\"img-fluid card-img-top image img-responsive\" alt=\"item\" src=\"/images/test-sites/e-commerce/items/cart2.png\">\\n\\t\\t\\t<div class=\"caption\">\\n\\t\\t\\t\\t<h4 class=\"float-end price card-title pull-right\">$1212.16</h4>\\n\\t\\t\\t\\t<h4>\\n\\t\\t\\t\\t\\t<a href=\"/test-sites/e-commerce/allinone/product/125\" class=\"title\" title=\"Lenovo IdeaPad Miix 510 Platinum Silver\">Lenovo IdeaPad...</a>\\n\\t\\t\\t\\t</h4>\\n\\t\\t\\t\\t<p class=\"description card-text\">Lenovo IdeaPad Miix 510 Platinum Silver, 12.2&quot; IPS Touch, Core i5-7200U, 8GB, 256GB SSD, 4G, Windows 10 Pro</p>\\n\\n\\t\\t\\t</div>\\n\\t\\t\\t<div class=\"ratings\">\\n\\t\\t\\t\\t<p class=\"float-end review-count\">0 reviews</p>\\n\\t\\t\\t\\t<p data-rating=\"4\">\\n\\t\\t\\t\\t\\t\\t\\t\\t\\t\\t<span class=\"ws-icon ws-icon-star\"></span>\\n\\t\\t\\t\\t\\t\\t\\t\\t\\t\\t<span class=\"ws-icon ws-icon-star\"></span>\\n\\t\\t\\t\\t\\t\\t\\t\\t\\t\\t<span class=\"ws-icon ws-icon-star\"></span>\\n\\t\\t\\t\\t\\t\\t\\t\\t\\t\\t<span class=\"ws-icon ws-icon-star\"></span>\\n\\t\\t\\t\\t\\t\\t\\t\\t\\t</p>\\n\\t\\t\\t</div>\\n\\t\\t</div>\\n\\t</div>\\n</div>\\n\\t\\t\\t<div class=\"col-md-4 col-xl-4 col-lg-4\">\\n\\t<div class=\"card product-wrapper thumbnail\">\\n\\t\\t<div class=\"card-body\">\\n\\t\\t\\t<img class=\"img-fluid card-img-top image img-responsive\" alt=\"item\" src=\"/images/test-sites/e-commerce/items/cart2.png\">\\n\\t\\t\\t<div class=\"caption\">\\n\\t\\t\\t\\t<h4 class=\"float-end price card-title pull-right\">$1221.58</h4>\\n\\t\\t\\t\\t<h4>\\n\\t\\t\\t\\t\\t<a href=\"/test-sites/e-commerce/allinone/product/126\" class=\"title\" title=\"Acer Predator Helios 300 (PH317-51)\">Acer Predator...</a>\\n\\t\\t\\t\\t</h4>\\n\\t\\t\\t\\t<p class=\"description card-text\">Acer Predator Helios 300 (PH317-51), 17.3&quot; FHD IPS, Core i7-7700HQ, 8GB, 1TB + 128GB SSD, GeForce GTX 1050 Ti 4GB, Windows 10 Home</p>\\n\\n\\t\\t\\t</div>\\n\\t\\t\\t<div class=\"ratings\">\\n\\t\\t\\t\\t<p class=\"float-end review-count\">9 reviews</p>\\n\\t\\t\\t\\t<p data-rating=\"1\">\\n\\t\\t\\t\\t\\t\\t\\t\\t\\t\\t<span class=\"ws-icon ws-icon-star\"></span>\\n\\t\\t\\t\\t\\t\\t\\t\\t\\t</p>\\n\\t\\t\\t</div>\\n\\t\\t</div>\\n\\t</div>\\n</div>\\n\\t\\t\\t<div class=\"col-md-4 col-xl-4 col-lg-4\">\\n\\t<div class=\"card product-wrapper thumbnail\">\\n\\t\\t<div class=\"card-body\">\\n\\t\\t\\t<img class=\"img-fluid card-img-top image img-responsive\" alt=\"item\" src=\"/images/test-sites/e-commerce/items/cart2.png\">\\n\\t\\t\\t<div class=\"caption\">\\n\\t\\t\\t\\t<h4 class=\"float-end price card-title pull-right\">$1223.99</h4>\\n\\t\\t\\t\\t<h4>\\n\\t\\t\\t\\t\\t<a href=\"/test-sites/e-commerce/allinone/product/43\" class=\"title\" title=\"ThinkPad Yoga\">ThinkPad Yoga</a>\\n\\t\\t\\t\\t</h4>\\n\\t\\t\\t\\t<p class=\"description card-text\">12.5&quot; Touch, Core i5 4200U, 8GB, 500GB + 16GB SSD Cache, Windows</p>\\n\\n\\t\\t\\t</div>\\n\\t\\t\\t<div class=\"ratings\">\\n\\t\\t\\t\\t<p class=\"float-end review-count\">2 reviews</p>\\n\\t\\t\\t\\t<p data-rating=\"3\">\\n\\t\\t\\t\\t\\t\\t\\t\\t\\t\\t<span class=\"ws-icon ws-icon-star\"></span>\\n\\t\\t\\t\\t\\t\\t\\t\\t\\t\\t<span class=\"ws-icon ws-icon-star\"></span>\\n\\t\\t\\t\\t\\t\\t\\t\\t\\t\\t<span class=\"ws-icon ws-icon-star\"></span>\\n\\t\\t\\t\\t\\t\\t\\t\\t\\t</p>\\n\\t\\t\\t</div>\\n\\t\\t</div>\\n\\t</div>\\n</div>\\n\\t\\t\\t<div class=\"col-md-4 col-xl-4 col-lg-4\">\\n\\t<div class=\"card product-wrapper thumbnail\">\\n\\t\\t<div class=\"card-body\">\\n\\t\\t\\t<img class=\"img-fluid card-img-top image img-responsive\" alt=\"item\" src=\"/images/test-sites/e-commerce/items/cart2.png\">\\n\\t\\t\\t<div class=\"caption\">\\n\\t\\t\\t\\t<h4 class=\"float-end price card-title pull-right\">$1235.49</h4>\\n\\t\\t\\t\\t<h4>\\n\\t\\t\\t\\t\\t<a href=\"/test-sites/e-commerce/allinone/product/127\" class=\"title\" title=\"Asus VivoBook Pro 15 N580VN-FI006T Gold Metal\">Asus VivoBook...</a>\\n\\t\\t\\t\\t</h4>\\n\\t\\t\\t\\t<p class=\"description card-text\">Asus VivoBook Pro 15 N580VN-FI006T Gold Metal, 15.6&quot; UHD, Core i7-7700HQ, 16GB, 1TB + 256GB SSD, GeForce MX150 2GB, Windows 10 Home, Eng kbd</p>\\n\\n\\t\\t\\t</div>\\n\\t\\t\\t<div class=\"ratings\">\\n\\t\\t\\t\\t<p class=\"float-end review-count\">10 reviews</p>\\n\\t\\t\\t\\t<p data-rating=\"2\">\\n\\t\\t\\t\\t\\t\\t\\t\\t\\t\\t<span class=\"ws-icon ws-icon-star\"></span>\\n\\t\\t\\t\\t\\t\\t\\t\\t\\t\\t<span class=\"ws-icon ws-icon-star\"></span>\\n\\t\\t\\t\\t\\t\\t\\t\\t\\t</p>\\n\\t\\t\\t</div>\\n\\t\\t</div>\\n\\t</div>\\n</div>\\n\\t\\t\\t<div class=\"col-md-4 col-xl-4 col-lg-4\">\\n\\t<div class=\"card product-wrapper thumbnail\">\\n\\t\\t<div class=\"card-body\">\\n\\t\\t\\t<img class=\"img-fluid card-img-top image img-responsive\" alt=\"item\" src=\"/images/test-sites/e-commerce/items/cart2.png\">\\n\\t\\t\\t<div class=\"caption\">\\n\\t\\t\\t\\t<h4 class=\"float-end price card-title pull-right\">$1238.37</h4>\\n\\t\\t\\t\\t<h4>\\n\\t\\t\\t\\t\\t<a href=\"/test-sites/e-commerce/allinone/product/128\" class=\"title\" title=\"Dell Latitude 5480\">Dell Latitude...</a>\\n\\t\\t\\t\\t</h4>\\n\\t\\t\\t\\t<p class=\"description card-text\">Dell Latitude 5480, 14&quot; FHD, Core i7-7600U, 8GB, 256GB SSD, Linux</p>\\n\\n\\t\\t\\t</div>\\n\\t\\t\\t<div class=\"ratings\">\\n\\t\\t\\t\\t<p class=\"float-end review-count\">0 reviews</p>\\n\\t\\t\\t\\t<p data-rating=\"2\">\\n\\t\\t\\t\\t\\t\\t\\t\\t\\t\\t<span class=\"ws-icon ws-icon-star\"></span>\\n\\t\\t\\t\\t\\t\\t\\t\\t\\t\\t<span class=\"ws-icon ws-icon-star\"></span>\\n\\t\\t\\t\\t\\t\\t\\t\\t\\t</p>\\n\\t\\t\\t</div>\\n\\t\\t</div>\\n\\t</div>\\n</div>\\n\\t\\t\\t<div class=\"col-md-4 col-xl-4 col-lg-4\">\\n\\t<div class=\"card product-wrapper thumbnail\">\\n\\t\\t<div class=\"card-body\">\\n\\t\\t\\t<img class=\"img-fluid card-img-top image img-responsive\" alt=\"item\" src=\"/images/test-sites/e-commerce/items/cart2.png\">\\n\\t\\t\\t<div class=\"caption\">\\n\\t\\t\\t\\t<h4 class=\"float-end price card-title pull-right\">$1239.2</h4>\\n\\t\\t\\t\\t<h4>\\n\\t\\t\\t\\t\\t<a href=\"/test-sites/e-commerce/allinone/product/129\" class=\"title\" title=\"Asus ZenBook UX530UX-FY040T Blue\">Asus ZenBook U...</a>\\n\\t\\t\\t\\t</h4>\\n\\t\\t\\t\\t<p class=\"description card-text\">Asus ZenBook UX530UX-FY040T Blue, 15.6&quot; FHD, Core i7-7500U, 8GB, 512GB SSD, GeForce GTX950M 2GB, Windows 10 Home, Eng kbd</p>\\n\\n\\t\\t\\t</div>\\n\\t\\t\\t<div class=\"ratings\">\\n\\t\\t\\t\\t<p class=\"float-end review-count\">14 reviews</p>\\n\\t\\t\\t\\t<p data-rating=\"1\">\\n\\t\\t\\t\\t\\t\\t\\t\\t\\t\\t<span class=\"ws-icon ws-icon-star\"></span>\\n\\t\\t\\t\\t\\t\\t\\t\\t\\t</p>\\n\\t\\t\\t</div>\\n\\t\\t</div>\\n\\t</div>\\n</div>\\n\\t\\t\\t<div class=\"col-md-4 col-xl-4 col-lg-4\">\\n\\t<div class=\"card product-wrapper thumbnail\">\\n\\t\\t<div class=\"card-body\">\\n\\t\\t\\t<img class=\"img-fluid card-img-top image img-responsive\" alt=\"item\" src=\"/images/test-sites/e-commerce/items/cart2.png\">\\n\\t\\t\\t<div class=\"caption\">\\n\\t\\t\\t\\t<h4 class=\"float-end price card-title pull-right\">$1244.99</h4>\\n\\t\\t\\t\\t<h4>\\n\\t\\t\\t\\t\\t<a href=\"/test-sites/e-commerce/allinone/product/41\" class=\"title\" title=\"ThinkPad X230\">ThinkPad X230</a>\\n\\t\\t\\t\\t</h4>\\n\\t\\t\\t\\t<p class=\"description card-text\">12.5&quot;, Core i5 2.6GHz, 8GB, 180GB SSD, Win7 Pro 64bit</p>\\n\\n\\t\\t\\t</div>\\n\\t\\t\\t<div class=\"ratings\">\\n\\t\\t\\t\\t<p class=\"float-end review-count\">10 reviews</p>\\n\\t\\t\\t\\t<p data-rating=\"3\">\\n\\t\\t\\t\\t\\t\\t\\t\\t\\t\\t<span class=\"ws-icon ws-icon-star\"></span>\\n\\t\\t\\t\\t\\t\\t\\t\\t\\t\\t<span class=\"ws-icon ws-icon-star\"></span>\\n\\t\\t\\t\\t\\t\\t\\t\\t\\t\\t<span class=\"ws-icon ws-icon-star\"></span>\\n\\t\\t\\t\\t\\t\\t\\t\\t\\t</p>\\n\\t\\t\\t</div>\\n\\t\\t</div>\\n\\t</div>\\n</div>\\n\\t\\t\\t<div class=\"col-md-4 col-xl-4 col-lg-4\">\\n\\t<div class=\"card product-wrapper thumbnail\">\\n\\t\\t<div class=\"card-body\">\\n\\t\\t\\t<img class=\"img-fluid card-img-top image img-responsive\" alt=\"item\" src=\"/images/test-sites/e-commerce/items/cart2.png\">\\n\\t\\t\\t<div class=\"caption\">\\n\\t\\t\\t\\t<h4 class=\"float-end price card-title pull-right\">$1259</h4>\\n\\t\\t\\t\\t<h4>\\n\\t\\t\\t\\t\\t<a href=\"/test-sites/e-commerce/allinone/product/130\" class=\"title\" title=\"Asus ROG Strix GL753VE-GC096T\">Asus ROG Strix...</a>\\n\\t\\t\\t\\t</h4>\\n\\t\\t\\t\\t<p class=\"description card-text\">Asus ROG Strix GL753VE-GC096T, 17.3&quot; FHD, Core i7-7700HQ, 8GB, 1TB + 128GB SSD, GeForce GTX 1050 Ti 4GB, Windows 10 Home, Eng kbd</p>\\n\\n\\t\\t\\t</div>\\n\\t\\t\\t<div class=\"ratings\">\\n\\t\\t\\t\\t<p class=\"float-end review-count\">7 reviews</p>\\n\\t\\t\\t\\t<p data-rating=\"4\">\\n\\t\\t\\t\\t\\t\\t\\t\\t\\t\\t<span class=\"ws-icon ws-icon-star\"></span>\\n\\t\\t\\t\\t\\t\\t\\t\\t\\t\\t<span class=\"ws-icon ws-icon-star\"></span>\\n\\t\\t\\t\\t\\t\\t\\t\\t\\t\\t<span class=\"ws-icon ws-icon-star\"></span>\\n\\t\\t\\t\\t\\t\\t\\t\\t\\t\\t<span class=\"ws-icon ws-icon-star\"></span>\\n\\t\\t\\t\\t\\t\\t\\t\\t\\t</p>\\n\\t\\t\\t</div>\\n\\t\\t</div>\\n\\t</div>\\n</div>\\n\\t\\t\\t<div class=\"col-md-4 col-xl-4 col-lg-4\">\\n\\t<div class=\"card product-wrapper thumbnail\">\\n\\t\\t<div class=\"card-body\">\\n\\t\\t\\t<img class=\"img-fluid card-img-top image img-responsive\" alt=\"item\" src=\"/images/test-sites/e-commerce/items/cart2.png\">\\n\\t\\t\\t<div class=\"caption\">\\n\\t\\t\\t\\t<h4 class=\"float-end price card-title pull-right\">$1260.13</h4>\\n\\t\\t\\t\\t<h4>\\n\\t\\t\\t\\t\\t<a href=\"/test-sites/e-commerce/allinone/product/131\" class=\"title\" title=\"Apple MacBook Air 13&quot;\">Apple MacBook...</a>\\n\\t\\t\\t\\t</h4>\\n\\t\\t\\t\\t<p class=\"description card-text\">Apple MacBook Air 13&quot;, i5 1.8GHz, 8GB, 256GB SSD, Intel HD 6000, ENG</p>\\n\\n\\t\\t\\t</div>\\n\\t\\t\\t<div class=\"ratings\">\\n\\t\\t\\t\\t<p class=\"float-end review-count\">8 reviews</p>\\n\\t\\t\\t\\t<p data-rating=\"4\">\\n\\t\\t\\t\\t\\t\\t\\t\\t\\t\\t<span class=\"ws-icon ws-icon-star\"></span>\\n\\t\\t\\t\\t\\t\\t\\t\\t\\t\\t<span class=\"ws-icon ws-icon-star\"></span>\\n\\t\\t\\t\\t\\t\\t\\t\\t\\t\\t<span class=\"ws-icon ws-icon-star\"></span>\\n\\t\\t\\t\\t\\t\\t\\t\\t\\t\\t<span class=\"ws-icon ws-icon-star\"></span>\\n\\t\\t\\t\\t\\t\\t\\t\\t\\t</p>\\n\\t\\t\\t</div>\\n\\t\\t</div>\\n\\t</div>\\n</div>\\n\\t\\t\\t<div class=\"col-md-4 col-xl-4 col-lg-4\">\\n\\t<div class=\"card product-wrapper thumbnail\">\\n\\t\\t<div class=\"card-body\">\\n\\t\\t\\t<img class=\"img-fluid card-img-top image img-responsive\" alt=\"item\" src=\"/images/test-sites/e-commerce/items/cart2.png\">\\n\\t\\t\\t<div class=\"caption\">\\n\\t\\t\\t\\t<h4 class=\"float-end price card-title pull-right\">$1271.06</h4>\\n\\t\\t\\t\\t<h4>\\n\\t\\t\\t\\t\\t<a href=\"/test-sites/e-commerce/allinone/product/132\" class=\"title\" title=\"Dell Latitude 5480\">Dell Latitude...</a>\\n\\t\\t\\t\\t</h4>\\n\\t\\t\\t\\t<p class=\"description card-text\">Dell Latitude 5480, 14&quot; FHD, Core i7-7600U, 8GB, 1TB, GeForce GT930MX, Windows 10 Pro</p>\\n\\n\\t\\t\\t</div>\\n\\t\\t\\t<div class=\"ratings\">\\n\\t\\t\\t\\t<p class=\"float-end review-count\">13 reviews</p>\\n\\t\\t\\t\\t<p data-rating=\"1\">\\n\\t\\t\\t\\t\\t\\t\\t\\t\\t\\t<span class=\"ws-icon ws-icon-star\"></span>\\n\\t\\t\\t\\t\\t\\t\\t\\t\\t</p>\\n\\t\\t\\t</div>\\n\\t\\t</div>\\n\\t</div>\\n</div>\\n\\t\\t\\t<div class=\"col-md-4 col-xl-4 col-lg-4\">\\n\\t<div class=\"card product-wrapper thumbnail\">\\n\\t\\t<div class=\"card-body\">\\n\\t\\t\\t<img class=\"img-fluid card-img-top image img-responsive\" alt=\"item\" src=\"/images/test-sites/e-commerce/items/cart2.png\">\\n\\t\\t\\t<div class=\"caption\">\\n\\t\\t\\t\\t<h4 class=\"float-end price card-title pull-right\">$1273.11</h4>\\n\\t\\t\\t\\t<h4>\\n\\t\\t\\t\\t\\t<a href=\"/test-sites/e-commerce/allinone/product/133\" class=\"title\" title=\"Hewlett Packard Spectre 13-v106na Dark Ash Silver\">Hewlett Packar...</a>\\n\\t\\t\\t\\t</h4>\\n\\t\\t\\t\\t<p class=\"description card-text\">Hewlett Packard Spectre 13-v106na Dark Ash Silver, 13.3&quot; FHD IPS, Core i5-7200U, 8GB, 256GB SSD, Windows 10 Home</p>\\n\\n\\t\\t\\t</div>\\n\\t\\t\\t<div class=\"ratings\">\\n\\t\\t\\t\\t<p class=\"float-end review-count\">8 reviews</p>\\n\\t\\t\\t\\t<p data-rating=\"3\">\\n\\t\\t\\t\\t\\t\\t\\t\\t\\t\\t<span class=\"ws-icon ws-icon-star\"></span>\\n\\t\\t\\t\\t\\t\\t\\t\\t\\t\\t<span class=\"ws-icon ws-icon-star\"></span>\\n\\t\\t\\t\\t\\t\\t\\t\\t\\t\\t<span class=\"ws-icon ws-icon-star\"></span>\\n\\t\\t\\t\\t\\t\\t\\t\\t\\t</p>\\n\\t\\t\\t</div>\\n\\t\\t</div>\\n\\t</div>\\n</div>\\n\\t\\t\\t<div class=\"col-md-4 col-xl-4 col-lg-4\">\\n\\t<div class=\"card product-wrapper thumbnail\">\\n\\t\\t<div class=\"card-body\">\\n\\t\\t\\t<img class=\"img-fluid card-img-top image img-responsive\" alt=\"item\" src=\"/images/test-sites/e-commerce/items/cart2.png\">\\n\\t\\t\\t<div class=\"caption\">\\n\\t\\t\\t\\t<h4 class=\"float-end price card-title pull-right\">$1281.99</h4>\\n\\t\\t\\t\\t<h4>\\n\\t\\t\\t\\t\\t<a href=\"/test-sites/e-commerce/allinone/product/40\" class=\"title\" title=\"Dell XPS 13\">Dell XPS 13</a>\\n\\t\\t\\t\\t</h4>\\n\\t\\t\\t\\t<p class=\"description card-text\">13.3&quot; Touch, Core i5-4210U, 8GB, 128GB SSD, Windows 8.1</p>\\n\\n\\t\\t\\t</div>\\n\\t\\t\\t<div class=\"ratings\">\\n\\t\\t\\t\\t<p class=\"float-end review-count\">4 reviews</p>\\n\\t\\t\\t\\t<p data-rating=\"3\">\\n\\t\\t\\t\\t\\t\\t\\t\\t\\t\\t<span class=\"ws-icon ws-icon-star\"></span>\\n\\t\\t\\t\\t\\t\\t\\t\\t\\t\\t<span class=\"ws-icon ws-icon-star\"></span>\\n\\t\\t\\t\\t\\t\\t\\t\\t\\t\\t<span class=\"ws-icon ws-icon-star\"></span>\\n\\t\\t\\t\\t\\t\\t\\t\\t\\t</p>\\n\\t\\t\\t</div>\\n\\t\\t</div>\\n\\t</div>\\n</div>\\n\\t\\t\\t<div class=\"col-md-4 col-xl-4 col-lg-4\">\\n\\t<div class=\"card product-wrapper thumbnail\">\\n\\t\\t<div class=\"card-body\">\\n\\t\\t\\t<img class=\"img-fluid card-img-top image img-responsive\" alt=\"item\" src=\"/images/test-sites/e-commerce/items/cart2.png\">\\n\\t\\t\\t<div class=\"caption\">\\n\\t\\t\\t\\t<h4 class=\"float-end price card-title pull-right\">$1294.74</h4>\\n\\t\\t\\t\\t<h4>\\n\\t\\t\\t\\t\\t<a href=\"/test-sites/e-commerce/allinone/product/134\" class=\"title\" title=\"Toshiba Portege Z30-C-16K Grey\">Toshiba Porteg...</a>\\n\\t\\t\\t\\t</h4>\\n\\t\\t\\t\\t<p class=\"description card-text\">Toshiba Portege Z30-C-16K Grey, 13.3&quot; FHD, Core i5-6200U, 8GB, 256GB SSD, 4G, Windows 10 Pro</p>\\n\\n\\t\\t\\t</div>\\n\\t\\t\\t<div class=\"ratings\">\\n\\t\\t\\t\\t<p class=\"float-end review-count\">6 reviews</p>\\n\\t\\t\\t\\t<p data-rating=\"1\">\\n\\t\\t\\t\\t\\t\\t\\t\\t\\t\\t<span class=\"ws-icon ws-icon-star\"></span>\\n\\t\\t\\t\\t\\t\\t\\t\\t\\t</p>\\n\\t\\t\\t</div>\\n\\t\\t</div>\\n\\t</div>\\n</div>\\n\\t\\t\\t<div class=\"col-md-4 col-xl-4 col-lg-4\">\\n\\t<div class=\"card product-wrapper thumbnail\">\\n\\t\\t<div class=\"card-body\">\\n\\t\\t\\t<img class=\"img-fluid card-img-top image img-responsive\" alt=\"item\" src=\"/images/test-sites/e-commerce/items/cart2.png\">\\n\\t\\t\\t<div class=\"caption\">\\n\\t\\t\\t\\t<h4 class=\"float-end price card-title pull-right\">$1299</h4>\\n\\t\\t\\t\\t<h4>\\n\\t\\t\\t\\t\\t<a href=\"/test-sites/e-commerce/allinone/product/135\" class=\"title\" title=\"MSI GL62VR 7RFX\">MSI GL62VR 7RF...</a>\\n\\t\\t\\t\\t</h4>\\n\\t\\t\\t\\t<p class=\"description card-text\">MSI GL62VR 7RFX, 15.6&quot; FHD, Core i7-7700HQ, 8GB, 1TB + 256GB SSD, GeForce GTX 1060 3GB, Windows 10 Home</p>\\n\\n\\t\\t\\t</div>\\n\\t\\t\\t<div class=\"ratings\">\\n\\t\\t\\t\\t<p class=\"float-end review-count\">1 reviews</p>\\n\\t\\t\\t\\t<p data-rating=\"3\">\\n\\t\\t\\t\\t\\t\\t\\t\\t\\t\\t<span class=\"ws-icon ws-icon-star\"></span>\\n\\t\\t\\t\\t\\t\\t\\t\\t\\t\\t<span class=\"ws-icon ws-icon-star\"></span>\\n\\t\\t\\t\\t\\t\\t\\t\\t\\t\\t<span class=\"ws-icon ws-icon-star\"></span>\\n\\t\\t\\t\\t\\t\\t\\t\\t\\t</p>\\n\\t\\t\\t</div>\\n\\t\\t</div>\\n\\t</div>\\n</div>\\n\\t\\t\\t<div class=\"col-md-4 col-xl-4 col-lg-4\">\\n\\t<div class=\"card product-wrapper thumbnail\">\\n\\t\\t<div class=\"card-body\">\\n\\t\\t\\t<img class=\"img-fluid card-img-top image img-responsive\" alt=\"item\" src=\"/images/test-sites/e-commerce/items/cart2.png\">\\n\\t\\t\\t<div class=\"caption\">\\n\\t\\t\\t\\t<h4 class=\"float-end price card-title pull-right\">$1310.39</h4>\\n\\t\\t\\t\\t<h4>\\n\\t\\t\\t\\t\\t<a href=\"/test-sites/e-commerce/allinone/product/136\" class=\"title\" title=\"Dell Latitude 5480\">Dell Latitude...</a>\\n\\t\\t\\t\\t</h4>\\n\\t\\t\\t\\t<p class=\"description card-text\">Dell Latitude 5480, 14&quot; FHD, Core i7-7600U, 8GB, 256GB SSD, Windows 10 Pro</p>\\n\\n\\t\\t\\t</div>\\n\\t\\t\\t<div class=\"ratings\">\\n\\t\\t\\t\\t<p class=\"float-end review-count\">8 reviews</p>\\n\\t\\t\\t\\t<p data-rating=\"3\">\\n\\t\\t\\t\\t\\t\\t\\t\\t\\t\\t<span class=\"ws-icon ws-icon-star\"></span>\\n\\t\\t\\t\\t\\t\\t\\t\\t\\t\\t<span class=\"ws-icon ws-icon-star\"></span>\\n\\t\\t\\t\\t\\t\\t\\t\\t\\t\\t<span class=\"ws-icon ws-icon-star\"></span>\\n\\t\\t\\t\\t\\t\\t\\t\\t\\t</p>\\n\\t\\t\\t</div>\\n\\t\\t</div>\\n\\t</div>\\n</div>\\n\\t\\t\\t<div class=\"col-md-4 col-xl-4 col-lg-4\">\\n\\t<div class=\"card product-wrapper thumbnail\">\\n\\t\\t<div class=\"card-body\">\\n\\t\\t\\t<img class=\"img-fluid card-img-top image img-responsive\" alt=\"item\" src=\"/images/test-sites/e-commerce/items/cart2.png\">\\n\\t\\t\\t<div class=\"caption\">\\n\\t\\t\\t\\t<h4 class=\"float-end price card-title pull-right\">$1311.99</h4>\\n\\t\\t\\t\\t<h4>\\n\\t\\t\\t\\t\\t<a href=\"/test-sites/e-commerce/allinone/product/35\" class=\"title\" title=\"ThinkPad X240\">ThinkPad X240</a>\\n\\t\\t\\t\\t</h4>\\n\\t\\t\\t\\t<p class=\"description card-text\">12.5&quot;, Core i5-4300U, 8GB, 240GB SSD, Win7 Pro 64bit</p>\\n\\n\\t\\t\\t</div>\\n\\t\\t\\t<div class=\"ratings\">\\n\\t\\t\\t\\t<p class=\"float-end review-count\">12 reviews</p>\\n\\t\\t\\t\\t<p data-rating=\"3\">\\n\\t\\t\\t\\t\\t\\t\\t\\t\\t\\t<span class=\"ws-icon ws-icon-star\"></span>\\n\\t\\t\\t\\t\\t\\t\\t\\t\\t\\t<span class=\"ws-icon ws-icon-star\"></span>\\n\\t\\t\\t\\t\\t\\t\\t\\t\\t\\t<span class=\"ws-icon ws-icon-star\"></span>\\n\\t\\t\\t\\t\\t\\t\\t\\t\\t</p>\\n\\t\\t\\t</div>\\n\\t\\t</div>\\n\\t</div>\\n</div>\\n\\t\\t\\t<div class=\"col-md-4 col-xl-4 col-lg-4\">\\n\\t<div class=\"card product-wrapper thumbnail\">\\n\\t\\t<div class=\"card-body\">\\n\\t\\t\\t<img class=\"img-fluid card-img-top image img-responsive\" alt=\"item\" src=\"/images/test-sites/e-commerce/items/cart2.png\">\\n\\t\\t\\t<div class=\"caption\">\\n\\t\\t\\t\\t<h4 class=\"float-end price card-title pull-right\">$1326.83</h4>\\n\\t\\t\\t\\t<h4>\\n\\t\\t\\t\\t\\t<a href=\"/test-sites/e-commerce/allinone/product/137\" class=\"title\" title=\"Hewlett Packard ProBook 640 G3\">Hewlett Packar...</a>\\n\\t\\t\\t\\t</h4>\\n\\t\\t\\t\\t<p class=\"description card-text\">Hewlett Packard ProBook 640 G3, 14&quot; FHD, Core i7-7600U, 8GB, 256GB SSD, Windows 10 Pro</p>\\n\\n\\t\\t\\t</div>\\n\\t\\t\\t<div class=\"ratings\">\\n\\t\\t\\t\\t<p class=\"float-end review-count\">2 reviews</p>\\n\\t\\t\\t\\t<p data-rating=\"1\">\\n\\t\\t\\t\\t\\t\\t\\t\\t\\t\\t<span class=\"ws-icon ws-icon-star\"></span>\\n\\t\\t\\t\\t\\t\\t\\t\\t\\t</p>\\n\\t\\t\\t</div>\\n\\t\\t</div>\\n\\t</div>\\n</div>\\n\\t\\t\\t<div class=\"col-md-4 col-xl-4 col-lg-4\">\\n\\t<div class=\"card product-wrapper thumbnail\">\\n\\t\\t<div class=\"card-body\">\\n\\t\\t\\t<img class=\"img-fluid card-img-top image img-responsive\" alt=\"item\" src=\"/images/test-sites/e-commerce/items/cart2.png\">\\n\\t\\t\\t<div class=\"caption\">\\n\\t\\t\\t\\t<h4 class=\"float-end price card-title pull-right\">$1333</h4>\\n\\t\\t\\t\\t<h4>\\n\\t\\t\\t\\t\\t<a href=\"/test-sites/e-commerce/allinone/product/138\" class=\"title\" title=\"Apple MacBook Pro 13&quot; Space Gray\">Apple MacBook...</a>\\n\\t\\t\\t\\t</h4>\\n\\t\\t\\t\\t<p class=\"description card-text\">Apple MacBook Pro 13&quot; Space Gray, Core i5 2.3GHz, 8GB, 128GB SSD, Iris Plus 640, ENG</p>\\n\\n\\t\\t\\t</div>\\n\\t\\t\\t<div class=\"ratings\">\\n\\t\\t\\t\\t<p class=\"float-end review-count\">0 reviews</p>\\n\\t\\t\\t\\t<p data-rating=\"1\">\\n\\t\\t\\t\\t\\t\\t\\t\\t\\t\\t<span class=\"ws-icon ws-icon-star\"></span>\\n\\t\\t\\t\\t\\t\\t\\t\\t\\t</p>\\n\\t\\t\\t</div>\\n\\t\\t</div>\\n\\t</div>\\n</div>\\n\\t\\t\\t<div class=\"col-md-4 col-xl-4 col-lg-4\">\\n\\t<div class=\"card product-wrapper thumbnail\">\\n\\t\\t<div class=\"card-body\">\\n\\t\\t\\t<img class=\"img-fluid card-img-top image img-responsive\" alt=\"item\" src=\"/images/test-sites/e-commerce/items/cart2.png\">\\n\\t\\t\\t<div class=\"caption\">\\n\\t\\t\\t\\t<h4 class=\"float-end price card-title pull-right\">$1337.28</h4>\\n\\t\\t\\t\\t<h4>\\n\\t\\t\\t\\t\\t<a href=\"/test-sites/e-commerce/allinone/product/139\" class=\"title\" title=\"Dell Latitude 5580\">Dell Latitude...</a>\\n\\t\\t\\t\\t</h4>\\n\\t\\t\\t\\t<p class=\"description card-text\">Dell Latitude 5580, 15.6&quot; FHD, Core i7-7600U, 8GB, 256GB SSD, GeForce GT930MX, Windows 10 Pro</p>\\n\\n\\t\\t\\t</div>\\n\\t\\t\\t<div class=\"ratings\">\\n\\t\\t\\t\\t<p class=\"float-end review-count\">6 reviews</p>\\n\\t\\t\\t\\t<p data-rating=\"1\">\\n\\t\\t\\t\\t\\t\\t\\t\\t\\t\\t<span class=\"ws-icon ws-icon-star\"></span>\\n\\t\\t\\t\\t\\t\\t\\t\\t\\t</p>\\n\\t\\t\\t</div>\\n\\t\\t</div>\\n\\t</div>\\n</div>\\n\\t\\t\\t<div class=\"col-md-4 col-xl-4 col-lg-4\">\\n\\t<div class=\"card product-wrapper thumbnail\">\\n\\t\\t<div class=\"card-body\">\\n\\t\\t\\t<img class=\"img-fluid card-img-top image img-responsive\" alt=\"item\" src=\"/images/test-sites/e-commerce/items/cart2.png\">\\n\\t\\t\\t<div class=\"caption\">\\n\\t\\t\\t\\t<h4 class=\"float-end price card-title pull-right\">$1338.37</h4>\\n\\t\\t\\t\\t<h4>\\n\\t\\t\\t\\t\\t<a href=\"/test-sites/e-commerce/allinone/product/140\" class=\"title\" title=\"Dell Latitude 5480\">Dell Latitude...</a>\\n\\t\\t\\t\\t</h4>\\n\\t\\t\\t\\t<p class=\"description card-text\">Dell Latitude 5480, 14&quot; FHD, Core i7-7600U, 8GB, 256GB SSD, Linux + Windows 10 Home</p>\\n\\n\\t\\t\\t</div>\\n\\t\\t\\t<div class=\"ratings\">\\n\\t\\t\\t\\t<p class=\"float-end review-count\">11 reviews</p>\\n\\t\\t\\t\\t<p data-rating=\"2\">\\n\\t\\t\\t\\t\\t\\t\\t\\t\\t\\t<span class=\"ws-icon ws-icon-star\"></span>\\n\\t\\t\\t\\t\\t\\t\\t\\t\\t\\t<span class=\"ws-icon ws-icon-star\"></span>\\n\\t\\t\\t\\t\\t\\t\\t\\t\\t</p>\\n\\t\\t\\t</div>\\n\\t\\t</div>\\n\\t</div>\\n</div>\\n\\t\\t\\t<div class=\"col-md-4 col-xl-4 col-lg-4\">\\n\\t<div class=\"card product-wrapper thumbnail\">\\n\\t\\t<div class=\"card-body\">\\n\\t\\t\\t<img class=\"img-fluid card-img-top image img-responsive\" alt=\"item\" src=\"/images/test-sites/e-commerce/items/cart2.png\">\\n\\t\\t\\t<div class=\"caption\">\\n\\t\\t\\t\\t<h4 class=\"float-end price card-title pull-right\">$1341.22</h4>\\n\\t\\t\\t\\t<h4>\\n\\t\\t\\t\\t\\t<a href=\"/test-sites/e-commerce/allinone/product/141\" class=\"title\" title=\"Dell Latitude 5580\">Dell Latitude...</a>\\n\\t\\t\\t\\t</h4>\\n\\t\\t\\t\\t<p class=\"description card-text\">Dell Latitude 5580, 15.6&quot; FHD, Core i7-7600U, 16GB, 256GB SSD, GeForce GT930MX, Linux</p>\\n\\n\\t\\t\\t</div>\\n\\t\\t\\t<div class=\"ratings\">\\n\\t\\t\\t\\t<p class=\"float-end review-count\">3 reviews</p>\\n\\t\\t\\t\\t<p data-rating=\"3\">\\n\\t\\t\\t\\t\\t\\t\\t\\t\\t\\t<span class=\"ws-icon ws-icon-star\"></span>\\n\\t\\t\\t\\t\\t\\t\\t\\t\\t\\t<span class=\"ws-icon ws-icon-star\"></span>\\n\\t\\t\\t\\t\\t\\t\\t\\t\\t\\t<span class=\"ws-icon ws-icon-star\"></span>\\n\\t\\t\\t\\t\\t\\t\\t\\t\\t</p>\\n\\t\\t\\t</div>\\n\\t\\t</div>\\n\\t</div>\\n</div>\\n\\t\\t\\t<div class=\"col-md-4 col-xl-4 col-lg-4\">\\n\\t<div class=\"card product-wrapper thumbnail\">\\n\\t\\t<div class=\"card-body\">\\n\\t\\t\\t<img class=\"img-fluid card-img-top image img-responsive\" alt=\"item\" src=\"/images/test-sites/e-commerce/items/cart2.png\">\\n\\t\\t\\t<div class=\"caption\">\\n\\t\\t\\t\\t<h4 class=\"float-end price card-title pull-right\">$1347.78</h4>\\n\\t\\t\\t\\t<h4>\\n\\t\\t\\t\\t\\t<a href=\"/test-sites/e-commerce/allinone/product/142\" class=\"title\" title=\"Apple MacBook Air 13&quot;\">Apple MacBook...</a>\\n\\t\\t\\t\\t</h4>\\n\\t\\t\\t\\t<p class=\"description card-text\">Apple MacBook Air 13&quot;, Intel Core i5 1.8GHz, 8GB, 256GB SSD, Intel HD 6000, RUS</p>\\n\\n\\t\\t\\t</div>\\n\\t\\t\\t<div class=\"ratings\">\\n\\t\\t\\t\\t<p class=\"float-end review-count\">11 reviews</p>\\n\\t\\t\\t\\t<p data-rating=\"2\">\\n\\t\\t\\t\\t\\t\\t\\t\\t\\t\\t<span class=\"ws-icon ws-icon-star\"></span>\\n\\t\\t\\t\\t\\t\\t\\t\\t\\t\\t<span class=\"ws-icon ws-icon-star\"></span>\\n\\t\\t\\t\\t\\t\\t\\t\\t\\t</p>\\n\\t\\t\\t</div>\\n\\t\\t</div>\\n\\t</div>\\n</div>\\n\\t\\t\\t<div class=\"col-md-4 col-xl-4 col-lg-4\">\\n\\t<div class=\"card product-wrapper thumbnail\">\\n\\t\\t<div class=\"card-body\">\\n\\t\\t\\t<img class=\"img-fluid card-img-top image img-responsive\" alt=\"item\" src=\"/images/test-sites/e-commerce/items/cart2.png\">\\n\\t\\t\\t<div class=\"caption\">\\n\\t\\t\\t\\t<h4 class=\"float-end price card-title pull-right\">$1349.23</h4>\\n\\t\\t\\t\\t<h4>\\n\\t\\t\\t\\t\\t<a href=\"/test-sites/e-commerce/allinone/product/143\" class=\"title\" title=\"Lenovo ThinkPad T470\">Lenovo ThinkPa...</a>\\n\\t\\t\\t\\t</h4>\\n\\t\\t\\t\\t<p class=\"description card-text\">Lenovo ThinkPad T470, 14&quot; FHD IPS, Core i5-7200U, 8GB, 256GB SSD, Windows 10 Pro</p>\\n\\n\\t\\t\\t</div>\\n\\t\\t\\t<div class=\"ratings\">\\n\\t\\t\\t\\t<p class=\"float-end review-count\">5 reviews</p>\\n\\t\\t\\t\\t<p data-rating=\"1\">\\n\\t\\t\\t\\t\\t\\t\\t\\t\\t\\t<span class=\"ws-icon ws-icon-star\"></span>\\n\\t\\t\\t\\t\\t\\t\\t\\t\\t</p>\\n\\t\\t\\t</div>\\n\\t\\t</div>\\n\\t</div>\\n</div>\\n\\t\\t\\t<div class=\"col-md-4 col-xl-4 col-lg-4\">\\n\\t<div class=\"card product-wrapper thumbnail\">\\n\\t\\t<div class=\"card-body\">\\n\\t\\t\\t<img class=\"img-fluid card-img-top image img-responsive\" alt=\"item\" src=\"/images/test-sites/e-commerce/items/cart2.png\">\\n\\t\\t\\t<div class=\"caption\">\\n\\t\\t\\t\\t<h4 class=\"float-end price card-title pull-right\">$1362.24</h4>\\n\\t\\t\\t\\t<h4>\\n\\t\\t\\t\\t\\t<a href=\"/test-sites/e-commerce/allinone/product/144\" class=\"title\" title=\"Lenovo ThinkPad Yoga 370 Black\">Lenovo ThinkPa...</a>\\n\\t\\t\\t\\t</h4>\\n\\t\\t\\t\\t<p class=\"description card-text\">Lenovo ThinkPad Yoga 370 Black, 13.3&quot; FHD IPS Touch, Core i5-7200U, 8GB, 256GB SSD, 4G, Windows 10 Pro</p>\\n\\n\\t\\t\\t</div>\\n\\t\\t\\t<div class=\"ratings\">\\n\\t\\t\\t\\t<p class=\"float-end review-count\">12 reviews</p>\\n\\t\\t\\t\\t<p data-rating=\"2\">\\n\\t\\t\\t\\t\\t\\t\\t\\t\\t\\t<span class=\"ws-icon ws-icon-star\"></span>\\n\\t\\t\\t\\t\\t\\t\\t\\t\\t\\t<span class=\"ws-icon ws-icon-star\"></span>\\n\\t\\t\\t\\t\\t\\t\\t\\t\\t</p>\\n\\t\\t\\t</div>\\n\\t\\t</div>\\n\\t</div>\\n</div>\\n\\t\\t\\t<div class=\"col-md-4 col-xl-4 col-lg-4\">\\n\\t<div class=\"card product-wrapper thumbnail\">\\n\\t\\t<div class=\"card-body\">\\n\\t\\t\\t<img class=\"img-fluid card-img-top image img-responsive\" alt=\"item\" src=\"/images/test-sites/e-commerce/items/cart2.png\">\\n\\t\\t\\t<div class=\"caption\">\\n\\t\\t\\t\\t<h4 class=\"float-end price card-title pull-right\">$1366.32</h4>\\n\\t\\t\\t\\t<h4>\\n\\t\\t\\t\\t\\t<a href=\"/test-sites/e-commerce/allinone/product/145\" class=\"title\" title=\"Toshiba Portege X20W-D-10V Black/Blue\">Toshiba Porteg...</a>\\n\\t\\t\\t\\t</h4>\\n\\t\\t\\t\\t<p class=\"description card-text\">Toshiba Portege X20W-D-10V Black/Blue, 12.5&quot; FHD Touch, Core i7-7500U, 8GB, 512GB SSD, Windows 10 Pro</p>\\n\\n\\t\\t\\t</div>\\n\\t\\t\\t<div class=\"ratings\">\\n\\t\\t\\t\\t<p class=\"float-end review-count\">11 reviews</p>\\n\\t\\t\\t\\t<p data-rating=\"1\">\\n\\t\\t\\t\\t\\t\\t\\t\\t\\t\\t<span class=\"ws-icon ws-icon-star\"></span>\\n\\t\\t\\t\\t\\t\\t\\t\\t\\t</p>\\n\\t\\t\\t</div>\\n\\t\\t</div>\\n\\t</div>\\n</div>\\n\\t\\t\\t<div class=\"col-md-4 col-xl-4 col-lg-4\">\\n\\t<div class=\"card product-wrapper thumbnail\">\\n\\t\\t<div class=\"card-body\">\\n\\t\\t\\t<img class=\"img-fluid card-img-top image img-responsive\" alt=\"item\" src=\"/images/test-sites/e-commerce/items/cart2.png\">\\n\\t\\t\\t<div class=\"caption\">\\n\\t\\t\\t\\t<h4 class=\"float-end price card-title pull-right\">$1381.13</h4>\\n\\t\\t\\t\\t<h4>\\n\\t\\t\\t\\t\\t<a href=\"/test-sites/e-commerce/allinone/product/146\" class=\"title\" title=\"Asus ASUSPRO B9440UA-GV0279R Gray\">Asus ASUSPRO B...</a>\\n\\t\\t\\t\\t</h4>\\n\\t\\t\\t\\t<p class=\"description card-text\">Asus ASUSPRO B9440UA-GV0279R Gray, 14&quot; FHD, Core i7-7500U, 16GB, 512GB SSD, Windows 10 Pro, Eng kbd</p>\\n\\n\\t\\t\\t</div>\\n\\t\\t\\t<div class=\"ratings\">\\n\\t\\t\\t\\t<p class=\"float-end review-count\">4 reviews</p>\\n\\t\\t\\t\\t<p data-rating=\"1\">\\n\\t\\t\\t\\t\\t\\t\\t\\t\\t\\t<span class=\"ws-icon ws-icon-star\"></span>\\n\\t\\t\\t\\t\\t\\t\\t\\t\\t</p>\\n\\t\\t\\t</div>\\n\\t\\t</div>\\n\\t</div>\\n</div>\\n\\t\\t\\t<div class=\"col-md-4 col-xl-4 col-lg-4\">\\n\\t<div class=\"card product-wrapper thumbnail\">\\n\\t\\t<div class=\"card-body\">\\n\\t\\t\\t<img class=\"img-fluid card-img-top image img-responsive\" alt=\"item\" src=\"/images/test-sites/e-commerce/items/cart2.png\">\\n\\t\\t\\t<div class=\"caption\">\\n\\t\\t\\t\\t<h4 class=\"float-end price card-title pull-right\">$1399</h4>\\n\\t\\t\\t\\t<h4>\\n\\t\\t\\t\\t\\t<a href=\"/test-sites/e-commerce/allinone/product/56\" class=\"title\" title=\"Lenovo Legion Y720\">Lenovo Legion...</a>\\n\\t\\t\\t\\t</h4>\\n\\t\\t\\t\\t<p class=\"description card-text\">Lenovo Legion Y720, 15.6&quot; FHD IPS, Core i7-7700HQ, 8GB, 128GB SSD + 2TB HDD, GeForce GTX 1060 6GB, DOS, RGB backlit keyboard</p>\\n\\n\\t\\t\\t</div>\\n\\t\\t\\t<div class=\"ratings\">\\n\\t\\t\\t\\t<p class=\"float-end review-count\">8 reviews</p>\\n\\t\\t\\t\\t<p data-rating=\"3\">\\n\\t\\t\\t\\t\\t\\t\\t\\t\\t\\t<span class=\"ws-icon ws-icon-star\"></span>\\n\\t\\t\\t\\t\\t\\t\\t\\t\\t\\t<span class=\"ws-icon ws-icon-star\"></span>\\n\\t\\t\\t\\t\\t\\t\\t\\t\\t\\t<span class=\"ws-icon ws-icon-star\"></span>\\n\\t\\t\\t\\t\\t\\t\\t\\t\\t</p>\\n\\t\\t\\t</div>\\n\\t\\t</div>\\n\\t</div>\\n</div>\\n\\t\\t\\t<div class=\"col-md-4 col-xl-4 col-lg-4\">\\n\\t<div class=\"card product-wrapper thumbnail\">\\n\\t\\t<div class=\"card-body\">\\n\\t\\t\\t<img class=\"img-fluid card-img-top image img-responsive\" alt=\"item\" src=\"/images/test-sites/e-commerce/items/cart2.png\">\\n\\t\\t\\t<div class=\"caption\">\\n\\t\\t\\t\\t<h4 class=\"float-end price card-title pull-right\">$1399</h4>\\n\\t\\t\\t\\t<h4>\\n\\t\\t\\t\\t\\t<a href=\"/test-sites/e-commerce/allinone/product/147\" class=\"title\" title=\"Asus ROG Strix GL702VM-GC146T\">Asus ROG Strix...</a>\\n\\t\\t\\t\\t</h4>\\n\\t\\t\\t\\t<p class=\"description card-text\">Asus ROG Strix GL702VM-GC146T, 17.3&quot; FHD, Core i7-7700HQ, 8GB, 1TB + 128GB SSD, GeForce GTX 1060 3GB, Windows 10 Home, Eng kbd</p>\\n\\n\\t\\t\\t</div>\\n\\t\\t\\t<div class=\"ratings\">\\n\\t\\t\\t\\t<p class=\"float-end review-count\">10 reviews</p>\\n\\t\\t\\t\\t<p data-rating=\"3\">\\n\\t\\t\\t\\t\\t\\t\\t\\t\\t\\t<span class=\"ws-icon ws-icon-star\"></span>\\n\\t\\t\\t\\t\\t\\t\\t\\t\\t\\t<span class=\"ws-icon ws-icon-star\"></span>\\n\\t\\t\\t\\t\\t\\t\\t\\t\\t\\t<span class=\"ws-icon ws-icon-star\"></span>\\n\\t\\t\\t\\t\\t\\t\\t\\t\\t</p>\\n\\t\\t\\t</div>\\n\\t\\t</div>\\n\\t</div>\\n</div>\\n\\t\\t\\t<div class=\"col-md-4 col-xl-4 col-lg-4\">\\n\\t<div class=\"card product-wrapper thumbnail\">\\n\\t\\t<div class=\"card-body\">\\n\\t\\t\\t<img class=\"img-fluid card-img-top image img-responsive\" alt=\"item\" src=\"/images/test-sites/e-commerce/items/cart2.png\">\\n\\t\\t\\t<div class=\"caption\">\\n\\t\\t\\t\\t<h4 class=\"float-end price card-title pull-right\">$1769</h4>\\n\\t\\t\\t\\t<h4>\\n\\t\\t\\t\\t\\t<a href=\"/test-sites/e-commerce/allinone/product/57\" class=\"title\" title=\"Asus ROG Strix GL702ZC-GC154T\">Asus ROG Strix...</a>\\n\\t\\t\\t\\t</h4>\\n\\t\\t\\t\\t<p class=\"description card-text\">Asus ROG Strix GL702ZC-GC154T, 17.3&quot; FHD, Ryzen 7 1700, 16GB, 256GB + 1TB HDD, Radeon RX 580 4GB, Windows 10 Home</p>\\n\\n\\t\\t\\t</div>\\n\\t\\t\\t<div class=\"ratings\">\\n\\t\\t\\t\\t<p class=\"float-end review-count\">7 reviews</p>\\n\\t\\t\\t\\t<p data-rating=\"4\">\\n\\t\\t\\t\\t\\t\\t\\t\\t\\t\\t<span class=\"ws-icon ws-icon-star\"></span>\\n\\t\\t\\t\\t\\t\\t\\t\\t\\t\\t<span class=\"ws-icon ws-icon-star\"></span>\\n\\t\\t\\t\\t\\t\\t\\t\\t\\t\\t<span class=\"ws-icon ws-icon-star\"></span>\\n\\t\\t\\t\\t\\t\\t\\t\\t\\t\\t<span class=\"ws-icon ws-icon-star\"></span>\\n\\t\\t\\t\\t\\t\\t\\t\\t\\t</p>\\n\\t\\t\\t</div>\\n\\t\\t</div>\\n\\t</div>\\n</div>\\n\\t\\t\\t<div class=\"col-md-4 col-xl-4 col-lg-4\">\\n\\t<div class=\"card product-wrapper thumbnail\">\\n\\t\\t<div class=\"card-body\">\\n\\t\\t\\t<img class=\"img-fluid card-img-top image img-responsive\" alt=\"item\" src=\"/images/test-sites/e-commerce/items/cart2.png\">\\n\\t\\t\\t<div class=\"caption\">\\n\\t\\t\\t\\t<h4 class=\"float-end price card-title pull-right\">$1769</h4>\\n\\t\\t\\t\\t<h4>\\n\\t\\t\\t\\t\\t<a href=\"/test-sites/e-commerce/allinone/product/58\" class=\"title\" title=\"Asus ROG Strix GL702ZC-GC209T\">Asus ROG Strix...</a>\\n\\t\\t\\t\\t</h4>\\n\\t\\t\\t\\t<p class=\"description card-text\">Asus ROG Strix GL702ZC-GC209T, 17.3&quot; FHD IPS, Ryzen 7 1700, 16GB, 256GB SSD + 1TB HDD, Radeon RX 580 4GB, Windows 10 Home</p>\\n\\n\\t\\t\\t</div>\\n\\t\\t\\t<div class=\"ratings\">\\n\\t\\t\\t\\t<p class=\"float-end review-count\">8 reviews</p>\\n\\t\\t\\t\\t<p data-rating=\"1\">\\n\\t\\t\\t\\t\\t\\t\\t\\t\\t\\t<span class=\"ws-icon ws-icon-star\"></span>\\n\\t\\t\\t\\t\\t\\t\\t\\t\\t</p>\\n\\t\\t\\t</div>\\n\\t\\t</div>\\n\\t</div>\\n</div>\\n\\t\\t\\t<div class=\"col-md-4 col-xl-4 col-lg-4\">\\n\\t<div class=\"card product-wrapper thumbnail\">\\n\\t\\t<div class=\"card-body\">\\n\\t\\t\\t<img class=\"img-fluid card-img-top image img-responsive\" alt=\"item\" src=\"/images/test-sites/e-commerce/items/cart2.png\">\\n\\t\\t\\t<div class=\"caption\">\\n\\t\\t\\t\\t<h4 class=\"float-end price card-title pull-right\">$1799</h4>\\n\\t\\t\\t\\t<h4>\\n\\t\\t\\t\\t\\t<a href=\"/test-sites/e-commerce/allinone/product/59\" class=\"title\" title=\"Asus ROG Strix SCAR Edition GL503VM-ED115T\">Asus ROG Strix...</a>\\n\\t\\t\\t\\t</h4>\\n\\t\\t\\t\\t<p class=\"description card-text\">Asus ROG Strix SCAR Edition GL503VM-ED115T, 15.6&quot; FHD 120Hz, Core i7-7700HQ, 16GB, 256GB SSD + 1TB SSHD, GeForce GTX 1060 6GB, Windows 10 Home</p>\\n\\n\\t\\t\\t</div>\\n\\t\\t\\t<div class=\"ratings\">\\n\\t\\t\\t\\t<p class=\"float-end review-count\">8 reviews</p>\\n\\t\\t\\t\\t<p data-rating=\"3\">\\n\\t\\t\\t\\t\\t\\t\\t\\t\\t\\t<span class=\"ws-icon ws-icon-star\"></span>\\n\\t\\t\\t\\t\\t\\t\\t\\t\\t\\t<span class=\"ws-icon ws-icon-star\"></span>\\n\\t\\t\\t\\t\\t\\t\\t\\t\\t\\t<span class=\"ws-icon ws-icon-star\"></span>\\n\\t\\t\\t\\t\\t\\t\\t\\t\\t</p>\\n\\t\\t\\t</div>\\n\\t\\t</div>\\n\\t</div>\\n</div>\\n\\t</div>\\n\\n<div id=\"static-pagination\">\\n\\t</div>\\n\\n\\t\\t\\t</div>\\n\\t\\t</div>\\n\\t</div>\\n\\t<div class=\"clearfix\"></div>\\n\\t<div class=\"push\"></div>\\n</div>\\n\\n<div class=\"container-fluid footer\" id=\"layout-footer\">\\n\\t<div class=\"container\">\\n\\t\\t<div class=\"row\">\\n\\t\\t\\t<div class=\"col-lg-3\">\\n\\t\\t\\t\\t<ul>\\n\\t\\t\\t\\t\\t<li><p>Products</p></li>\\n\\t\\t\\t\\t\\t<li>\\n\\t\\t\\t\\t\\t\\t<a href=\"/\">Web Scraper browser extension</a>\\n\\t\\t\\t\\t\\t</li>\\n\\t\\t\\t\\t\\t<li>\\n\\t\\t\\t\\t\\t\\t<a href=\"/pricing\">Web Scraper Cloud</a>\\n\\t\\t\\t\\t\\t</li>\\n\\t\\t\\t\\t</ul>\\n\\t\\t\\t</div>\\n\\t\\t\\t<div class=\"col-lg-3\">\\n\\t\\t\\t\\t<ul>\\n\\t\\t\\t\\t\\t<li><p>Company</p></li>\\n\\t\\t\\t\\t\\t<li>\\n\\t\\t\\t\\t\\t\\t<a href=\"/about-us\">About us</a>\\n\\t\\t\\t\\t\\t</li>\\n\\t\\t\\t\\t\\t<li>\\n\\t\\t\\t\\t\\t\\t<a href=\"/contact\">Contact</a>\\n\\t\\t\\t\\t\\t</li>\\n\\t\\t\\t\\t\\t<li>\\n\\t\\t\\t\\t\\t\\t<a href=\"/privacy-policy\">Website Privacy Policy</a>\\n\\t\\t\\t\\t\\t</li>\\n\\t\\t\\t\\t\\t<li>\\n\\t\\t\\t\\t\\t\\t<a href=\"/extension-privacy-policy\">Browser Extension Privacy Policy</a>\\n\\t\\t\\t\\t\\t</li>\\n\\t\\t\\t\\t\\t<li>\\n\\t\\t\\t\\t\\t\\t<a href=\"https://webscraper.io/downloads/Web_Scraper_Media_Kit.zip\">Media kit</a>\\n\\t\\t\\t\\t\\t</li>\\n\\t\\t\\t\\t\\t<li><a href=\"/jobs\">Jobs</a></li>\\n\\t\\t\\t\\t</ul>\\n\\t\\t\\t</div>\\n\\t\\t\\t<div class=\"col-lg-3\">\\n\\t\\t\\t\\t<ul>\\n\\t\\t\\t\\t\\t<li><p>Resources</p></li>\\n\\t\\t\\t\\t\\t<li><a href=\"/blog\">Blog</a></li>\\n\\t\\t\\t\\t\\t<li>\\n\\t\\t\\t\\t\\t\\t<a href=\"/documentation\">Documentation</a>\\n\\t\\t\\t\\t\\t</li>\\n\\t\\t\\t\\t\\t<li>\\n\\t\\t\\t\\t\\t\\t<a href=\"/tutorials\">Video Tutorials</a>\\n\\t\\t\\t\\t\\t</li>\\n\\t\\t\\t\\t\\t<li>\\n\\t\\t\\t\\t\\t\\t<a href=\"/screenshots\">Screenshots</a>\\n\\t\\t\\t\\t\\t</li>\\n\\t\\t\\t\\t\\t<li>\\n\\t\\t\\t\\t\\t\\t<a href=\"/test-sites\">Test Sites</a>\\n\\t\\t\\t\\t\\t</li>\\n\\t\\t\\t\\t\\t<li>\\n\\t\\t\\t\\t\\t\\t<a target=\"_blank\" href=\"https://forum.webscraper.io/\" rel=\"noopener\">Forum</a>\\n\\t\\t\\t\\t\\t</li>\\n\\t\\t\\t\\t\\t<li>\\n\\t\\t\\t\\t\\t\\t<a target=\"_blank\" href=\"https://status.webscraper.io/\" rel=\"noopener\">Status</a>\\n\\t\\t\\t\\t\\t</li>\\n\\t\\t\\t\\t</ul>\\n\\t\\t\\t</div>\\n\\t\\t\\t<div class=\"col-lg-3\">\\n\\t\\t\\t\\t<ul>\\n\\t\\t\\t\\t\\t<li><p>CONTACT US</p></li>\\n\\t\\t\\t\\t\\t<li>\\n\\t\\t\\t\\t\\t\\t<a href=\"mailto:info@webscraper.io\">info@webscraper.io</a>\\n\\t\\t\\t\\t\\t</li>\\n\\t\\t\\t\\t\\t<li>Ubelu 5-71,<br> Adazi, Latvia, LV-2164</li>\\n\\t\\t\\t\\t</ul>\\n\\t\\t\\t\\t<ul class=\"smedia\">\\n\\t\\t\\t\\t\\t<li>\\n\\t\\t\\t\\t\\t\\t<a href=\"https://www.facebook.com/webscraperio/\" target=\"_blank\" rel=\"noopener\">\\n\\t\\t\\t\\t\\t\\t\\t<i class=\"ws-icon ws-icon-facebook-f\"></i>\\n\\t\\t\\t\\t\\t\\t</a>\\n\\t\\t\\t\\t\\t</li>\\n\\t\\t\\t\\t\\t<li>\\n\\t\\t\\t\\t\\t\\t<a href=\"https://twitter.com/webscraperio\" target=\"_blank\" rel=\"noopener\">\\n\\t\\t\\t\\t\\t\\t\\t<i class=\"ws-icon ws-icon-twitter\"></i>\\n\\t\\t\\t\\t\\t\\t</a>\\n\\t\\t\\t\\t\\t</li>\\n\\t\\t\\t\\t</ul>\\n\\t\\t\\t</div>\\n\\t\\t</div>\\n\\t\\t<div class=\"row\">\\n\\t\\t\\t<div class=\"col-lg-12\">\\n\\t\\t\\t\\t<p class=\"copyright\">Copyright &copy 2024\\n\\t\\t\\t\\t\\t<a href=\"#\">Web Scraper</a> | All rights\\n\\t\\t\\t\\t\\treserved</p>\\n\\t\\t\\t</div>\\n\\t\\t</div>\\n\\t</div>\\n</div>\\n\\n\\n</body>\\n</html>\\n'"
      ]
     },
     "execution_count": 20,
     "metadata": {},
     "output_type": "execute_result"
    }
   ],
   "source": [
    "request.text"
   ]
  },
  {
   "cell_type": "code",
   "execution_count": 37,
   "id": "80163704",
   "metadata": {},
   "outputs": [],
   "source": [
    "titles = []\n",
    "prices = []\n",
    "ratings = []\n",
    "url ='https://webscraper.io/test-sites/e-commerce/allinone/computers/laptops'\n",
    "request = requests.get(url)\n",
    "soup = BeautifulSoup(request.text,\"html.parser\")"
   ]
  },
  {
   "cell_type": "code",
   "execution_count": 38,
   "id": "e08bad5c",
   "metadata": {},
   "outputs": [],
   "source": [
    "for product in soup.find_all('div',{'class':'col-sm-4 col-lg-4 col-md-4'}):\n",
    "    for pr in product.find_all('div',{'class':'caption'}):\n",
    "        for p in pr.find_all('h4',{'class':'pull-right price'}):\n",
    "            prices.append(p.text)\n",
    "        for title in pr.find_all('a',{'title'}):\n",
    "            titles.append(title.get('title'))\n",
    "    for rt in product.find_all('div',{'class':'ratings'}):\n",
    "        ratings.append(len(rt.find_all('span',{'class':'glyphicon glyphicon-star'})))"
   ]
  },
  {
   "cell_type": "code",
   "execution_count": 39,
   "id": "aea62bd5",
   "metadata": {},
   "outputs": [],
   "source": [
    "product_df = pd.DataFrame(zip(titles,prices,ratings),columns=['Titles','Prices','Ratings'])"
   ]
  },
  {
   "cell_type": "code",
   "execution_count": 40,
   "id": "469856f0",
   "metadata": {},
   "outputs": [
    {
     "data": {
      "text/html": [
       "<div>\n",
       "<style scoped>\n",
       "    .dataframe tbody tr th:only-of-type {\n",
       "        vertical-align: middle;\n",
       "    }\n",
       "\n",
       "    .dataframe tbody tr th {\n",
       "        vertical-align: top;\n",
       "    }\n",
       "\n",
       "    .dataframe thead th {\n",
       "        text-align: right;\n",
       "    }\n",
       "</style>\n",
       "<table border=\"1\" class=\"dataframe\">\n",
       "  <thead>\n",
       "    <tr style=\"text-align: right;\">\n",
       "      <th></th>\n",
       "      <th>Titles</th>\n",
       "      <th>Prices</th>\n",
       "      <th>Ratings</th>\n",
       "    </tr>\n",
       "  </thead>\n",
       "  <tbody>\n",
       "  </tbody>\n",
       "</table>\n",
       "</div>"
      ],
      "text/plain": [
       "Empty DataFrame\n",
       "Columns: [Titles, Prices, Ratings]\n",
       "Index: []"
      ]
     },
     "execution_count": 40,
     "metadata": {},
     "output_type": "execute_result"
    }
   ],
   "source": [
    "product_df"
   ]
  },
  {
   "cell_type": "code",
   "execution_count": null,
   "id": "45c53dcc",
   "metadata": {},
   "outputs": [],
   "source": []
  },
  {
   "cell_type": "code",
   "execution_count": 41,
   "id": "b94d1cdf",
   "metadata": {},
   "outputs": [],
   "source": [
    "#!pip install requests\n",
    "#!pip install beautifulsoup4\n",
    "#!pip install pandas\n",
    "\n",
    "import requests\n",
    "from bs4 import BeautifulSoup\n",
    "import pandas as pd\n",
    "\n",
    "titles = []\n",
    "prices = []\n",
    "ratings = []\n",
    "url = 'https://webscraper.io/test-sites/e-commerce/allinone/computers/laptops'\n",
    "request = requests.get(url)\n",
    "soup = BeautifulSoup(request.text, \"html.parser\")\n",
    "for product in soup.find_all('div', {'class': 'col-sm-4 col-lg-4 col-md-4'}):\n",
    "    for pr in product.find_all('div', {'class': 'caption'}):\n",
    "        for p in pr.find_all('h4', {'class': 'pull-right price'}):\n",
    "            prices.append(p.text)\n",
    "        for title in pr.find_all('a' , {'title'}):\n",
    "            titles.append(title.get('title'))\n",
    "    for rt in product.find_all('div', {'class': 'ratings'}):\n",
    "        ratings.append(len(rt.find_all('span', {'class': 'glyphicon glyphicon-star'})))\n",
    "\n",
    "\n",
    "            \n",
    "product_df = pd.DataFrame(zip(titles,prices,ratings), columns =['Titles', 'Prices', 'Ratings'])  \n",
    "product_df.head()\n",
    "product_df.to_csv(\"ecommerce.csv\",index=False)"
   ]
  },
  {
   "cell_type": "code",
   "execution_count": null,
   "id": "63d98cad",
   "metadata": {},
   "outputs": [],
   "source": []
  }
 ],
 "metadata": {
  "kernelspec": {
   "display_name": "Python 3 (ipykernel)",
   "language": "python",
   "name": "python3"
  },
  "language_info": {
   "codemirror_mode": {
    "name": "ipython",
    "version": 3
   },
   "file_extension": ".py",
   "mimetype": "text/x-python",
   "name": "python",
   "nbconvert_exporter": "python",
   "pygments_lexer": "ipython3",
   "version": "3.11.0"
  }
 },
 "nbformat": 4,
 "nbformat_minor": 5
}
